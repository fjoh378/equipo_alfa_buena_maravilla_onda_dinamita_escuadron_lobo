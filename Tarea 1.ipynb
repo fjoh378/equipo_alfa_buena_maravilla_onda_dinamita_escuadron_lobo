{
 "cells": [
  {
   "cell_type": "markdown",
   "metadata": {},
   "source": [
    "# Tarea 1"
   ]
  },
  {
   "cell_type": "markdown",
   "metadata": {},
   "source": [
    "*Integrantes:* \n",
    "* Fuentes Fuentes Adrián \n",
    "* Olivares Hernández Francisco Javier\n",
    "* Ramírez Montes Jonathan Natael \n",
    "* Sánchez Romero Paulina Michelle"
   ]
  },
  {
   "cell_type": "markdown",
   "metadata": {},
   "source": [
    "### Problema 1: \n",
    "\n",
    "El objetivo de las bases es que realicemos un modelo de clasificación para poder contestar la siguiente pregunta:\n",
    "\n",
    "* *¿Damos un crédito bancario o no?* \\\n",
    "Para empezar con la exploración de la base, tendrán que generar un análisis descriptivo de la información que les compartiré:\\\n",
    " **1.-** Los campos *_id_* que son los identificadores de la información.\\\n",
    " **2.-** *base_ini_interna.* \\\n",
    " **3.-** *base_ini_parte1.* \\\n",
    " **4.-** *base_ini_externa.* \\\n",
    " **5.-** *bases de comportamiento.* \\\n",
    " **6.-** *base_inversión*, es una variable simulada de una gamma. \\\n",
    " **7.-** Cuando una variable es categórica, está implícito en el nombre de la base. No tenemos un diccionario, simplemente que son categóricas. \\\n",
    " **8.-** El resto entonces son continuas. Es decir, los nombre estám enmascarados, ni siquiera yo sé qué significan.\n",
    "$\\newline$\n",
    "* *¿Cómo hago los cruces?* \\\n",
    "Exploren la información.\n",
    "$\\newline$\n",
    "* *¿Qué análisis puedo realizar?* \\\n",
    "Exploren ustedes, apóyense de los comportamientos de los ids.\n",
    "$\\newline$\n",
    "* Pero... *¿Las preguntas son abiertas?* \\\n",
    "Así es, quiero que exploren. Hay bases que vienen en csv y otras en txt. Vean como tratarlas."
   ]
  },
  {
   "cell_type": "code",
   "execution_count": 1,
   "metadata": {},
   "outputs": [],
   "source": [
    "#Importamos las paqueterías necesarias para poder manipular los datos con los que trabajaremos.\n",
    "\n",
    "#Manipulación de bases de datos.\n",
    "import pandas as pd\n",
    "\n",
    "#Importamos csv para manipular bases de datos que tengan ese formato.\n",
    "import csv\n",
    "\n",
    "#Importamos esta paquetería para poder mostrar gráficas e información estadística de forma más detallada.\n",
    "import seaborn as sns\n",
    "\n",
    "#Manejo de matrices, vectores y operaciones con arreglos.\n",
    "import numpy as np\n",
    "\n",
    "#Creación de gráficas.\n",
    "import matplotlib.pyplot as plt\n",
    "\n",
    "#Manipulación de datos con un formato de fecha.\n",
    "from datetime import datetime, timedelta\n",
    "\n",
    "#Importamos esta paquetería para poder realizar operaciones estadísticas de regresión lineal.\n",
    "from sklearn.linear_model import LinearRegression\n",
    "\n",
    "#Lo utilizaremos para obtener el coeficiente de correlación de variables no paramétricas que se encuentran entre dos conjuntos de datos.\n",
    "from scipy.stats import spearmanr\n",
    "\n",
    "#Importamos science python para utilizar funciones estadísticas\n",
    "import scipy"
   ]
  },
  {
   "cell_type": "code",
   "execution_count": 2,
   "metadata": {},
   "outputs": [],
   "source": [
    "#Asignamos una variable a la ruta en la que se encuentran almacendas las bases de datos en nuestro equipo.\n",
    "path = 'C:/Users/Dell/Documents/workspacePython/Tarea 1/'"
   ]
  },
  {
   "cell_type": "code",
   "execution_count": 3,
   "metadata": {},
   "outputs": [
    {
     "data": {
      "text/html": [
       "<div>\n",
       "<style scoped>\n",
       "    .dataframe tbody tr th:only-of-type {\n",
       "        vertical-align: middle;\n",
       "    }\n",
       "\n",
       "    .dataframe tbody tr th {\n",
       "        vertical-align: top;\n",
       "    }\n",
       "\n",
       "    .dataframe thead th {\n",
       "        text-align: right;\n",
       "    }\n",
       "</style>\n",
       "<table border=\"1\" class=\"dataframe\">\n",
       "  <thead>\n",
       "    <tr style=\"text-align: right;\">\n",
       "      <th></th>\n",
       "      <th>_id_</th>\n",
       "      <th>fecha_inicio</th>\n",
       "      <th>comp_interno1</th>\n",
       "      <th>comp_interno2</th>\n",
       "      <th>comp_interno3</th>\n",
       "      <th>comp_interno4</th>\n",
       "      <th>categoria1</th>\n",
       "      <th>categoria2</th>\n",
       "      <th>categoria3</th>\n",
       "    </tr>\n",
       "  </thead>\n",
       "  <tbody>\n",
       "    <tr>\n",
       "      <th>0</th>\n",
       "      <td>78213</td>\n",
       "      <td>2020-03-25</td>\n",
       "      <td>0.000000</td>\n",
       "      <td>b'0'</td>\n",
       "      <td>11.0</td>\n",
       "      <td>58.0</td>\n",
       "      <td>2.0</td>\n",
       "      <td>9.0</td>\n",
       "      <td>156.0</td>\n",
       "    </tr>\n",
       "    <tr>\n",
       "      <th>1</th>\n",
       "      <td>76457</td>\n",
       "      <td>2020-02-13</td>\n",
       "      <td>0.000000</td>\n",
       "      <td>b'1'</td>\n",
       "      <td>28.0</td>\n",
       "      <td>45.0</td>\n",
       "      <td>1.0</td>\n",
       "      <td>4.0</td>\n",
       "      <td>173.0</td>\n",
       "    </tr>\n",
       "    <tr>\n",
       "      <th>2</th>\n",
       "      <td>40666</td>\n",
       "      <td>2018-01-24</td>\n",
       "      <td>0.000000</td>\n",
       "      <td>b'1'</td>\n",
       "      <td>25.0</td>\n",
       "      <td>45.0</td>\n",
       "      <td>1.0</td>\n",
       "      <td>9.0</td>\n",
       "      <td>170.0</td>\n",
       "    </tr>\n",
       "    <tr>\n",
       "      <th>3</th>\n",
       "      <td>8329</td>\n",
       "      <td>2016-10-07</td>\n",
       "      <td>0.000000</td>\n",
       "      <td>b'1'</td>\n",
       "      <td>14.0</td>\n",
       "      <td>59.0</td>\n",
       "      <td>3.0</td>\n",
       "      <td>3.0</td>\n",
       "      <td>159.0</td>\n",
       "    </tr>\n",
       "    <tr>\n",
       "      <th>4</th>\n",
       "      <td>68389</td>\n",
       "      <td>2019-07-30</td>\n",
       "      <td>2026.342452</td>\n",
       "      <td>b'1'</td>\n",
       "      <td>1.0</td>\n",
       "      <td>67.0</td>\n",
       "      <td>2.0</td>\n",
       "      <td>9.0</td>\n",
       "      <td>146.0</td>\n",
       "    </tr>\n",
       "  </tbody>\n",
       "</table>\n",
       "</div>"
      ],
      "text/plain": [
       "    _id_ fecha_inicio  comp_interno1 comp_interno2  comp_interno3  \\\n",
       "0  78213   2020-03-25       0.000000          b'0'           11.0   \n",
       "1  76457   2020-02-13       0.000000          b'1'           28.0   \n",
       "2  40666   2018-01-24       0.000000          b'1'           25.0   \n",
       "3   8329   2016-10-07       0.000000          b'1'           14.0   \n",
       "4  68389   2019-07-30    2026.342452          b'1'            1.0   \n",
       "\n",
       "   comp_interno4  categoria1  categoria2  categoria3  \n",
       "0           58.0         2.0         9.0       156.0  \n",
       "1           45.0         1.0         4.0       173.0  \n",
       "2           45.0         1.0         9.0       170.0  \n",
       "3           59.0         3.0         3.0       159.0  \n",
       "4           67.0         2.0         9.0       146.0  "
      ]
     },
     "execution_count": 3,
     "metadata": {},
     "output_type": "execute_result"
    }
   ],
   "source": [
    "#Importamos la base de datos \"base_ini_interna.csv\".\n",
    "base_ini_interna = pd.read_csv(path + \"base_ini_interna.csv\", parse_dates = ['fecha_inicio'])\n",
    "#Mostramos las primeras 5 filas de la base de datos importada.\n",
    "base_ini_interna.head()"
   ]
  },
  {
   "cell_type": "code",
   "execution_count": 4,
   "metadata": {},
   "outputs": [
    {
     "data": {
      "text/html": [
       "<div>\n",
       "<style scoped>\n",
       "    .dataframe tbody tr th:only-of-type {\n",
       "        vertical-align: middle;\n",
       "    }\n",
       "\n",
       "    .dataframe tbody tr th {\n",
       "        vertical-align: top;\n",
       "    }\n",
       "\n",
       "    .dataframe thead th {\n",
       "        text-align: right;\n",
       "    }\n",
       "</style>\n",
       "<table border=\"1\" class=\"dataframe\">\n",
       "  <thead>\n",
       "    <tr style=\"text-align: right;\">\n",
       "      <th></th>\n",
       "      <th>_id_</th>\n",
       "      <th>_id2_</th>\n",
       "      <th>comp_mixto1</th>\n",
       "    </tr>\n",
       "  </thead>\n",
       "  <tbody>\n",
       "    <tr>\n",
       "      <th>0</th>\n",
       "      <td>78213</td>\n",
       "      <td>1798899</td>\n",
       "      <td>0.33522</td>\n",
       "    </tr>\n",
       "    <tr>\n",
       "      <th>1</th>\n",
       "      <td>76457</td>\n",
       "      <td>1758511</td>\n",
       "      <td>0.33334</td>\n",
       "    </tr>\n",
       "    <tr>\n",
       "      <th>2</th>\n",
       "      <td>40666</td>\n",
       "      <td>935318</td>\n",
       "      <td>0.29186</td>\n",
       "    </tr>\n",
       "    <tr>\n",
       "      <th>3</th>\n",
       "      <td>8329</td>\n",
       "      <td>191567</td>\n",
       "      <td>0.29112</td>\n",
       "    </tr>\n",
       "    <tr>\n",
       "      <th>4</th>\n",
       "      <td>68389</td>\n",
       "      <td>1572947</td>\n",
       "      <td>0.27318</td>\n",
       "    </tr>\n",
       "  </tbody>\n",
       "</table>\n",
       "</div>"
      ],
      "text/plain": [
       "    _id_    _id2_  comp_mixto1\n",
       "0  78213  1798899      0.33522\n",
       "1  76457  1758511      0.33334\n",
       "2  40666   935318      0.29186\n",
       "3   8329   191567      0.29112\n",
       "4  68389  1572947      0.27318"
      ]
     },
     "execution_count": 4,
     "metadata": {},
     "output_type": "execute_result"
    }
   ],
   "source": [
    "#Importamos la base de datos \"base_ini_parte1.csv\".\n",
    "base_ini_parte1 = pd.read_csv(path + \"base_ini_parte1.csv\")\n",
    "#Mostramos las primeras 5 filas de la base de datos importada.\n",
    "base_ini_parte1.head()"
   ]
  },
  {
   "cell_type": "code",
   "execution_count": 5,
   "metadata": {},
   "outputs": [
    {
     "data": {
      "text/html": [
       "<div>\n",
       "<style scoped>\n",
       "    .dataframe tbody tr th:only-of-type {\n",
       "        vertical-align: middle;\n",
       "    }\n",
       "\n",
       "    .dataframe tbody tr th {\n",
       "        vertical-align: top;\n",
       "    }\n",
       "\n",
       "    .dataframe thead th {\n",
       "        text-align: right;\n",
       "    }\n",
       "</style>\n",
       "<table border=\"1\" class=\"dataframe\">\n",
       "  <thead>\n",
       "    <tr style=\"text-align: right;\">\n",
       "      <th></th>\n",
       "      <th>_id2_</th>\n",
       "      <th>inversion</th>\n",
       "    </tr>\n",
       "  </thead>\n",
       "  <tbody>\n",
       "    <tr>\n",
       "      <th>0</th>\n",
       "      <td>1758511</td>\n",
       "      <td>0.041039</td>\n",
       "    </tr>\n",
       "    <tr>\n",
       "      <th>1</th>\n",
       "      <td>1572947</td>\n",
       "      <td>77.422135</td>\n",
       "    </tr>\n",
       "    <tr>\n",
       "      <th>2</th>\n",
       "      <td>1051836</td>\n",
       "      <td>90.539953</td>\n",
       "    </tr>\n",
       "    <tr>\n",
       "      <th>3</th>\n",
       "      <td>1223255</td>\n",
       "      <td>90.205018</td>\n",
       "    </tr>\n",
       "    <tr>\n",
       "      <th>4</th>\n",
       "      <td>1894602</td>\n",
       "      <td>1.071354</td>\n",
       "    </tr>\n",
       "  </tbody>\n",
       "</table>\n",
       "</div>"
      ],
      "text/plain": [
       "     _id2_  inversion\n",
       "0  1758511   0.041039\n",
       "1  1572947  77.422135\n",
       "2  1051836  90.539953\n",
       "3  1223255  90.205018\n",
       "4  1894602   1.071354"
      ]
     },
     "execution_count": 5,
     "metadata": {},
     "output_type": "execute_result"
    }
   ],
   "source": [
    "#Importamos la base de datos \"base_inversion.txt\".\n",
    "base_inversion = pd.read_table(path + \"base_inversion.txt\", delimiter = ' ')\n",
    "#Mostramos las primeras 5 filas de la base de datos importada.\n",
    "base_inversion.head()"
   ]
  },
  {
   "cell_type": "code",
   "execution_count": 6,
   "metadata": {},
   "outputs": [
    {
     "data": {
      "text/html": [
       "<div>\n",
       "<style scoped>\n",
       "    .dataframe tbody tr th:only-of-type {\n",
       "        vertical-align: middle;\n",
       "    }\n",
       "\n",
       "    .dataframe tbody tr th {\n",
       "        vertical-align: top;\n",
       "    }\n",
       "\n",
       "    .dataframe thead th {\n",
       "        text-align: right;\n",
       "    }\n",
       "</style>\n",
       "<table border=\"1\" class=\"dataframe\">\n",
       "  <thead>\n",
       "    <tr style=\"text-align: right;\">\n",
       "      <th></th>\n",
       "      <th>_id_</th>\n",
       "      <th>comp_externo1</th>\n",
       "      <th>comp_externo2</th>\n",
       "      <th>comp_externo3</th>\n",
       "      <th>comp_externo4</th>\n",
       "    </tr>\n",
       "  </thead>\n",
       "  <tbody>\n",
       "    <tr>\n",
       "      <th>0</th>\n",
       "      <td>78213</td>\n",
       "      <td>260.869565</td>\n",
       "      <td>25.854639</td>\n",
       "      <td>56.0</td>\n",
       "      <td>-230.0</td>\n",
       "    </tr>\n",
       "    <tr>\n",
       "      <th>1</th>\n",
       "      <td>76457</td>\n",
       "      <td>40.579710</td>\n",
       "      <td>2.872738</td>\n",
       "      <td>62.0</td>\n",
       "      <td>-230.0</td>\n",
       "    </tr>\n",
       "    <tr>\n",
       "      <th>2</th>\n",
       "      <td>40666</td>\n",
       "      <td>NaN</td>\n",
       "      <td>NaN</td>\n",
       "      <td>119.0</td>\n",
       "      <td>-230.0</td>\n",
       "    </tr>\n",
       "    <tr>\n",
       "      <th>3</th>\n",
       "      <td>8329</td>\n",
       "      <td>349.275362</td>\n",
       "      <td>34.616490</td>\n",
       "      <td>94.0</td>\n",
       "      <td>-230.0</td>\n",
       "    </tr>\n",
       "    <tr>\n",
       "      <th>4</th>\n",
       "      <td>68389</td>\n",
       "      <td>276.811594</td>\n",
       "      <td>27.434645</td>\n",
       "      <td>125.0</td>\n",
       "      <td>-230.0</td>\n",
       "    </tr>\n",
       "  </tbody>\n",
       "</table>\n",
       "</div>"
      ],
      "text/plain": [
       "    _id_  comp_externo1  comp_externo2  comp_externo3  comp_externo4\n",
       "0  78213     260.869565      25.854639           56.0         -230.0\n",
       "1  76457      40.579710       2.872738           62.0         -230.0\n",
       "2  40666            NaN            NaN          119.0         -230.0\n",
       "3   8329     349.275362      34.616490           94.0         -230.0\n",
       "4  68389     276.811594      27.434645          125.0         -230.0"
      ]
     },
     "execution_count": 6,
     "metadata": {},
     "output_type": "execute_result"
    }
   ],
   "source": [
    "#Importamos la base de datos \"base_ini_externa.txt\".\n",
    "base_ini_externa = pd.read_csv(path + \"base_ini_externa.txt\", delimiter = ' ')\n",
    "#Mostramos las primeras 5 filas de la base de datos importada.\n",
    "base_ini_externa.head()"
   ]
  },
  {
   "cell_type": "markdown",
   "metadata": {},
   "source": [
    "##### Cruce de base base_ini_parte1 con base_inversion"
   ]
  },
  {
   "cell_type": "code",
   "execution_count": 7,
   "metadata": {},
   "outputs": [],
   "source": [
    "#Cruzamos las tablas tomando como referencia las tuplas de la tabla izquierda (base_ini_parte1), haciendo el enlace por medio de la columna en común \"_id2_\" y obteniendo de la tabla derecha (base_inversion) la columna \"inversion\".\n",
    "c_0 = pd.merge(base_ini_parte1, base_inversion, on = ['_id2_'], how = 'left')"
   ]
  },
  {
   "cell_type": "code",
   "execution_count": 8,
   "metadata": {},
   "outputs": [],
   "source": [
    "#En esta nueva tabla generada a través del cruce, a la columna \"inversion\" le reemplazamos los valores no disponibles (NA) por ceros.\n",
    "c_0['inversion'].fillna(0, inplace = True)"
   ]
  },
  {
   "cell_type": "code",
   "execution_count": 9,
   "metadata": {},
   "outputs": [
    {
     "data": {
      "text/html": [
       "<div>\n",
       "<style scoped>\n",
       "    .dataframe tbody tr th:only-of-type {\n",
       "        vertical-align: middle;\n",
       "    }\n",
       "\n",
       "    .dataframe tbody tr th {\n",
       "        vertical-align: top;\n",
       "    }\n",
       "\n",
       "    .dataframe thead th {\n",
       "        text-align: right;\n",
       "    }\n",
       "</style>\n",
       "<table border=\"1\" class=\"dataframe\">\n",
       "  <thead>\n",
       "    <tr style=\"text-align: right;\">\n",
       "      <th></th>\n",
       "      <th>_id_</th>\n",
       "      <th>_id2_</th>\n",
       "      <th>comp_mixto1</th>\n",
       "      <th>inversion</th>\n",
       "    </tr>\n",
       "  </thead>\n",
       "  <tbody>\n",
       "    <tr>\n",
       "      <th>0</th>\n",
       "      <td>78213</td>\n",
       "      <td>1798899</td>\n",
       "      <td>0.33522</td>\n",
       "      <td>0.000000</td>\n",
       "    </tr>\n",
       "    <tr>\n",
       "      <th>1</th>\n",
       "      <td>76457</td>\n",
       "      <td>1758511</td>\n",
       "      <td>0.33334</td>\n",
       "      <td>0.041039</td>\n",
       "    </tr>\n",
       "    <tr>\n",
       "      <th>2</th>\n",
       "      <td>40666</td>\n",
       "      <td>935318</td>\n",
       "      <td>0.29186</td>\n",
       "      <td>0.000000</td>\n",
       "    </tr>\n",
       "    <tr>\n",
       "      <th>3</th>\n",
       "      <td>8329</td>\n",
       "      <td>191567</td>\n",
       "      <td>0.29112</td>\n",
       "      <td>0.000000</td>\n",
       "    </tr>\n",
       "    <tr>\n",
       "      <th>4</th>\n",
       "      <td>68389</td>\n",
       "      <td>1572947</td>\n",
       "      <td>0.27318</td>\n",
       "      <td>77.422135</td>\n",
       "    </tr>\n",
       "  </tbody>\n",
       "</table>\n",
       "</div>"
      ],
      "text/plain": [
       "    _id_    _id2_  comp_mixto1  inversion\n",
       "0  78213  1798899      0.33522   0.000000\n",
       "1  76457  1758511      0.33334   0.041039\n",
       "2  40666   935318      0.29186   0.000000\n",
       "3   8329   191567      0.29112   0.000000\n",
       "4  68389  1572947      0.27318  77.422135"
      ]
     },
     "execution_count": 9,
     "metadata": {},
     "output_type": "execute_result"
    }
   ],
   "source": [
    "#Mostramos las primeras 5 filas de la tabla generada a través del cruce.\n",
    "c_0.head()"
   ]
  },
  {
   "cell_type": "code",
   "execution_count": 10,
   "metadata": {},
   "outputs": [],
   "source": [
    "#Asignamos a una variable los valores de la columna \"_id_\" que se encuentran en la tabla \"base_ini_interna\" y los ordenamos de forma ascendente.\n",
    "x = base_ini_interna[\"_id_\"].sort_values(ascending = True)"
   ]
  },
  {
   "cell_type": "code",
   "execution_count": 11,
   "metadata": {},
   "outputs": [],
   "source": [
    "#Asignamos a una variable los valores de la columna \"_id_\" que se encuentran en la tabla \"base_ini_externa\" y los ordenamos de forma ascendente.\n",
    "y = base_ini_externa[\"_id_\"].sort_values(ascending = True)"
   ]
  },
  {
   "cell_type": "code",
   "execution_count": 12,
   "metadata": {},
   "outputs": [],
   "source": [
    "#Asignamos a una variable el resultado obtenido al comparar los datos de las columnas \"_id_\" que se encuentran en las tablas \"base_ini_interna\" y \"base_ini_externa\".\n",
    "z = (x == y)"
   ]
  },
  {
   "cell_type": "code",
   "execution_count": 13,
   "metadata": {},
   "outputs": [
    {
     "data": {
      "text/plain": [
       "True    50000\n",
       "Name: _id_, dtype: int64"
      ]
     },
     "execution_count": 13,
     "metadata": {},
     "output_type": "execute_result"
    }
   ],
   "source": [
    "#Contamos el tipo de valores que fueron asigandos a la variable z.\n",
    "z.value_counts()\n",
    "\n",
    "#El resultado nos muestra que los datos de las columnas \"_id_\" de ambas tablas son iguales. Por lo cual, podemos hacer un cruce entre estas tablas sin problema alguno usando la columna \"_id_\" como enlace. "
   ]
  },
  {
   "cell_type": "markdown",
   "metadata": {},
   "source": [
    "##### Primer cruce"
   ]
  },
  {
   "cell_type": "code",
   "execution_count": 14,
   "metadata": {},
   "outputs": [],
   "source": [
    "#Cruzamos las tablas tomando como referencia las tuplas de ambas tablas (base_ini_interna y base_ini_externa), haciendo el enlace por medio de la columna \"_id_\".\n",
    "c_1 = pd.merge(base_ini_interna,base_ini_externa, how='inner', on=\"_id_\")"
   ]
  },
  {
   "cell_type": "code",
   "execution_count": 15,
   "metadata": {},
   "outputs": [
    {
     "data": {
      "text/html": [
       "<div>\n",
       "<style scoped>\n",
       "    .dataframe tbody tr th:only-of-type {\n",
       "        vertical-align: middle;\n",
       "    }\n",
       "\n",
       "    .dataframe tbody tr th {\n",
       "        vertical-align: top;\n",
       "    }\n",
       "\n",
       "    .dataframe thead th {\n",
       "        text-align: right;\n",
       "    }\n",
       "</style>\n",
       "<table border=\"1\" class=\"dataframe\">\n",
       "  <thead>\n",
       "    <tr style=\"text-align: right;\">\n",
       "      <th></th>\n",
       "      <th>_id_</th>\n",
       "      <th>fecha_inicio</th>\n",
       "      <th>comp_interno1</th>\n",
       "      <th>comp_interno2</th>\n",
       "      <th>comp_interno3</th>\n",
       "      <th>comp_interno4</th>\n",
       "      <th>categoria1</th>\n",
       "      <th>categoria2</th>\n",
       "      <th>categoria3</th>\n",
       "      <th>comp_externo1</th>\n",
       "      <th>comp_externo2</th>\n",
       "      <th>comp_externo3</th>\n",
       "      <th>comp_externo4</th>\n",
       "    </tr>\n",
       "  </thead>\n",
       "  <tbody>\n",
       "    <tr>\n",
       "      <th>0</th>\n",
       "      <td>78213</td>\n",
       "      <td>2020-03-25</td>\n",
       "      <td>0.0</td>\n",
       "      <td>b'0'</td>\n",
       "      <td>11.0</td>\n",
       "      <td>58.0</td>\n",
       "      <td>2.0</td>\n",
       "      <td>9.0</td>\n",
       "      <td>156.0</td>\n",
       "      <td>260.869565</td>\n",
       "      <td>25.854639</td>\n",
       "      <td>56.0</td>\n",
       "      <td>-230.0</td>\n",
       "    </tr>\n",
       "    <tr>\n",
       "      <th>1</th>\n",
       "      <td>76457</td>\n",
       "      <td>2020-02-13</td>\n",
       "      <td>0.0</td>\n",
       "      <td>b'1'</td>\n",
       "      <td>28.0</td>\n",
       "      <td>45.0</td>\n",
       "      <td>1.0</td>\n",
       "      <td>4.0</td>\n",
       "      <td>173.0</td>\n",
       "      <td>40.579710</td>\n",
       "      <td>2.872738</td>\n",
       "      <td>62.0</td>\n",
       "      <td>-230.0</td>\n",
       "    </tr>\n",
       "    <tr>\n",
       "      <th>2</th>\n",
       "      <td>40666</td>\n",
       "      <td>2018-01-24</td>\n",
       "      <td>0.0</td>\n",
       "      <td>b'1'</td>\n",
       "      <td>25.0</td>\n",
       "      <td>45.0</td>\n",
       "      <td>1.0</td>\n",
       "      <td>9.0</td>\n",
       "      <td>170.0</td>\n",
       "      <td>NaN</td>\n",
       "      <td>NaN</td>\n",
       "      <td>119.0</td>\n",
       "      <td>-230.0</td>\n",
       "    </tr>\n",
       "  </tbody>\n",
       "</table>\n",
       "</div>"
      ],
      "text/plain": [
       "    _id_ fecha_inicio  comp_interno1 comp_interno2  comp_interno3  \\\n",
       "0  78213   2020-03-25            0.0          b'0'           11.0   \n",
       "1  76457   2020-02-13            0.0          b'1'           28.0   \n",
       "2  40666   2018-01-24            0.0          b'1'           25.0   \n",
       "\n",
       "   comp_interno4  categoria1  categoria2  categoria3  comp_externo1  \\\n",
       "0           58.0         2.0         9.0       156.0     260.869565   \n",
       "1           45.0         1.0         4.0       173.0      40.579710   \n",
       "2           45.0         1.0         9.0       170.0            NaN   \n",
       "\n",
       "   comp_externo2  comp_externo3  comp_externo4  \n",
       "0      25.854639           56.0         -230.0  \n",
       "1       2.872738           62.0         -230.0  \n",
       "2            NaN          119.0         -230.0  "
      ]
     },
     "execution_count": 15,
     "metadata": {},
     "output_type": "execute_result"
    }
   ],
   "source": [
    "#Mostramos las primeras 3 filas de la tabla generada a través del cruce.\n",
    "c_1.head(3)"
   ]
  },
  {
   "cell_type": "markdown",
   "metadata": {},
   "source": [
    "##### Cruce de c_0 con c_1"
   ]
  },
  {
   "cell_type": "code",
   "execution_count": 16,
   "metadata": {},
   "outputs": [
    {
     "data": {
      "text/plain": [
       "(50000, 50000)"
      ]
     },
     "execution_count": 16,
     "metadata": {},
     "output_type": "execute_result"
    }
   ],
   "source": [
    "#Obtenemos la longitud de las 2 tablas que obtuvimos como resultado de los cruces.\n",
    "len(c_0), len(c_1)"
   ]
  },
  {
   "cell_type": "code",
   "execution_count": 17,
   "metadata": {},
   "outputs": [],
   "source": [
    "#Cruzamos las tablas tomando como referencia las tuplas de ambas tablas (c_0 y c_1), haciendo el enlace por medio de la columna \"_id_\".\n",
    "c_0_1 = pd.merge(c_0, c_1, how = 'inner', on = '_id_')"
   ]
  },
  {
   "cell_type": "code",
   "execution_count": 18,
   "metadata": {},
   "outputs": [
    {
     "data": {
      "text/html": [
       "<div>\n",
       "<style scoped>\n",
       "    .dataframe tbody tr th:only-of-type {\n",
       "        vertical-align: middle;\n",
       "    }\n",
       "\n",
       "    .dataframe tbody tr th {\n",
       "        vertical-align: top;\n",
       "    }\n",
       "\n",
       "    .dataframe thead th {\n",
       "        text-align: right;\n",
       "    }\n",
       "</style>\n",
       "<table border=\"1\" class=\"dataframe\">\n",
       "  <thead>\n",
       "    <tr style=\"text-align: right;\">\n",
       "      <th></th>\n",
       "      <th>_id_</th>\n",
       "      <th>_id2_</th>\n",
       "      <th>comp_mixto1</th>\n",
       "      <th>inversion</th>\n",
       "      <th>fecha_inicio</th>\n",
       "      <th>comp_interno1</th>\n",
       "      <th>comp_interno2</th>\n",
       "      <th>comp_interno3</th>\n",
       "      <th>comp_interno4</th>\n",
       "      <th>categoria1</th>\n",
       "      <th>categoria2</th>\n",
       "      <th>categoria3</th>\n",
       "      <th>comp_externo1</th>\n",
       "      <th>comp_externo2</th>\n",
       "      <th>comp_externo3</th>\n",
       "      <th>comp_externo4</th>\n",
       "    </tr>\n",
       "  </thead>\n",
       "  <tbody>\n",
       "    <tr>\n",
       "      <th>0</th>\n",
       "      <td>78213</td>\n",
       "      <td>1798899</td>\n",
       "      <td>0.33522</td>\n",
       "      <td>0.000000</td>\n",
       "      <td>2020-03-25</td>\n",
       "      <td>0.000000</td>\n",
       "      <td>b'0'</td>\n",
       "      <td>11.0</td>\n",
       "      <td>58.0</td>\n",
       "      <td>2.0</td>\n",
       "      <td>9.0</td>\n",
       "      <td>156.0</td>\n",
       "      <td>260.869565</td>\n",
       "      <td>25.854639</td>\n",
       "      <td>56.0</td>\n",
       "      <td>-230.0</td>\n",
       "    </tr>\n",
       "    <tr>\n",
       "      <th>1</th>\n",
       "      <td>76457</td>\n",
       "      <td>1758511</td>\n",
       "      <td>0.33334</td>\n",
       "      <td>0.041039</td>\n",
       "      <td>2020-02-13</td>\n",
       "      <td>0.000000</td>\n",
       "      <td>b'1'</td>\n",
       "      <td>28.0</td>\n",
       "      <td>45.0</td>\n",
       "      <td>1.0</td>\n",
       "      <td>4.0</td>\n",
       "      <td>173.0</td>\n",
       "      <td>40.579710</td>\n",
       "      <td>2.872738</td>\n",
       "      <td>62.0</td>\n",
       "      <td>-230.0</td>\n",
       "    </tr>\n",
       "    <tr>\n",
       "      <th>2</th>\n",
       "      <td>40666</td>\n",
       "      <td>935318</td>\n",
       "      <td>0.29186</td>\n",
       "      <td>0.000000</td>\n",
       "      <td>2018-01-24</td>\n",
       "      <td>0.000000</td>\n",
       "      <td>b'1'</td>\n",
       "      <td>25.0</td>\n",
       "      <td>45.0</td>\n",
       "      <td>1.0</td>\n",
       "      <td>9.0</td>\n",
       "      <td>170.0</td>\n",
       "      <td>NaN</td>\n",
       "      <td>NaN</td>\n",
       "      <td>119.0</td>\n",
       "      <td>-230.0</td>\n",
       "    </tr>\n",
       "    <tr>\n",
       "      <th>3</th>\n",
       "      <td>8329</td>\n",
       "      <td>191567</td>\n",
       "      <td>0.29112</td>\n",
       "      <td>0.000000</td>\n",
       "      <td>2016-10-07</td>\n",
       "      <td>0.000000</td>\n",
       "      <td>b'1'</td>\n",
       "      <td>14.0</td>\n",
       "      <td>59.0</td>\n",
       "      <td>3.0</td>\n",
       "      <td>3.0</td>\n",
       "      <td>159.0</td>\n",
       "      <td>349.275362</td>\n",
       "      <td>34.616490</td>\n",
       "      <td>94.0</td>\n",
       "      <td>-230.0</td>\n",
       "    </tr>\n",
       "    <tr>\n",
       "      <th>4</th>\n",
       "      <td>68389</td>\n",
       "      <td>1572947</td>\n",
       "      <td>0.27318</td>\n",
       "      <td>77.422135</td>\n",
       "      <td>2019-07-30</td>\n",
       "      <td>2026.342452</td>\n",
       "      <td>b'1'</td>\n",
       "      <td>1.0</td>\n",
       "      <td>67.0</td>\n",
       "      <td>2.0</td>\n",
       "      <td>9.0</td>\n",
       "      <td>146.0</td>\n",
       "      <td>276.811594</td>\n",
       "      <td>27.434645</td>\n",
       "      <td>125.0</td>\n",
       "      <td>-230.0</td>\n",
       "    </tr>\n",
       "    <tr>\n",
       "      <th>...</th>\n",
       "      <td>...</td>\n",
       "      <td>...</td>\n",
       "      <td>...</td>\n",
       "      <td>...</td>\n",
       "      <td>...</td>\n",
       "      <td>...</td>\n",
       "      <td>...</td>\n",
       "      <td>...</td>\n",
       "      <td>...</td>\n",
       "      <td>...</td>\n",
       "      <td>...</td>\n",
       "      <td>...</td>\n",
       "      <td>...</td>\n",
       "      <td>...</td>\n",
       "      <td>...</td>\n",
       "      <td>...</td>\n",
       "    </tr>\n",
       "    <tr>\n",
       "      <th>49995</th>\n",
       "      <td>78795</td>\n",
       "      <td>1812285</td>\n",
       "      <td>0.34318</td>\n",
       "      <td>0.000000</td>\n",
       "      <td>2020-04-27</td>\n",
       "      <td>0.000000</td>\n",
       "      <td>b'1'</td>\n",
       "      <td>2.0</td>\n",
       "      <td>50.0</td>\n",
       "      <td>2.0</td>\n",
       "      <td>6.0</td>\n",
       "      <td>147.0</td>\n",
       "      <td>140.579710</td>\n",
       "      <td>13.932778</td>\n",
       "      <td>95.0</td>\n",
       "      <td>-230.0</td>\n",
       "    </tr>\n",
       "    <tr>\n",
       "      <th>49996</th>\n",
       "      <td>9126</td>\n",
       "      <td>209898</td>\n",
       "      <td>0.38000</td>\n",
       "      <td>730.952882</td>\n",
       "      <td>2016-08-10</td>\n",
       "      <td>1215.805471</td>\n",
       "      <td>b'1'</td>\n",
       "      <td>30.0</td>\n",
       "      <td>70.0</td>\n",
       "      <td>3.0</td>\n",
       "      <td>4.0</td>\n",
       "      <td>175.0</td>\n",
       "      <td>188.405797</td>\n",
       "      <td>9.652399</td>\n",
       "      <td>114.0</td>\n",
       "      <td>-230.0</td>\n",
       "    </tr>\n",
       "    <tr>\n",
       "      <th>49997</th>\n",
       "      <td>44847</td>\n",
       "      <td>1031481</td>\n",
       "      <td>0.34000</td>\n",
       "      <td>24.763419</td>\n",
       "      <td>2018-09-17</td>\n",
       "      <td>0.000000</td>\n",
       "      <td>b'1'</td>\n",
       "      <td>3.0</td>\n",
       "      <td>58.0</td>\n",
       "      <td>2.0</td>\n",
       "      <td>9.0</td>\n",
       "      <td>148.0</td>\n",
       "      <td>434.782609</td>\n",
       "      <td>33.323758</td>\n",
       "      <td>124.0</td>\n",
       "      <td>-230.0</td>\n",
       "    </tr>\n",
       "    <tr>\n",
       "      <th>49998</th>\n",
       "      <td>87200</td>\n",
       "      <td>2005600</td>\n",
       "      <td>0.26984</td>\n",
       "      <td>0.000000</td>\n",
       "      <td>2020-10-27</td>\n",
       "      <td>0.000000</td>\n",
       "      <td>b'1'</td>\n",
       "      <td>19.0</td>\n",
       "      <td>59.0</td>\n",
       "      <td>3.0</td>\n",
       "      <td>4.0</td>\n",
       "      <td>164.0</td>\n",
       "      <td>919.130435</td>\n",
       "      <td>57.454754</td>\n",
       "      <td>108.0</td>\n",
       "      <td>-230.0</td>\n",
       "    </tr>\n",
       "    <tr>\n",
       "      <th>49999</th>\n",
       "      <td>55083</td>\n",
       "      <td>1266909</td>\n",
       "      <td>0.37000</td>\n",
       "      <td>0.000000</td>\n",
       "      <td>2019-05-06</td>\n",
       "      <td>1013.171226</td>\n",
       "      <td>b'0'</td>\n",
       "      <td>3.0</td>\n",
       "      <td>55.0</td>\n",
       "      <td>1.0</td>\n",
       "      <td>9.0</td>\n",
       "      <td>148.0</td>\n",
       "      <td>217.391304</td>\n",
       "      <td>18.385521</td>\n",
       "      <td>-40.0</td>\n",
       "      <td>-230.0</td>\n",
       "    </tr>\n",
       "  </tbody>\n",
       "</table>\n",
       "<p>50000 rows × 16 columns</p>\n",
       "</div>"
      ],
      "text/plain": [
       "        _id_    _id2_  comp_mixto1   inversion fecha_inicio  comp_interno1  \\\n",
       "0      78213  1798899      0.33522    0.000000   2020-03-25       0.000000   \n",
       "1      76457  1758511      0.33334    0.041039   2020-02-13       0.000000   \n",
       "2      40666   935318      0.29186    0.000000   2018-01-24       0.000000   \n",
       "3       8329   191567      0.29112    0.000000   2016-10-07       0.000000   \n",
       "4      68389  1572947      0.27318   77.422135   2019-07-30    2026.342452   \n",
       "...      ...      ...          ...         ...          ...            ...   \n",
       "49995  78795  1812285      0.34318    0.000000   2020-04-27       0.000000   \n",
       "49996   9126   209898      0.38000  730.952882   2016-08-10    1215.805471   \n",
       "49997  44847  1031481      0.34000   24.763419   2018-09-17       0.000000   \n",
       "49998  87200  2005600      0.26984    0.000000   2020-10-27       0.000000   \n",
       "49999  55083  1266909      0.37000    0.000000   2019-05-06    1013.171226   \n",
       "\n",
       "      comp_interno2  comp_interno3  comp_interno4  categoria1  categoria2  \\\n",
       "0              b'0'           11.0           58.0         2.0         9.0   \n",
       "1              b'1'           28.0           45.0         1.0         4.0   \n",
       "2              b'1'           25.0           45.0         1.0         9.0   \n",
       "3              b'1'           14.0           59.0         3.0         3.0   \n",
       "4              b'1'            1.0           67.0         2.0         9.0   \n",
       "...             ...            ...            ...         ...         ...   \n",
       "49995          b'1'            2.0           50.0         2.0         6.0   \n",
       "49996          b'1'           30.0           70.0         3.0         4.0   \n",
       "49997          b'1'            3.0           58.0         2.0         9.0   \n",
       "49998          b'1'           19.0           59.0         3.0         4.0   \n",
       "49999          b'0'            3.0           55.0         1.0         9.0   \n",
       "\n",
       "       categoria3  comp_externo1  comp_externo2  comp_externo3  comp_externo4  \n",
       "0           156.0     260.869565      25.854639           56.0         -230.0  \n",
       "1           173.0      40.579710       2.872738           62.0         -230.0  \n",
       "2           170.0            NaN            NaN          119.0         -230.0  \n",
       "3           159.0     349.275362      34.616490           94.0         -230.0  \n",
       "4           146.0     276.811594      27.434645          125.0         -230.0  \n",
       "...           ...            ...            ...            ...            ...  \n",
       "49995       147.0     140.579710      13.932778           95.0         -230.0  \n",
       "49996       175.0     188.405797       9.652399          114.0         -230.0  \n",
       "49997       148.0     434.782609      33.323758          124.0         -230.0  \n",
       "49998       164.0     919.130435      57.454754          108.0         -230.0  \n",
       "49999       148.0     217.391304      18.385521          -40.0         -230.0  \n",
       "\n",
       "[50000 rows x 16 columns]"
      ]
     },
     "execution_count": 18,
     "metadata": {},
     "output_type": "execute_result"
    }
   ],
   "source": [
    "#Mostramos la tabla generada a través del cruce.\n",
    "c_0_1"
   ]
  },
  {
   "cell_type": "markdown",
   "metadata": {},
   "source": [
    "##### Cruce de base comportamiento 2 y 3"
   ]
  },
  {
   "cell_type": "code",
   "execution_count": 19,
   "metadata": {},
   "outputs": [],
   "source": [
    "#Asignamos a una variable los valores de la columna \"_id_\" que se encuentran en la tabla \"base_ini_parte1\" y los ordenamos de forma ascendente.\n",
    "a = base_ini_parte1[\"_id_\"].sort_values(ascending = True)"
   ]
  },
  {
   "cell_type": "code",
   "execution_count": 20,
   "metadata": {},
   "outputs": [],
   "source": [
    "#Asignamos a una variable el resultado obtenido al comparar los datos de las columnas \"_id_\" que se encuentran en las tablas \"base_ini_interna\" y \"base_ini_parte1\".\n",
    "b = (x == a)"
   ]
  },
  {
   "cell_type": "code",
   "execution_count": 21,
   "metadata": {},
   "outputs": [
    {
     "data": {
      "text/plain": [
       "True    50000\n",
       "Name: _id_, dtype: int64"
      ]
     },
     "execution_count": 21,
     "metadata": {},
     "output_type": "execute_result"
    }
   ],
   "source": [
    "#Contamos el tipo de valores que fueron asigandos a la variable b.\n",
    "b.value_counts()\n",
    "\n",
    "#El resultado nos muestra que los datos de las columnas \"_id_\" de ambas tablas son iguales. Por lo cual, podemos hacer un cruce entre estas tablas sin problema alguno usando la columna \"_id_\" como enlace. "
   ]
  },
  {
   "cell_type": "code",
   "execution_count": 22,
   "metadata": {},
   "outputs": [
    {
     "data": {
      "text/html": [
       "<div>\n",
       "<style scoped>\n",
       "    .dataframe tbody tr th:only-of-type {\n",
       "        vertical-align: middle;\n",
       "    }\n",
       "\n",
       "    .dataframe tbody tr th {\n",
       "        vertical-align: top;\n",
       "    }\n",
       "\n",
       "    .dataframe thead th {\n",
       "        text-align: right;\n",
       "    }\n",
       "</style>\n",
       "<table border=\"1\" class=\"dataframe\">\n",
       "  <thead>\n",
       "    <tr style=\"text-align: right;\">\n",
       "      <th></th>\n",
       "      <th>num_caso</th>\n",
       "      <th>mes_informacion</th>\n",
       "      <th>Tiempo_aparicion</th>\n",
       "    </tr>\n",
       "  </thead>\n",
       "  <tbody>\n",
       "    <tr>\n",
       "      <th>0</th>\n",
       "      <td>1</td>\n",
       "      <td>2016-04-01</td>\n",
       "      <td>0.0</td>\n",
       "    </tr>\n",
       "    <tr>\n",
       "      <th>1</th>\n",
       "      <td>1</td>\n",
       "      <td>2016-05-01</td>\n",
       "      <td>1.0</td>\n",
       "    </tr>\n",
       "    <tr>\n",
       "      <th>2</th>\n",
       "      <td>1</td>\n",
       "      <td>2016-06-01</td>\n",
       "      <td>2.0</td>\n",
       "    </tr>\n",
       "    <tr>\n",
       "      <th>3</th>\n",
       "      <td>1</td>\n",
       "      <td>2016-07-01</td>\n",
       "      <td>3.0</td>\n",
       "    </tr>\n",
       "    <tr>\n",
       "      <th>4</th>\n",
       "      <td>1</td>\n",
       "      <td>2016-08-01</td>\n",
       "      <td>4.0</td>\n",
       "    </tr>\n",
       "  </tbody>\n",
       "</table>\n",
       "</div>"
      ],
      "text/plain": [
       "   num_caso mes_informacion  Tiempo_aparicion\n",
       "0         1      2016-04-01               0.0\n",
       "1         1      2016-05-01               1.0\n",
       "2         1      2016-06-01               2.0\n",
       "3         1      2016-07-01               3.0\n",
       "4         1      2016-08-01               4.0"
      ]
     },
     "execution_count": 22,
     "metadata": {},
     "output_type": "execute_result"
    }
   ],
   "source": [
    "#Importamos la base de datos \"base_comportamiento_2.txt\".\n",
    "base_comportamiento_2 = pd.read_table(path + \"base_comportamiento_2.txt\",delimiter = ' ', \n",
    "                                      parse_dates = ['mes_informacion'])\n",
    "#Mostramos las primeras 5 filas de la base de datos importada.\n",
    "base_comportamiento_2.head()"
   ]
  },
  {
   "cell_type": "code",
   "execution_count": 23,
   "metadata": {},
   "outputs": [
    {
     "data": {
      "text/html": [
       "<div>\n",
       "<style scoped>\n",
       "    .dataframe tbody tr th:only-of-type {\n",
       "        vertical-align: middle;\n",
       "    }\n",
       "\n",
       "    .dataframe tbody tr th {\n",
       "        vertical-align: top;\n",
       "    }\n",
       "\n",
       "    .dataframe thead th {\n",
       "        text-align: right;\n",
       "    }\n",
       "</style>\n",
       "<table border=\"1\" class=\"dataframe\">\n",
       "  <thead>\n",
       "    <tr style=\"text-align: right;\">\n",
       "      <th></th>\n",
       "      <th>num_caso</th>\n",
       "      <th>mes_informacion</th>\n",
       "      <th>comportamiento_j</th>\n",
       "    </tr>\n",
       "  </thead>\n",
       "  <tbody>\n",
       "    <tr>\n",
       "      <th>0</th>\n",
       "      <td>1</td>\n",
       "      <td>2016-04-01</td>\n",
       "      <td>0.0</td>\n",
       "    </tr>\n",
       "    <tr>\n",
       "      <th>1</th>\n",
       "      <td>1</td>\n",
       "      <td>2016-05-01</td>\n",
       "      <td>0.0</td>\n",
       "    </tr>\n",
       "    <tr>\n",
       "      <th>2</th>\n",
       "      <td>1</td>\n",
       "      <td>2016-06-01</td>\n",
       "      <td>0.0</td>\n",
       "    </tr>\n",
       "    <tr>\n",
       "      <th>3</th>\n",
       "      <td>1</td>\n",
       "      <td>2016-07-01</td>\n",
       "      <td>0.0</td>\n",
       "    </tr>\n",
       "    <tr>\n",
       "      <th>4</th>\n",
       "      <td>1</td>\n",
       "      <td>2016-08-01</td>\n",
       "      <td>0.0</td>\n",
       "    </tr>\n",
       "  </tbody>\n",
       "</table>\n",
       "</div>"
      ],
      "text/plain": [
       "   num_caso mes_informacion  comportamiento_j\n",
       "0         1      2016-04-01               0.0\n",
       "1         1      2016-05-01               0.0\n",
       "2         1      2016-06-01               0.0\n",
       "3         1      2016-07-01               0.0\n",
       "4         1      2016-08-01               0.0"
      ]
     },
     "execution_count": 23,
     "metadata": {},
     "output_type": "execute_result"
    }
   ],
   "source": [
    "#Importamos la base de datos \"base_comportamiento_3.txt\".\n",
    "base_comportamiento_3 = pd.read_csv(path + \"base_comportamiento_3.csv\", parse_dates = ['mes_informacion'])\n",
    "#Mostramos las primeras 5 filas de la base de datos importada.\n",
    "base_comportamiento_3.head()"
   ]
  },
  {
   "cell_type": "markdown",
   "metadata": {},
   "source": [
    "##### Intentando cruzar por fecha, revisando si las fechas son unicas "
   ]
  },
  {
   "cell_type": "code",
   "execution_count": 24,
   "metadata": {},
   "outputs": [
    {
     "data": {
      "text/plain": [
       "1455536"
      ]
     },
     "execution_count": 24,
     "metadata": {},
     "output_type": "execute_result"
    }
   ],
   "source": [
    "#Obtenemos la longitud de la base de datos importada \"base_comportamiento_2\".\n",
    "len(base_comportamiento_2)"
   ]
  },
  {
   "cell_type": "code",
   "execution_count": 25,
   "metadata": {},
   "outputs": [],
   "source": [
    "#Asignamos a una variable los valores de la columna \"num_caso\" que se encuentran en la tabla \"base_comportamiento_2\" y los ordenamos de forma ascendente.\n",
    "z1 = base_comportamiento_2[\"num_caso\"].sort_values(ascending = True)"
   ]
  },
  {
   "cell_type": "code",
   "execution_count": 26,
   "metadata": {},
   "outputs": [],
   "source": [
    "#Asignamos a una variable los valores de la columna \"num_caso\" que se encuentran en la tabla \"base_comportamiento_3\" y los ordenamos de forma ascendente.\n",
    "z2 = base_comportamiento_3[\"num_caso\"].sort_values(ascending = True)"
   ]
  },
  {
   "cell_type": "code",
   "execution_count": 27,
   "metadata": {},
   "outputs": [],
   "source": [
    "#Asignamos a una variable el resultado obtenido al comparar los datos de las columnas \"num_caso\" que se encuentran en las tablas \"base_comportamiento_2\" y \"base_comportamiento_3\".\n",
    "z3 = (z1==z2)"
   ]
  },
  {
   "cell_type": "code",
   "execution_count": 28,
   "metadata": {},
   "outputs": [
    {
     "data": {
      "text/plain": [
       "True    1455536\n",
       "Name: num_caso, dtype: int64"
      ]
     },
     "execution_count": 28,
     "metadata": {},
     "output_type": "execute_result"
    }
   ],
   "source": [
    "#Contamos el tipo de valores que fueron asigandos a la variable z3.\n",
    "z3.value_counts()\n",
    "\n",
    "#El resultado nos muestra que los datos de las columnas \"num_caso\" de ambas tablas son iguales. Por lo cual, podemos hacer un cruce entre estas tablas sin problema alguno usando la columna \"num_caso\" como enlace."
   ]
  },
  {
   "cell_type": "code",
   "execution_count": 29,
   "metadata": {
    "scrolled": true
   },
   "outputs": [],
   "source": [
    "#Cruzamos las tablas tomando como referencia las tuplas de ambas tablas (base_comportamiento_2 y base_comportamiento_3), haciendo el enlace por medio de las columnas \"num_caso\" y \"mes_informacion\".\n",
    "c_2 = pd.merge(base_comportamiento_2,base_comportamiento_3, how='inner', on = ['num_caso', 'mes_informacion'])"
   ]
  },
  {
   "cell_type": "code",
   "execution_count": 30,
   "metadata": {},
   "outputs": [],
   "source": [
    "#Renombramos la columna \"num_caso\" por \"_id_\"\n",
    "c_2.rename(columns={'num_caso':'_id_'}, inplace=True)"
   ]
  },
  {
   "cell_type": "code",
   "execution_count": 31,
   "metadata": {},
   "outputs": [
    {
     "data": {
      "text/html": [
       "<div>\n",
       "<style scoped>\n",
       "    .dataframe tbody tr th:only-of-type {\n",
       "        vertical-align: middle;\n",
       "    }\n",
       "\n",
       "    .dataframe tbody tr th {\n",
       "        vertical-align: top;\n",
       "    }\n",
       "\n",
       "    .dataframe thead th {\n",
       "        text-align: right;\n",
       "    }\n",
       "</style>\n",
       "<table border=\"1\" class=\"dataframe\">\n",
       "  <thead>\n",
       "    <tr style=\"text-align: right;\">\n",
       "      <th></th>\n",
       "      <th>_id_</th>\n",
       "      <th>mes_informacion</th>\n",
       "      <th>Tiempo_aparicion</th>\n",
       "      <th>comportamiento_j</th>\n",
       "    </tr>\n",
       "  </thead>\n",
       "  <tbody>\n",
       "    <tr>\n",
       "      <th>1455531</th>\n",
       "      <td>98990</td>\n",
       "      <td>2021-05-01</td>\n",
       "      <td>1.0</td>\n",
       "      <td>0.0</td>\n",
       "    </tr>\n",
       "    <tr>\n",
       "      <th>1455532</th>\n",
       "      <td>98992</td>\n",
       "      <td>2021-04-01</td>\n",
       "      <td>0.0</td>\n",
       "      <td>0.0</td>\n",
       "    </tr>\n",
       "    <tr>\n",
       "      <th>1455533</th>\n",
       "      <td>98992</td>\n",
       "      <td>2021-05-01</td>\n",
       "      <td>1.0</td>\n",
       "      <td>0.0</td>\n",
       "    </tr>\n",
       "    <tr>\n",
       "      <th>1455534</th>\n",
       "      <td>98997</td>\n",
       "      <td>2021-04-01</td>\n",
       "      <td>0.0</td>\n",
       "      <td>0.0</td>\n",
       "    </tr>\n",
       "    <tr>\n",
       "      <th>1455535</th>\n",
       "      <td>98997</td>\n",
       "      <td>2021-05-01</td>\n",
       "      <td>1.0</td>\n",
       "      <td>0.0</td>\n",
       "    </tr>\n",
       "  </tbody>\n",
       "</table>\n",
       "</div>"
      ],
      "text/plain": [
       "          _id_ mes_informacion  Tiempo_aparicion  comportamiento_j\n",
       "1455531  98990      2021-05-01               1.0               0.0\n",
       "1455532  98992      2021-04-01               0.0               0.0\n",
       "1455533  98992      2021-05-01               1.0               0.0\n",
       "1455534  98997      2021-04-01               0.0               0.0\n",
       "1455535  98997      2021-05-01               1.0               0.0"
      ]
     },
     "execution_count": 31,
     "metadata": {},
     "output_type": "execute_result"
    }
   ],
   "source": [
    "#Mostramos las últimas 5 filas de la tabla generada a través del cruce.\n",
    "c_2.tail()"
   ]
  },
  {
   "cell_type": "code",
   "execution_count": 32,
   "metadata": {},
   "outputs": [
    {
     "data": {
      "text/plain": [
       "(50000, 1455536)"
      ]
     },
     "execution_count": 32,
     "metadata": {},
     "output_type": "execute_result"
    }
   ],
   "source": [
    "#Obtenemos la longitud de las 2 tablas que obtuvimos como resultado de los cruces.\n",
    "len(c_0_1), len(c_2)"
   ]
  },
  {
   "cell_type": "code",
   "execution_count": 33,
   "metadata": {},
   "outputs": [],
   "source": [
    "#Agrupamos las tuplas de la tabla \"c_2\" de acuerdo a los datos de la columna \"_id_\" y los ordenamos de forma ascendente. \n",
    "c_2 = c_2.groupby(by = ['_id_'], as_index = False).max()"
   ]
  },
  {
   "cell_type": "code",
   "execution_count": 34,
   "metadata": {},
   "outputs": [
    {
     "data": {
      "text/html": [
       "<div>\n",
       "<style scoped>\n",
       "    .dataframe tbody tr th:only-of-type {\n",
       "        vertical-align: middle;\n",
       "    }\n",
       "\n",
       "    .dataframe tbody tr th {\n",
       "        vertical-align: top;\n",
       "    }\n",
       "\n",
       "    .dataframe thead th {\n",
       "        text-align: right;\n",
       "    }\n",
       "</style>\n",
       "<table border=\"1\" class=\"dataframe\">\n",
       "  <thead>\n",
       "    <tr style=\"text-align: right;\">\n",
       "      <th></th>\n",
       "      <th>_id_</th>\n",
       "      <th>mes_informacion</th>\n",
       "      <th>Tiempo_aparicion</th>\n",
       "      <th>comportamiento_j</th>\n",
       "    </tr>\n",
       "  </thead>\n",
       "  <tbody>\n",
       "    <tr>\n",
       "      <th>0</th>\n",
       "      <td>1</td>\n",
       "      <td>2021-05-01</td>\n",
       "      <td>61.0</td>\n",
       "      <td>1.0</td>\n",
       "    </tr>\n",
       "    <tr>\n",
       "      <th>1</th>\n",
       "      <td>7</td>\n",
       "      <td>2018-05-01</td>\n",
       "      <td>28.0</td>\n",
       "      <td>6.0</td>\n",
       "    </tr>\n",
       "    <tr>\n",
       "      <th>2</th>\n",
       "      <td>8</td>\n",
       "      <td>2021-04-01</td>\n",
       "      <td>51.0</td>\n",
       "      <td>1.0</td>\n",
       "    </tr>\n",
       "    <tr>\n",
       "      <th>3</th>\n",
       "      <td>9</td>\n",
       "      <td>2017-04-01</td>\n",
       "      <td>14.0</td>\n",
       "      <td>0.0</td>\n",
       "    </tr>\n",
       "    <tr>\n",
       "      <th>4</th>\n",
       "      <td>10</td>\n",
       "      <td>2017-05-01</td>\n",
       "      <td>15.0</td>\n",
       "      <td>1.0</td>\n",
       "    </tr>\n",
       "  </tbody>\n",
       "</table>\n",
       "</div>"
      ],
      "text/plain": [
       "   _id_ mes_informacion  Tiempo_aparicion  comportamiento_j\n",
       "0     1      2021-05-01              61.0               1.0\n",
       "1     7      2018-05-01              28.0               6.0\n",
       "2     8      2021-04-01              51.0               1.0\n",
       "3     9      2017-04-01              14.0               0.0\n",
       "4    10      2017-05-01              15.0               1.0"
      ]
     },
     "execution_count": 34,
     "metadata": {},
     "output_type": "execute_result"
    }
   ],
   "source": [
    "#Mostramos las primeras 5 filas de la tabla recién agrupada.\n",
    "c_2.head()"
   ]
  },
  {
   "cell_type": "code",
   "execution_count": 35,
   "metadata": {},
   "outputs": [
    {
     "data": {
      "text/plain": [
       "49352"
      ]
     },
     "execution_count": 35,
     "metadata": {},
     "output_type": "execute_result"
    }
   ],
   "source": [
    "#Obtenemos la longitud de la tabla agrupada por \"_id_\"\n",
    "len(c_2)"
   ]
  },
  {
   "cell_type": "markdown",
   "metadata": {},
   "source": [
    "#### Como tabla final tenemos la union de todas las tablas"
   ]
  },
  {
   "cell_type": "code",
   "execution_count": 36,
   "metadata": {},
   "outputs": [],
   "source": [
    "#Cruzamos las tablas tomando como referencia las tuplas de la tabla izquierda (c_0_1), haciendo el enlace por medio de la columna en común \"_id_\" y obteniendo de la tabla derecha (c_2) las columnas \"mes_informacion\", \"Tiempo_aparicion\" y \"comportamiento_j\".\n",
    "final = pd.merge(c_0_1, c_2, how='left', on = ['_id_'])"
   ]
  },
  {
   "cell_type": "code",
   "execution_count": 37,
   "metadata": {},
   "outputs": [
    {
     "data": {
      "text/html": [
       "<div>\n",
       "<style scoped>\n",
       "    .dataframe tbody tr th:only-of-type {\n",
       "        vertical-align: middle;\n",
       "    }\n",
       "\n",
       "    .dataframe tbody tr th {\n",
       "        vertical-align: top;\n",
       "    }\n",
       "\n",
       "    .dataframe thead th {\n",
       "        text-align: right;\n",
       "    }\n",
       "</style>\n",
       "<table border=\"1\" class=\"dataframe\">\n",
       "  <thead>\n",
       "    <tr style=\"text-align: right;\">\n",
       "      <th></th>\n",
       "      <th>_id_</th>\n",
       "      <th>_id2_</th>\n",
       "      <th>comp_mixto1</th>\n",
       "      <th>inversion</th>\n",
       "      <th>fecha_inicio</th>\n",
       "      <th>comp_interno1</th>\n",
       "      <th>comp_interno2</th>\n",
       "      <th>comp_interno3</th>\n",
       "      <th>comp_interno4</th>\n",
       "      <th>categoria1</th>\n",
       "      <th>categoria2</th>\n",
       "      <th>categoria3</th>\n",
       "      <th>comp_externo1</th>\n",
       "      <th>comp_externo2</th>\n",
       "      <th>comp_externo3</th>\n",
       "      <th>comp_externo4</th>\n",
       "      <th>mes_informacion</th>\n",
       "      <th>Tiempo_aparicion</th>\n",
       "      <th>comportamiento_j</th>\n",
       "    </tr>\n",
       "  </thead>\n",
       "  <tbody>\n",
       "    <tr>\n",
       "      <th>0</th>\n",
       "      <td>78213</td>\n",
       "      <td>1798899</td>\n",
       "      <td>0.33522</td>\n",
       "      <td>0.000000</td>\n",
       "      <td>2020-03-25</td>\n",
       "      <td>0.000000</td>\n",
       "      <td>b'0'</td>\n",
       "      <td>11.0</td>\n",
       "      <td>58.0</td>\n",
       "      <td>2.0</td>\n",
       "      <td>9.0</td>\n",
       "      <td>156.0</td>\n",
       "      <td>260.869565</td>\n",
       "      <td>25.854639</td>\n",
       "      <td>56.0</td>\n",
       "      <td>-230.0</td>\n",
       "      <td>2021-05-01</td>\n",
       "      <td>13.0</td>\n",
       "      <td>1.0</td>\n",
       "    </tr>\n",
       "    <tr>\n",
       "      <th>1</th>\n",
       "      <td>76457</td>\n",
       "      <td>1758511</td>\n",
       "      <td>0.33334</td>\n",
       "      <td>0.041039</td>\n",
       "      <td>2020-02-13</td>\n",
       "      <td>0.000000</td>\n",
       "      <td>b'1'</td>\n",
       "      <td>28.0</td>\n",
       "      <td>45.0</td>\n",
       "      <td>1.0</td>\n",
       "      <td>4.0</td>\n",
       "      <td>173.0</td>\n",
       "      <td>40.579710</td>\n",
       "      <td>2.872738</td>\n",
       "      <td>62.0</td>\n",
       "      <td>-230.0</td>\n",
       "      <td>2021-05-01</td>\n",
       "      <td>15.0</td>\n",
       "      <td>1.0</td>\n",
       "    </tr>\n",
       "    <tr>\n",
       "      <th>2</th>\n",
       "      <td>40666</td>\n",
       "      <td>935318</td>\n",
       "      <td>0.29186</td>\n",
       "      <td>0.000000</td>\n",
       "      <td>2018-01-24</td>\n",
       "      <td>0.000000</td>\n",
       "      <td>b'1'</td>\n",
       "      <td>25.0</td>\n",
       "      <td>45.0</td>\n",
       "      <td>1.0</td>\n",
       "      <td>9.0</td>\n",
       "      <td>170.0</td>\n",
       "      <td>NaN</td>\n",
       "      <td>NaN</td>\n",
       "      <td>119.0</td>\n",
       "      <td>-230.0</td>\n",
       "      <td>2019-05-01</td>\n",
       "      <td>15.0</td>\n",
       "      <td>1.0</td>\n",
       "    </tr>\n",
       "    <tr>\n",
       "      <th>3</th>\n",
       "      <td>8329</td>\n",
       "      <td>191567</td>\n",
       "      <td>0.29112</td>\n",
       "      <td>0.000000</td>\n",
       "      <td>2016-10-07</td>\n",
       "      <td>0.000000</td>\n",
       "      <td>b'1'</td>\n",
       "      <td>14.0</td>\n",
       "      <td>59.0</td>\n",
       "      <td>3.0</td>\n",
       "      <td>3.0</td>\n",
       "      <td>159.0</td>\n",
       "      <td>349.275362</td>\n",
       "      <td>34.616490</td>\n",
       "      <td>94.0</td>\n",
       "      <td>-230.0</td>\n",
       "      <td>2021-05-01</td>\n",
       "      <td>44.0</td>\n",
       "      <td>0.0</td>\n",
       "    </tr>\n",
       "    <tr>\n",
       "      <th>4</th>\n",
       "      <td>68389</td>\n",
       "      <td>1572947</td>\n",
       "      <td>0.27318</td>\n",
       "      <td>77.422135</td>\n",
       "      <td>2019-07-30</td>\n",
       "      <td>2026.342452</td>\n",
       "      <td>b'1'</td>\n",
       "      <td>1.0</td>\n",
       "      <td>67.0</td>\n",
       "      <td>2.0</td>\n",
       "      <td>9.0</td>\n",
       "      <td>146.0</td>\n",
       "      <td>276.811594</td>\n",
       "      <td>27.434645</td>\n",
       "      <td>125.0</td>\n",
       "      <td>-230.0</td>\n",
       "      <td>2021-05-01</td>\n",
       "      <td>20.0</td>\n",
       "      <td>1.0</td>\n",
       "    </tr>\n",
       "  </tbody>\n",
       "</table>\n",
       "</div>"
      ],
      "text/plain": [
       "    _id_    _id2_  comp_mixto1  inversion fecha_inicio  comp_interno1  \\\n",
       "0  78213  1798899      0.33522   0.000000   2020-03-25       0.000000   \n",
       "1  76457  1758511      0.33334   0.041039   2020-02-13       0.000000   \n",
       "2  40666   935318      0.29186   0.000000   2018-01-24       0.000000   \n",
       "3   8329   191567      0.29112   0.000000   2016-10-07       0.000000   \n",
       "4  68389  1572947      0.27318  77.422135   2019-07-30    2026.342452   \n",
       "\n",
       "  comp_interno2  comp_interno3  comp_interno4  categoria1  categoria2  \\\n",
       "0          b'0'           11.0           58.0         2.0         9.0   \n",
       "1          b'1'           28.0           45.0         1.0         4.0   \n",
       "2          b'1'           25.0           45.0         1.0         9.0   \n",
       "3          b'1'           14.0           59.0         3.0         3.0   \n",
       "4          b'1'            1.0           67.0         2.0         9.0   \n",
       "\n",
       "   categoria3  comp_externo1  comp_externo2  comp_externo3  comp_externo4  \\\n",
       "0       156.0     260.869565      25.854639           56.0         -230.0   \n",
       "1       173.0      40.579710       2.872738           62.0         -230.0   \n",
       "2       170.0            NaN            NaN          119.0         -230.0   \n",
       "3       159.0     349.275362      34.616490           94.0         -230.0   \n",
       "4       146.0     276.811594      27.434645          125.0         -230.0   \n",
       "\n",
       "  mes_informacion  Tiempo_aparicion  comportamiento_j  \n",
       "0      2021-05-01              13.0               1.0  \n",
       "1      2021-05-01              15.0               1.0  \n",
       "2      2019-05-01              15.0               1.0  \n",
       "3      2021-05-01              44.0               0.0  \n",
       "4      2021-05-01              20.0               1.0  "
      ]
     },
     "execution_count": 37,
     "metadata": {},
     "output_type": "execute_result"
    }
   ],
   "source": [
    "#Mostramos las primeras 5 filas de la tabla generada a través del cruce.\n",
    "final.head()"
   ]
  },
  {
   "cell_type": "code",
   "execution_count": 38,
   "metadata": {},
   "outputs": [
    {
     "name": "stdout",
     "output_type": "stream",
     "text": [
      "<class 'pandas.core.frame.DataFrame'>\n",
      "Int64Index: 50000 entries, 0 to 49999\n",
      "Data columns (total 19 columns):\n",
      " #   Column            Non-Null Count  Dtype         \n",
      "---  ------            --------------  -----         \n",
      " 0   _id_              50000 non-null  int64         \n",
      " 1   _id2_             50000 non-null  int64         \n",
      " 2   comp_mixto1       50000 non-null  float64       \n",
      " 3   inversion         50000 non-null  float64       \n",
      " 4   fecha_inicio      50000 non-null  datetime64[ns]\n",
      " 5   comp_interno1     50000 non-null  float64       \n",
      " 6   comp_interno2     50000 non-null  object        \n",
      " 7   comp_interno3     50000 non-null  float64       \n",
      " 8   comp_interno4     50000 non-null  float64       \n",
      " 9   categoria1        50000 non-null  float64       \n",
      " 10  categoria2        50000 non-null  float64       \n",
      " 11  categoria3        50000 non-null  float64       \n",
      " 12  comp_externo1     47831 non-null  float64       \n",
      " 13  comp_externo2     44410 non-null  float64       \n",
      " 14  comp_externo3     49994 non-null  float64       \n",
      " 15  comp_externo4     50000 non-null  float64       \n",
      " 16  mes_informacion   49352 non-null  datetime64[ns]\n",
      " 17  Tiempo_aparicion  49352 non-null  float64       \n",
      " 18  comportamiento_j  49352 non-null  float64       \n",
      "dtypes: datetime64[ns](2), float64(14), int64(2), object(1)\n",
      "memory usage: 7.6+ MB\n"
     ]
    }
   ],
   "source": [
    "#Obtenemos la información general de la tabla \"final\".\n",
    "final.info()"
   ]
  },
  {
   "cell_type": "code",
   "execution_count": 39,
   "metadata": {},
   "outputs": [],
   "source": [
    "#Reemplazamos los valores no disponibles (NA) por ceros, que se encuentran en la tabla \"final\".\n",
    "final.fillna(0, inplace = True)"
   ]
  },
  {
   "cell_type": "code",
   "execution_count": 40,
   "metadata": {},
   "outputs": [],
   "source": [
    "#Los datos de las columnas \"_id_\" y \"_id2_\" son convertidos a datos de tipo string.\n",
    "final[['_id_', '_id2_']] = final[['_id_', '_id2_']].astype(str) "
   ]
  },
  {
   "cell_type": "code",
   "execution_count": 41,
   "metadata": {},
   "outputs": [],
   "source": [
    "#Los datos de la columna \"mes_informacion\" los corregimos con el formato de fecha que ofrece la paquetería pandas.\n",
    "final['mes_informacion'] = pd.to_datetime(final['mes_informacion'], errors = 'coerce')"
   ]
  },
  {
   "cell_type": "code",
   "execution_count": 42,
   "metadata": {},
   "outputs": [
    {
     "data": {
      "text/html": [
       "<div>\n",
       "<style scoped>\n",
       "    .dataframe tbody tr th:only-of-type {\n",
       "        vertical-align: middle;\n",
       "    }\n",
       "\n",
       "    .dataframe tbody tr th {\n",
       "        vertical-align: top;\n",
       "    }\n",
       "\n",
       "    .dataframe thead th {\n",
       "        text-align: right;\n",
       "    }\n",
       "</style>\n",
       "<table border=\"1\" class=\"dataframe\">\n",
       "  <thead>\n",
       "    <tr style=\"text-align: right;\">\n",
       "      <th></th>\n",
       "      <th>comp_mixto1</th>\n",
       "      <th>inversion</th>\n",
       "      <th>comp_interno1</th>\n",
       "      <th>comp_interno3</th>\n",
       "      <th>comp_interno4</th>\n",
       "      <th>categoria1</th>\n",
       "      <th>categoria2</th>\n",
       "      <th>categoria3</th>\n",
       "      <th>comp_externo1</th>\n",
       "      <th>comp_externo2</th>\n",
       "      <th>comp_externo3</th>\n",
       "      <th>comp_externo4</th>\n",
       "      <th>Tiempo_aparicion</th>\n",
       "      <th>comportamiento_j</th>\n",
       "    </tr>\n",
       "  </thead>\n",
       "  <tbody>\n",
       "    <tr>\n",
       "      <th>count</th>\n",
       "      <td>50000.000000</td>\n",
       "      <td>50000.000000</td>\n",
       "      <td>50000.000000</td>\n",
       "      <td>50000.000000</td>\n",
       "      <td>50000.000000</td>\n",
       "      <td>50000.000000</td>\n",
       "      <td>50000.000000</td>\n",
       "      <td>50000.000000</td>\n",
       "      <td>5.000000e+04</td>\n",
       "      <td>50000.000000</td>\n",
       "      <td>50000.000000</td>\n",
       "      <td>5.000000e+04</td>\n",
       "      <td>50000.000000</td>\n",
       "      <td>50000.000000</td>\n",
       "    </tr>\n",
       "    <tr>\n",
       "      <th>mean</th>\n",
       "      <td>0.337124</td>\n",
       "      <td>65.215650</td>\n",
       "      <td>1058.571975</td>\n",
       "      <td>14.663740</td>\n",
       "      <td>56.537440</td>\n",
       "      <td>1.842300</td>\n",
       "      <td>8.034660</td>\n",
       "      <td>159.663740</td>\n",
       "      <td>5.955465e+02</td>\n",
       "      <td>33.416022</td>\n",
       "      <td>66.372180</td>\n",
       "      <td>3.175998e+08</td>\n",
       "      <td>27.764020</td>\n",
       "      <td>1.045700</td>\n",
       "    </tr>\n",
       "    <tr>\n",
       "      <th>std</th>\n",
       "      <td>0.037864</td>\n",
       "      <td>574.991187</td>\n",
       "      <td>5050.133027</td>\n",
       "      <td>8.816343</td>\n",
       "      <td>10.051582</td>\n",
       "      <td>0.939685</td>\n",
       "      <td>2.036502</td>\n",
       "      <td>8.816343</td>\n",
       "      <td>1.725186e+04</td>\n",
       "      <td>39.933637</td>\n",
       "      <td>140.016215</td>\n",
       "      <td>1.753622e+09</td>\n",
       "      <td>17.994314</td>\n",
       "      <td>1.317242</td>\n",
       "    </tr>\n",
       "    <tr>\n",
       "      <th>min</th>\n",
       "      <td>0.200000</td>\n",
       "      <td>0.000000</td>\n",
       "      <td>0.000000</td>\n",
       "      <td>1.000000</td>\n",
       "      <td>24.000000</td>\n",
       "      <td>1.000000</td>\n",
       "      <td>1.000000</td>\n",
       "      <td>146.000000</td>\n",
       "      <td>0.000000e+00</td>\n",
       "      <td>0.000000</td>\n",
       "      <td>-609.000000</td>\n",
       "      <td>-2.300000e+02</td>\n",
       "      <td>0.000000</td>\n",
       "      <td>0.000000</td>\n",
       "    </tr>\n",
       "    <tr>\n",
       "      <th>25%</th>\n",
       "      <td>0.314540</td>\n",
       "      <td>0.000000</td>\n",
       "      <td>0.000000</td>\n",
       "      <td>8.000000</td>\n",
       "      <td>48.000000</td>\n",
       "      <td>1.000000</td>\n",
       "      <td>8.000000</td>\n",
       "      <td>153.000000</td>\n",
       "      <td>1.159420e+02</td>\n",
       "      <td>8.043666</td>\n",
       "      <td>72.000000</td>\n",
       "      <td>-2.300000e+02</td>\n",
       "      <td>12.000000</td>\n",
       "      <td>1.000000</td>\n",
       "    </tr>\n",
       "    <tr>\n",
       "      <th>50%</th>\n",
       "      <td>0.344530</td>\n",
       "      <td>0.000000</td>\n",
       "      <td>0.000000</td>\n",
       "      <td>15.000000</td>\n",
       "      <td>55.000000</td>\n",
       "      <td>2.000000</td>\n",
       "      <td>9.000000</td>\n",
       "      <td>160.000000</td>\n",
       "      <td>2.463768e+02</td>\n",
       "      <td>20.396438</td>\n",
       "      <td>99.000000</td>\n",
       "      <td>-2.300000e+02</td>\n",
       "      <td>26.000000</td>\n",
       "      <td>1.000000</td>\n",
       "    </tr>\n",
       "    <tr>\n",
       "      <th>75%</th>\n",
       "      <td>0.369240</td>\n",
       "      <td>8.077030</td>\n",
       "      <td>1013.171226</td>\n",
       "      <td>21.000000</td>\n",
       "      <td>64.000000</td>\n",
       "      <td>2.000000</td>\n",
       "      <td>9.000000</td>\n",
       "      <td>166.000000</td>\n",
       "      <td>5.217391e+02</td>\n",
       "      <td>44.240161</td>\n",
       "      <td>120.000000</td>\n",
       "      <td>-2.300000e+02</td>\n",
       "      <td>42.000000</td>\n",
       "      <td>1.000000</td>\n",
       "    </tr>\n",
       "    <tr>\n",
       "      <th>max</th>\n",
       "      <td>0.430060</td>\n",
       "      <td>95052.396733</td>\n",
       "      <td>329483.282675</td>\n",
       "      <td>32.000000</td>\n",
       "      <td>79.000000</td>\n",
       "      <td>6.000000</td>\n",
       "      <td>13.000000</td>\n",
       "      <td>177.000000</td>\n",
       "      <td>2.898551e+06</td>\n",
       "      <td>861.821316</td>\n",
       "      <td>159.000000</td>\n",
       "      <td>1.000000e+10</td>\n",
       "      <td>64.000000</td>\n",
       "      <td>18.000000</td>\n",
       "    </tr>\n",
       "  </tbody>\n",
       "</table>\n",
       "</div>"
      ],
      "text/plain": [
       "        comp_mixto1     inversion  comp_interno1  comp_interno3  \\\n",
       "count  50000.000000  50000.000000   50000.000000   50000.000000   \n",
       "mean       0.337124     65.215650    1058.571975      14.663740   \n",
       "std        0.037864    574.991187    5050.133027       8.816343   \n",
       "min        0.200000      0.000000       0.000000       1.000000   \n",
       "25%        0.314540      0.000000       0.000000       8.000000   \n",
       "50%        0.344530      0.000000       0.000000      15.000000   \n",
       "75%        0.369240      8.077030    1013.171226      21.000000   \n",
       "max        0.430060  95052.396733  329483.282675      32.000000   \n",
       "\n",
       "       comp_interno4    categoria1    categoria2    categoria3  comp_externo1  \\\n",
       "count   50000.000000  50000.000000  50000.000000  50000.000000   5.000000e+04   \n",
       "mean       56.537440      1.842300      8.034660    159.663740   5.955465e+02   \n",
       "std        10.051582      0.939685      2.036502      8.816343   1.725186e+04   \n",
       "min        24.000000      1.000000      1.000000    146.000000   0.000000e+00   \n",
       "25%        48.000000      1.000000      8.000000    153.000000   1.159420e+02   \n",
       "50%        55.000000      2.000000      9.000000    160.000000   2.463768e+02   \n",
       "75%        64.000000      2.000000      9.000000    166.000000   5.217391e+02   \n",
       "max        79.000000      6.000000     13.000000    177.000000   2.898551e+06   \n",
       "\n",
       "       comp_externo2  comp_externo3  comp_externo4  Tiempo_aparicion  \\\n",
       "count   50000.000000   50000.000000   5.000000e+04      50000.000000   \n",
       "mean       33.416022      66.372180   3.175998e+08         27.764020   \n",
       "std        39.933637     140.016215   1.753622e+09         17.994314   \n",
       "min         0.000000    -609.000000  -2.300000e+02          0.000000   \n",
       "25%         8.043666      72.000000  -2.300000e+02         12.000000   \n",
       "50%        20.396438      99.000000  -2.300000e+02         26.000000   \n",
       "75%        44.240161     120.000000  -2.300000e+02         42.000000   \n",
       "max       861.821316     159.000000   1.000000e+10         64.000000   \n",
       "\n",
       "       comportamiento_j  \n",
       "count      50000.000000  \n",
       "mean           1.045700  \n",
       "std            1.317242  \n",
       "min            0.000000  \n",
       "25%            1.000000  \n",
       "50%            1.000000  \n",
       "75%            1.000000  \n",
       "max           18.000000  "
      ]
     },
     "execution_count": 42,
     "metadata": {},
     "output_type": "execute_result"
    }
   ],
   "source": [
    "#Obtenemos los valores estadísticos básicos de la tabla \"final\", tales como: cantidad de observaciones, media, desviación estándar, valor mínimo, cuartiles y valor máximo. \n",
    "final.describe()"
   ]
  },
  {
   "cell_type": "code",
   "execution_count": 43,
   "metadata": {},
   "outputs": [
    {
     "data": {
      "text/plain": [
       "b'1'    35292\n",
       "b'0'    14708\n",
       "Name: comp_interno2, dtype: int64"
      ]
     },
     "execution_count": 43,
     "metadata": {},
     "output_type": "execute_result"
    }
   ],
   "source": [
    "#Contamos el tipo de valores que se encuentran en la columna \"comp_interno2\".\n",
    "final['comp_interno2'].value_counts()"
   ]
  },
  {
   "cell_type": "code",
   "execution_count": 44,
   "metadata": {},
   "outputs": [],
   "source": [
    "#Asignamos a una variable los datos que se encuentran en la columna \"inversion\".\n",
    "inv = final['inversion']"
   ]
  },
  {
   "cell_type": "code",
   "execution_count": 45,
   "metadata": {},
   "outputs": [
    {
     "name": "stdout",
     "output_type": "stream",
     "text": [
      "El percentil de la inversion al 0% es 0.0\n",
      "El percentil de la inversion al 5% es 0.0\n",
      "El percentil de la inversion al 10% es 0.0\n",
      "El percentil de la inversion al 15% es 0.0\n",
      "El percentil de la inversion al 20% es 0.0\n",
      "El percentil de la inversion al 25% es 0.0\n",
      "El percentil de la inversion al 30% es 0.0\n",
      "El percentil de la inversion al 35% es 0.0\n",
      "El percentil de la inversion al 40% es 0.0\n",
      "El percentil de la inversion al 45% es 0.0\n",
      "El percentil de la inversion al 50% es 0.0\n",
      "El percentil de la inversion al 55% es 0.0\n",
      "El percentil de la inversion al 60% es 0.0\n",
      "El percentil de la inversion al 65% es 3.908984830807681e-05\n",
      "El percentil de la inversion al 70% es 2.2311680280046646\n",
      "El percentil de la inversion al 75% es 8.077030338389731\n",
      "El percentil de la inversion al 80% es 19.22502217036174\n",
      "El percentil de la inversion al 85% es 43.89290256709453\n",
      "El percentil de la inversion al 90% es 106.54414702450399\n",
      "El percentil de la inversion al 95% es 292.3297508751439\n",
      "El percentil de la inversion al 100% es 95052.3967327888\n"
     ]
    }
   ],
   "source": [
    "#Creamos un bucle for para obtener los percentiles de 5 en 5 hasta llegar a 100 de los valores de las inversiones.\n",
    "for i in range(0,101, 5):\n",
    "    p = np.percentile(inv, i)\n",
    "    print(f'El percentil de la inversion al {i}% es {p}')"
   ]
  },
  {
   "cell_type": "code",
   "execution_count": 46,
   "metadata": {},
   "outputs": [
    {
     "name": "stdout",
     "output_type": "stream",
     "text": [
      "El percentil de la inversion al 95% es 292.3297508751439\n",
      "El percentil de la inversion al 96% es 382.52494002333725\n",
      "El percentil de la inversion al 97% es 504.0245740956821\n",
      "El percentil de la inversion al 98% es 721.9328399066508\n",
      "El percentil de la inversion al 99% es 1176.977154259045\n",
      "El percentil de la inversion al 100% es 95052.3967327888\n"
     ]
    }
   ],
   "source": [
    "#Creamos un bucle for para obtener los percentiles 95 - 100 de los valores de las inversiones.\n",
    "for i in range(95,101):\n",
    "    p = np.percentile(inv, i)\n",
    "    print(f'El percentil de la inversion al {i}% es {p}')"
   ]
  },
  {
   "cell_type": "code",
   "execution_count": 47,
   "metadata": {},
   "outputs": [
    {
     "name": "stdout",
     "output_type": "stream",
     "text": [
      "El percentil del tiempo de aparicion al 0% es 0.0\n",
      "El percentil del tiempo de aparicion al 5% es 2.0\n",
      "El percentil del tiempo de aparicion al 10% es 5.0\n",
      "El percentil del tiempo de aparicion al 15% es 7.0\n",
      "El percentil del tiempo de aparicion al 20% es 9.0\n",
      "El percentil del tiempo de aparicion al 25% es 12.0\n",
      "El percentil del tiempo de aparicion al 30% es 15.0\n",
      "El percentil del tiempo de aparicion al 35% es 17.0\n",
      "El percentil del tiempo de aparicion al 40% es 20.0\n",
      "El percentil del tiempo de aparicion al 45% es 23.0\n",
      "El percentil del tiempo de aparicion al 50% es 26.0\n",
      "El percentil del tiempo de aparicion al 55% es 29.0\n",
      "El percentil del tiempo de aparicion al 60% es 32.0\n",
      "El percentil del tiempo de aparicion al 65% es 35.0\n",
      "El percentil del tiempo de aparicion al 70% es 39.0\n",
      "El percentil del tiempo de aparicion al 75% es 42.0\n",
      "El percentil del tiempo de aparicion al 80% es 46.0\n",
      "El percentil del tiempo de aparicion al 85% es 50.0\n",
      "El percentil del tiempo de aparicion al 90% es 54.0\n",
      "El percentil del tiempo de aparicion al 95% es 58.0\n",
      "El percentil del tiempo de aparicion al 100% es 64.0\n"
     ]
    }
   ],
   "source": [
    "#Asignamos a una variable los valores de la columna \"Tiempo_aparicion\" de la tabla \"final\".\n",
    "tiempo = final['Tiempo_aparicion']\n",
    "\n",
    "#Creamos un bucle for para obtener los percentiles de 5 en 5 hasta llegar a 100 de los valores de los tiempos de aparición.\n",
    "for i in range(0,101, 5):\n",
    "    p = np.percentile(tiempo, i)\n",
    "    print(f'El percentil del tiempo de aparicion al {i}% es {p}')"
   ]
  },
  {
   "cell_type": "code",
   "execution_count": 48,
   "metadata": {},
   "outputs": [
    {
     "name": "stdout",
     "output_type": "stream",
     "text": [
      "El percentil del comportamiento_j al 0% es 0.0\n",
      "El percentil del comportamiento_j al 5% es 0.0\n",
      "El percentil del comportamiento_j al 10% es 0.0\n",
      "El percentil del comportamiento_j al 15% es 0.0\n",
      "El percentil del comportamiento_j al 20% es 0.0\n",
      "El percentil del comportamiento_j al 25% es 1.0\n",
      "El percentil del comportamiento_j al 30% es 1.0\n",
      "El percentil del comportamiento_j al 35% es 1.0\n",
      "El percentil del comportamiento_j al 40% es 1.0\n",
      "El percentil del comportamiento_j al 45% es 1.0\n",
      "El percentil del comportamiento_j al 50% es 1.0\n",
      "El percentil del comportamiento_j al 55% es 1.0\n",
      "El percentil del comportamiento_j al 60% es 1.0\n",
      "El percentil del comportamiento_j al 65% es 1.0\n",
      "El percentil del comportamiento_j al 70% es 1.0\n",
      "El percentil del comportamiento_j al 75% es 1.0\n",
      "El percentil del comportamiento_j al 80% es 1.0\n",
      "El percentil del comportamiento_j al 85% es 1.0\n",
      "El percentil del comportamiento_j al 90% es 1.0\n",
      "El percentil del comportamiento_j al 95% es 2.0\n",
      "El percentil del comportamiento_j al 100% es 18.0\n",
      "\n",
      "El percentil del comportamiento_j al 95% es 2.0\n",
      "El percentil del comportamiento_j al 96% es 3.0\n",
      "El percentil del comportamiento_j al 97% es 4.0\n",
      "El percentil del comportamiento_j al 98% es 7.0\n",
      "El percentil del comportamiento_j al 99% es 9.0\n",
      "El percentil del comportamiento_j al 100% es 18.0\n"
     ]
    }
   ],
   "source": [
    "#Asignamos a una variable los valores de la columna \"comportamiento_j\" de la tabla \"final\".\n",
    "comp_j = final['comportamiento_j']\n",
    "\n",
    "#Creamos un bucle for para obtener los percentiles de 5 en 5 hasta llegar a 100 de los valores del comportamiento j.\n",
    "for i in range(0,101, 5):\n",
    "    p = np.percentile(comp_j, i)\n",
    "    print(f'El percentil del comportamiento_j al {i}% es {p}')\n",
    "\n",
    "print()\n",
    "#Creamos un bucle for para obtener los percentiles 95 - 100 de los valores del comportamiento j.\n",
    "for i in range(95,101):\n",
    "    p = np.percentile(comp_j, i)\n",
    "    print(f'El percentil del comportamiento_j al {i}% es {p}')"
   ]
  },
  {
   "cell_type": "markdown",
   "metadata": {},
   "source": [
    "#### A quiénes sí y a quiénes no damos el crédito?\n",
    "\n",
    "Dado que no tenemos mucho contexto de las variables, usaremos sólo 2, el mes de información y la variable de la inversión."
   ]
  },
  {
   "cell_type": "code",
   "execution_count": 49,
   "metadata": {},
   "outputs": [],
   "source": [
    "#Creamos una nueva tabla con los valores de las columnas \"_id_\", \"mes_informacion\" e \"inversion\" de la tabla \"final\".\n",
    "final_1 = final[['_id_', 'mes_informacion', 'inversion']]"
   ]
  },
  {
   "cell_type": "code",
   "execution_count": 50,
   "metadata": {},
   "outputs": [
    {
     "data": {
      "text/plain": [
       "Timestamp('2021-05-01 00:00:00')"
      ]
     },
     "execution_count": 50,
     "metadata": {},
     "output_type": "execute_result"
    }
   ],
   "source": [
    "#Asignamos a una variable el valor máximo de la columna \"mes_informacion\" que se encuentra en la tabla \"final_1\".\n",
    "fecha_max = final_1['mes_informacion'].max()\n",
    "fecha_max"
   ]
  },
  {
   "cell_type": "code",
   "execution_count": 51,
   "metadata": {},
   "outputs": [
    {
     "data": {
      "text/plain": [
       "3260782.502637106"
      ]
     },
     "execution_count": 51,
     "metadata": {},
     "output_type": "execute_result"
    }
   ],
   "source": [
    "#Asignamos a una variable la suma de todos los valores contenidos en la columna \"inversion\" de la tabla \"final_1\".\n",
    "tot_inv = final_1['inversion'].sum()\n",
    "tot_inv"
   ]
  },
  {
   "cell_type": "code",
   "execution_count": 52,
   "metadata": {},
   "outputs": [
    {
     "data": {
      "text/plain": [
       "Timestamp('2020-05-02 00:00:00')"
      ]
     },
     "execution_count": 52,
     "metadata": {},
     "output_type": "execute_result"
    }
   ],
   "source": [
    "#Obtenemos la fecha un año atrás de la fecha máxima obtenida de la columna \"mes_informacion\" que se encuentra en la tabla \"final_1\".\n",
    "fecha_ant = fecha_max- timedelta(weeks = 52)\n",
    "fecha_ant"
   ]
  },
  {
   "cell_type": "code",
   "execution_count": 53,
   "metadata": {},
   "outputs": [
    {
     "name": "stderr",
     "output_type": "stream",
     "text": [
      "<ipython-input-53-0d46a4e85529>:2: SettingWithCopyWarning: \n",
      "A value is trying to be set on a copy of a slice from a DataFrame.\n",
      "Try using .loc[row_indexer,col_indexer] = value instead\n",
      "\n",
      "See the caveats in the documentation: https://pandas.pydata.org/pandas-docs/stable/user_guide/indexing.html#returning-a-view-versus-a-copy\n",
      "  final_1['porc_inv'] = final['inversion'] / tot_inv\n"
     ]
    }
   ],
   "source": [
    "#Creamos una nueva columna en la tabla \"final_1\", llamada \"porc_inv\", la cual almacenará las inversiones expresadas en porcentaje.\n",
    "final_1['porc_inv'] = final['inversion'] / tot_inv"
   ]
  },
  {
   "cell_type": "code",
   "execution_count": 54,
   "metadata": {},
   "outputs": [],
   "source": [
    "#Asignamos a una variable el percentil al 90% de los valores que representan los porcentajes de inversión.\n",
    "thresh = np.percentile(final_1['porc_inv'], 90)"
   ]
  },
  {
   "cell_type": "code",
   "execution_count": 55,
   "metadata": {},
   "outputs": [],
   "source": [
    "#Asignamos a una variable todas aquellas fechas que sean mayores al 2020-05-02.\n",
    "mini = final_1['mes_informacion'] > fecha_ant"
   ]
  },
  {
   "cell_type": "code",
   "execution_count": 56,
   "metadata": {},
   "outputs": [],
   "source": [
    "#Asignamos a una variable todas aquellas fechas que sean menores al 2020-05-02.\n",
    "maxi = final_1['mes_informacion'] < fecha_ant"
   ]
  },
  {
   "cell_type": "code",
   "execution_count": 57,
   "metadata": {},
   "outputs": [],
   "source": [
    "#Asignamos a una variable a aquellos valores cuyo mes de información no es más antigüo a un año o que su porcentaje de inversion sea mayor al percentil del 90%\n",
    "mask = ( (final_1['porc_inv'] > thresh) | (mini & maxi ) )"
   ]
  },
  {
   "cell_type": "markdown",
   "metadata": {},
   "source": [
    "#### Clientes a los que se les da el crédito\n",
    "\n",
    "A los clientes a los cuales se les dará el crédito, es a aquellos cuyo mes de información no es más antigüo a un año o que su porcentaje de inversion sea mayor al percentil del 90% (tomando al porcentaje de inversión como la división entre la inversión del cliente entre la suma total de las inversiones)."
   ]
  },
  {
   "cell_type": "code",
   "execution_count": 58,
   "metadata": {
    "scrolled": true
   },
   "outputs": [
    {
     "data": {
      "text/html": [
       "<div>\n",
       "<style scoped>\n",
       "    .dataframe tbody tr th:only-of-type {\n",
       "        vertical-align: middle;\n",
       "    }\n",
       "\n",
       "    .dataframe tbody tr th {\n",
       "        vertical-align: top;\n",
       "    }\n",
       "\n",
       "    .dataframe thead th {\n",
       "        text-align: right;\n",
       "    }\n",
       "</style>\n",
       "<table border=\"1\" class=\"dataframe\">\n",
       "  <thead>\n",
       "    <tr style=\"text-align: right;\">\n",
       "      <th></th>\n",
       "      <th>_id_</th>\n",
       "      <th>mes_informacion</th>\n",
       "      <th>inversion</th>\n",
       "      <th>porc_inv</th>\n",
       "    </tr>\n",
       "  </thead>\n",
       "  <tbody>\n",
       "    <tr>\n",
       "      <th>12</th>\n",
       "      <td>86932</td>\n",
       "      <td>2021-05-01</td>\n",
       "      <td>992.635578</td>\n",
       "      <td>0.000304</td>\n",
       "    </tr>\n",
       "    <tr>\n",
       "      <th>29</th>\n",
       "      <td>67961</td>\n",
       "      <td>2021-01-01</td>\n",
       "      <td>561.805974</td>\n",
       "      <td>0.000172</td>\n",
       "    </tr>\n",
       "    <tr>\n",
       "      <th>43</th>\n",
       "      <td>2723</td>\n",
       "      <td>2017-05-01</td>\n",
       "      <td>443.717293</td>\n",
       "      <td>0.000136</td>\n",
       "    </tr>\n",
       "    <tr>\n",
       "      <th>49</th>\n",
       "      <td>25522</td>\n",
       "      <td>2021-05-01</td>\n",
       "      <td>479.410957</td>\n",
       "      <td>0.000147</td>\n",
       "    </tr>\n",
       "    <tr>\n",
       "      <th>72</th>\n",
       "      <td>15216</td>\n",
       "      <td>2021-05-01</td>\n",
       "      <td>673.970607</td>\n",
       "      <td>0.000207</td>\n",
       "    </tr>\n",
       "    <tr>\n",
       "      <th>...</th>\n",
       "      <td>...</td>\n",
       "      <td>...</td>\n",
       "      <td>...</td>\n",
       "      <td>...</td>\n",
       "    </tr>\n",
       "    <tr>\n",
       "      <th>49946</th>\n",
       "      <td>8130</td>\n",
       "      <td>2017-07-01</td>\n",
       "      <td>123.557515</td>\n",
       "      <td>0.000038</td>\n",
       "    </tr>\n",
       "    <tr>\n",
       "      <th>49950</th>\n",
       "      <td>28909</td>\n",
       "      <td>2021-05-01</td>\n",
       "      <td>656.531284</td>\n",
       "      <td>0.000201</td>\n",
       "    </tr>\n",
       "    <tr>\n",
       "      <th>49981</th>\n",
       "      <td>32887</td>\n",
       "      <td>2021-05-01</td>\n",
       "      <td>728.274796</td>\n",
       "      <td>0.000223</td>\n",
       "    </tr>\n",
       "    <tr>\n",
       "      <th>49985</th>\n",
       "      <td>19139</td>\n",
       "      <td>2021-05-01</td>\n",
       "      <td>154.553909</td>\n",
       "      <td>0.000047</td>\n",
       "    </tr>\n",
       "    <tr>\n",
       "      <th>49996</th>\n",
       "      <td>9126</td>\n",
       "      <td>2020-05-01</td>\n",
       "      <td>730.952882</td>\n",
       "      <td>0.000224</td>\n",
       "    </tr>\n",
       "  </tbody>\n",
       "</table>\n",
       "<p>5000 rows × 4 columns</p>\n",
       "</div>"
      ],
      "text/plain": [
       "        _id_ mes_informacion   inversion  porc_inv\n",
       "12     86932      2021-05-01  992.635578  0.000304\n",
       "29     67961      2021-01-01  561.805974  0.000172\n",
       "43      2723      2017-05-01  443.717293  0.000136\n",
       "49     25522      2021-05-01  479.410957  0.000147\n",
       "72     15216      2021-05-01  673.970607  0.000207\n",
       "...      ...             ...         ...       ...\n",
       "49946   8130      2017-07-01  123.557515  0.000038\n",
       "49950  28909      2021-05-01  656.531284  0.000201\n",
       "49981  32887      2021-05-01  728.274796  0.000223\n",
       "49985  19139      2021-05-01  154.553909  0.000047\n",
       "49996   9126      2020-05-01  730.952882  0.000224\n",
       "\n",
       "[5000 rows x 4 columns]"
      ]
     },
     "execution_count": 58,
     "metadata": {},
     "output_type": "execute_result"
    }
   ],
   "source": [
    "#Mostramos a todos los clientes que son aptos para recibir un crédito.\n",
    "final_1[mask]"
   ]
  },
  {
   "cell_type": "markdown",
   "metadata": {},
   "source": [
    "#### Extra: \n",
    "Histogramas, Boxplots y Matriz de Correlaciones."
   ]
  },
  {
   "cell_type": "markdown",
   "metadata": {},
   "source": [
    "##### Histogramas"
   ]
  },
  {
   "cell_type": "code",
   "execution_count": 59,
   "metadata": {},
   "outputs": [],
   "source": [
    "#Creamos una función para graficar histogramas.\n",
    "#Nuestra función tomará la tabla de datos, el número de particiones del histograma, el color, el título del histograma, el título del eje x y el título del eje y.\n",
    "def hist(tabla, bins, color, titulo, x, y):\n",
    "            plt.hist(x = tabla, bins = bins, color = color, rwidth=0.85)\n",
    "            plt.title(titulo)\n",
    "            plt.xlabel(x)\n",
    "            plt.ylabel(y)\n",
    "            return plt.show()"
   ]
  },
  {
   "cell_type": "code",
   "execution_count": 60,
   "metadata": {},
   "outputs": [
    {
     "data": {
      "image/png": "[encoded data removed]",
      "text/plain": [
       "<Figure size 432x288 with 1 Axes>"
      ]
     },
     "metadata": {
      "needs_background": "light"
     },
     "output_type": "display_data"
    }
   ],
   "source": [
    "#Histograma de comportamiento mixto\n",
    "hist(final['comp_mixto1'], 15, 'gold', 'Histograma de comportamiento mixto','Proporción', 'Frecuencia')"
   ]
  },
  {
   "cell_type": "code",
   "execution_count": 61,
   "metadata": {},
   "outputs": [
    {
     "data": {
      "image/png": "[encoded data removed]",
      "text/plain": [
       "<Figure size 432x288 with 1 Axes>"
      ]
     },
     "metadata": {
      "needs_background": "light"
     },
     "output_type": "display_data"
    }
   ],
   "source": [
    "#Histograma de inversión\n",
    "hist(final['inversion'], 100, '#F2AB6D', 'Histograma de inversión','Inversión', 'Frecuencia')"
   ]
  },
  {
   "cell_type": "code",
   "execution_count": 62,
   "metadata": {},
   "outputs": [
    {
     "data": {
      "image/png": "[encoded data removed]",
      "text/plain": [
       "<Figure size 432x288 with 1 Axes>"
      ]
     },
     "metadata": {
      "needs_background": "light"
     },
     "output_type": "display_data"
    }
   ],
   "source": [
    "#Histograma de inversión (sin valores atípicos)\n",
    "\n",
    "#Rango Intercuantil de inversión.\n",
    "IQR_i = scipy.stats.iqr(final['inversion'], axis=None, rng=(25, 75), scale=1.0, nan_policy='propagate', interpolation='linear', keepdims=False)\n",
    "#Valores Atípicos Aislados de inversión.\n",
    "OC_i = np.percentile(final['inversion'],75) + (1.5 *IQR_i)\n",
    "#Índice de los Valores Atípicos\n",
    "IO_i = final[\"inversion\"].index[final[\"inversion\"]<=OC_i].tolist()\n",
    "\n",
    "#Retiro de Valores Atípicos.\n",
    "RO_i = []\n",
    "for i in IO_i:\n",
    "    RO_i.append(final[\"inversion\"][i])\n",
    "    \n",
    "#Creamos el Histograma de inversión (sin valores atípicos).\n",
    "hist(RO_i, 15, '#F2AB6D', 'Histograma de inversión (sin valores atípicos)','Inversión', 'Frecuencia')"
   ]
  },
  {
   "cell_type": "code",
   "execution_count": 63,
   "metadata": {},
   "outputs": [
    {
     "data": {
      "image/png": "[encoded data removed]",
      "text/plain": [
       "<Figure size 432x288 with 1 Axes>"
      ]
     },
     "metadata": {
      "needs_background": "light"
     },
     "output_type": "display_data"
    }
   ],
   "source": [
    "#Histograma de fecha de inicio\n",
    "hist(final['fecha_inicio'], 15, 'gray', 'Histograma de fecha de inicio','Año', 'Frecuencia')"
   ]
  },
  {
   "cell_type": "code",
   "execution_count": 64,
   "metadata": {},
   "outputs": [
    {
     "data": {
      "image/png": "[encoded data removed]",
      "text/plain": [
       "<Figure size 432x288 with 1 Axes>"
      ]
     },
     "metadata": {
      "needs_background": "light"
     },
     "output_type": "display_data"
    }
   ],
   "source": [
    "#Histograma de comportamiento interno 1\n",
    "hist(final['comp_interno1'], 100, 'red', 'Histograma de comportamiento interno 1','Cantidad', 'Frecuencia')"
   ]
  },
  {
   "cell_type": "code",
   "execution_count": 65,
   "metadata": {
    "scrolled": true
   },
   "outputs": [
    {
     "data": {
      "image/png": "[encoded data removed]",
      "text/plain": [
       "<Figure size 432x288 with 1 Axes>"
      ]
     },
     "metadata": {
      "needs_background": "light"
     },
     "output_type": "display_data"
    }
   ],
   "source": [
    "#Histograma de comportamiento interno 1 (sin valores atípicos)\n",
    "\n",
    "#Rango Intercuantil del comportamiento interno 1.\n",
    "IQR_ci1 = scipy.stats.iqr(final['comp_interno1'], axis=None, rng=(25, 75), scale=1.0, nan_policy='propagate', interpolation='linear', keepdims=False)\n",
    "#Valores Atípicos Aislados del comportamiento interno 1.\n",
    "OC_ci1 = np.percentile(final['comp_interno1'],75) + (1.5 *IQR_ci1)\n",
    "#Índice de los Valores Atípicos.\n",
    "IO_ci1 = final['comp_interno1'].index[final['comp_interno1']<=OC_ci1].tolist()\n",
    "\n",
    "#Retiro de Valores Atípicos.\n",
    "RO_ci1 = []\n",
    "for i in IO_ci1:\n",
    "    RO_ci1.append(final['comp_interno1'][i])\n",
    "    \n",
    "#Creamos el Histograma de comportamiento interno 1 (sin valores atípicos).\n",
    "hist(RO_ci1, 15, 'red', 'Histograma de comportamiento interno 1 (sin valores atípicos)','Cantidad', 'Frecuencia')"
   ]
  },
  {
   "cell_type": "code",
   "execution_count": 66,
   "metadata": {
    "scrolled": true
   },
   "outputs": [
    {
     "data": {
      "image/png": "[encoded data removed]",
      "text/plain": [
       "<Figure size 432x288 with 1 Axes>"
      ]
     },
     "metadata": {
      "needs_background": "light"
     },
     "output_type": "display_data"
    }
   ],
   "source": [
    "#Histograma de comportamiento interno 2\n",
    "hist(final['comp_interno2'], 2, 'darkred', 'Histograma de comportamiento interno 2','Tipo','Frecuencia')"
   ]
  },
  {
   "cell_type": "code",
   "execution_count": 67,
   "metadata": {},
   "outputs": [
    {
     "data": {
      "image/png": "[encoded data removed]",
      "text/plain": [
       "<Figure size 432x288 with 1 Axes>"
      ]
     },
     "metadata": {
      "needs_background": "light"
     },
     "output_type": "display_data"
    }
   ],
   "source": [
    "#Histograma de comportamiento interno 3\n",
    "hist(final['comp_interno3'], 15, '#722f37', 'Histograma de comportamiento interno 3','Cantidad','Frecuencia')"
   ]
  },
  {
   "cell_type": "code",
   "execution_count": 68,
   "metadata": {},
   "outputs": [
    {
     "data": {
      "image/png": "[encoded data removed]",
      "text/plain": [
       "<Figure size 432x288 with 1 Axes>"
      ]
     },
     "metadata": {
      "needs_background": "light"
     },
     "output_type": "display_data"
    }
   ],
   "source": [
    "#Histograma de comportamiento interno 4\n",
    "hist(final['comp_interno4'], 15, '#641c34', 'Histograma de comportamiento interno 4','Cantidad','Frecuencia')"
   ]
  },
  {
   "cell_type": "code",
   "execution_count": 69,
   "metadata": {},
   "outputs": [
    {
     "data": {
      "image/png": "[encoded data removed]",
      "text/plain": [
       "<Figure size 432x288 with 1 Axes>"
      ]
     },
     "metadata": {
      "needs_background": "light"
     },
     "output_type": "display_data"
    }
   ],
   "source": [
    "#Histograma de la categoría 1\n",
    "hist(final['categoria1'], 6, 'navy', 'Histograma de la categoría 1','Categoría','Frecuencia')"
   ]
  },
  {
   "cell_type": "code",
   "execution_count": 70,
   "metadata": {},
   "outputs": [
    {
     "data": {
      "image/png": "[encoded data removed]",
      "text/plain": [
       "<Figure size 432x288 with 1 Axes>"
      ]
     },
     "metadata": {
      "needs_background": "light"
     },
     "output_type": "display_data"
    }
   ],
   "source": [
    "#Histograma de la categoría 2\n",
    "hist(final['categoria2'], 13, 'blue', 'Histograma de la categoría 2','Categoría','Frecuencia')"
   ]
  },
  {
   "cell_type": "code",
   "execution_count": 71,
   "metadata": {},
   "outputs": [
    {
     "data": {
      "image/png": "[encoded data removed]",
      "text/plain": [
       "<Figure size 432x288 with 1 Axes>"
      ]
     },
     "metadata": {
      "needs_background": "light"
     },
     "output_type": "display_data"
    }
   ],
   "source": [
    "#Histograma de la categoría 3\n",
    "hist(final['categoria3'], 15, 'skyblue', 'Histograma de la categoría 3','Categoría','Frecuencia')"
   ]
  },
  {
   "cell_type": "code",
   "execution_count": 72,
   "metadata": {},
   "outputs": [
    {
     "data": {
      "image/png": "[encoded data removed]",
      "text/plain": [
       "<Figure size 432x288 with 1 Axes>"
      ]
     },
     "metadata": {
      "needs_background": "light"
     },
     "output_type": "display_data"
    }
   ],
   "source": [
    "#Histograma de comportamiento externo 1\n",
    "hist(final['comp_externo1'], 15, 'lightgreen', 'Histograma de comportamiento externo 1','Cantidad','Frecuencia')"
   ]
  },
  {
   "cell_type": "code",
   "execution_count": 73,
   "metadata": {},
   "outputs": [
    {
     "data": {
      "image/png": "[encoded data removed]",
      "text/plain": [
       "<Figure size 432x288 with 1 Axes>"
      ]
     },
     "metadata": {
      "needs_background": "light"
     },
     "output_type": "display_data"
    }
   ],
   "source": [
    "#Histograma de comportamiento externo 1 (sin valores atípicos)\n",
    "\n",
    "#Rango Intercuantil del comportamiento externo 1.\n",
    "IQR_ce1 = scipy.stats.iqr(final['comp_externo1'], axis=None, rng=(25, 75), scale=1.0, nan_policy='propagate', interpolation='linear', keepdims=False)\n",
    "#Valores Atípicos Aislados del comportamiento externo 1.\n",
    "OC_ce1 = np.percentile(final['comp_externo1'],75) + (1.5 *IQR_ce1)\n",
    "#Índice de los Valores Atípicos. \n",
    "IO_ce1 = final['comp_externo1'].index[final['comp_externo1']<=OC_ce1].tolist()\n",
    "\n",
    "#Retiro de Valores Atípicos.\n",
    "RO_ce1 = []\n",
    "for i in IO_ce1:\n",
    "    RO_ce1.append(final['comp_externo1'][i])\n",
    "\n",
    "#Creamos el Histograma de comportamiento externo 1 (sin valores atípicos).\n",
    "hist(RO_ce1, 15, 'lightgreen', 'Histograma de comportamiento externo 1 (sin valores atípicos)','Cantidad','Frecuencia')"
   ]
  },
  {
   "cell_type": "code",
   "execution_count": 74,
   "metadata": {},
   "outputs": [
    {
     "data": {
      "image/png": "[encoded data removed]",
      "text/plain": [
       "<Figure size 432x288 with 1 Axes>"
      ]
     },
     "metadata": {
      "needs_background": "light"
     },
     "output_type": "display_data"
    }
   ],
   "source": [
    "#Histograma de comportamiento externo 2\n",
    "hist(final['comp_externo2'], 15, 'yellowgreen', 'Histograma de comportamiento externo 2','Cantidad','Frecuencia')"
   ]
  },
  {
   "cell_type": "code",
   "execution_count": 75,
   "metadata": {},
   "outputs": [
    {
     "data": {
      "image/png": "[encoded data removed]",
      "text/plain": [
       "<Figure size 432x288 with 1 Axes>"
      ]
     },
     "metadata": {
      "needs_background": "light"
     },
     "output_type": "display_data"
    }
   ],
   "source": [
    "#Histograma de comportamiento externo 3\n",
    "hist(final['comp_externo3'], 15, '#6b750a', 'Histograma de comportamiento externo 3','Cantidad','Frecuencia')"
   ]
  },
  {
   "cell_type": "code",
   "execution_count": 76,
   "metadata": {},
   "outputs": [
    {
     "data": {
      "image/png": "[encoded data removed]",
      "text/plain": [
       "<Figure size 432x288 with 1 Axes>"
      ]
     },
     "metadata": {
      "needs_background": "light"
     },
     "output_type": "display_data"
    }
   ],
   "source": [
    "#Histograma de comportamiento externo 4\n",
    "hist(final['comp_externo4'], 6, 'green', 'Histograma de comportamiento externo 4','Cantidad','Frecuencia')"
   ]
  },
  {
   "cell_type": "code",
   "execution_count": 77,
   "metadata": {},
   "outputs": [
    {
     "data": {
      "image/png": "[encoded data removed]",
      "text/plain": [
       "<Figure size 432x288 with 1 Axes>"
      ]
     },
     "metadata": {
      "needs_background": "light"
     },
     "output_type": "display_data"
    }
   ],
   "source": [
    "#Histograma de infromación por mes\n",
    "hist(final['mes_informacion'], 15, 'cyan', 'Histograma de infromación por mes','Año','Frecuencia')"
   ]
  },
  {
   "cell_type": "code",
   "execution_count": 78,
   "metadata": {},
   "outputs": [
    {
     "data": {
      "image/png": "[encoded data removed]",
      "text/plain": [
       "<Figure size 432x288 with 1 Axes>"
      ]
     },
     "metadata": {
      "needs_background": "light"
     },
     "output_type": "display_data"
    }
   ],
   "source": [
    "#Histograma de tiempo de aparición\n",
    "hist(final['Tiempo_aparicion'], 15, 'purple', 'Histograma de tiempo de aparición','Tiempo','Frecuencia')"
   ]
  },
  {
   "cell_type": "code",
   "execution_count": 79,
   "metadata": {},
   "outputs": [
    {
     "data": {
      "image/png": "[encoded data removed]",
      "text/plain": [
       "<Figure size 432x288 with 1 Axes>"
      ]
     },
     "metadata": {
      "needs_background": "light"
     },
     "output_type": "display_data"
    }
   ],
   "source": [
    "#Histograma de comportamiento j\n",
    "hist(final['comportamiento_j'], 15, 'black', 'Histograma de comportamiento j','Cantidad','Frecuencia')"
   ]
  },
  {
   "cell_type": "markdown",
   "metadata": {},
   "source": [
    "##### Boxplots"
   ]
  },
  {
   "cell_type": "code",
   "execution_count": 80,
   "metadata": {},
   "outputs": [],
   "source": [
    "#Creamos una función para graficar boxplots.\n",
    "#Nuestra función tomará la tabla de datos, el título del histograma, el título del eje x y el título del eje y.\n",
    "def bp(tabla, titulo, x, y):\n",
    "            plt.boxplot(tabla)\n",
    "            plt.title(titulo)\n",
    "            plt.xlabel(x)\n",
    "            plt.ylabel(y)\n",
    "            return plt.show()"
   ]
  },
  {
   "cell_type": "code",
   "execution_count": 81,
   "metadata": {},
   "outputs": [
    {
     "data": {
      "image/png": "[encoded data removed]",
      "text/plain": [
       "<Figure size 432x288 with 1 Axes>"
      ]
     },
     "metadata": {
      "needs_background": "light"
     },
     "output_type": "display_data"
    }
   ],
   "source": [
    "#Boxplot de comportamiento mixto\n",
    "bp(final['comp_mixto1'], 'Boxplot de comportamiento mixto', 'Proporción', 'Frecuencia')"
   ]
  },
  {
   "cell_type": "code",
   "execution_count": 82,
   "metadata": {},
   "outputs": [
    {
     "data": {
      "image/png": "[encoded data removed]",
      "text/plain": [
       "<Figure size 432x288 with 1 Axes>"
      ]
     },
     "metadata": {
      "needs_background": "light"
     },
     "output_type": "display_data"
    }
   ],
   "source": [
    "#Boxplot de inversión\n",
    "bp(final['inversion'], 'Boxplot de inversión', 'Inversión', 'Frecuencia')"
   ]
  },
  {
   "cell_type": "code",
   "execution_count": 83,
   "metadata": {},
   "outputs": [
    {
     "data": {
      "image/png": "[encoded data removed]",
      "text/plain": [
       "<Figure size 432x288 with 1 Axes>"
      ]
     },
     "metadata": {
      "needs_background": "light"
     },
     "output_type": "display_data"
    }
   ],
   "source": [
    "#Boxplot de comportamiento interno 1\n",
    "bp(final['comp_interno1'], 'Boxplot de comportamiento interno 1', 'Cantidad', 'Frecuencia')"
   ]
  },
  {
   "cell_type": "code",
   "execution_count": 84,
   "metadata": {},
   "outputs": [
    {
     "data": {
      "image/png": "[encoded data removed]",
      "text/plain": [
       "<Figure size 432x288 with 1 Axes>"
      ]
     },
     "metadata": {
      "needs_background": "light"
     },
     "output_type": "display_data"
    }
   ],
   "source": [
    "#Boxplot de comportamiento interno 3\n",
    "bp(final['comp_interno3'], 'Boxplot de comportamiento interno 3', 'Cantidad', 'Frecuencia')"
   ]
  },
  {
   "cell_type": "code",
   "execution_count": 85,
   "metadata": {},
   "outputs": [
    {
     "data": {
      "image/png": "[encoded data removed]",
      "text/plain": [
       "<Figure size 432x288 with 1 Axes>"
      ]
     },
     "metadata": {
      "needs_background": "light"
     },
     "output_type": "display_data"
    }
   ],
   "source": [
    "#Boxplot de comportamiento interno 4\n",
    "bp(final['comp_interno4'], 'Boxplot de comportamiento interno 4', 'Cantidad', 'Frecuencia')"
   ]
  },
  {
   "cell_type": "code",
   "execution_count": 86,
   "metadata": {},
   "outputs": [
    {
     "data": {
      "image/png": "[encoded data removed]",
      "text/plain": [
       "<Figure size 432x288 with 1 Axes>"
      ]
     },
     "metadata": {
      "needs_background": "light"
     },
     "output_type": "display_data"
    }
   ],
   "source": [
    "#Boxplot de la categoría 1\n",
    "bp(final['categoria1'], 'Boxplot de la categoría 1', 'Categoría', 'Frecuencia')"
   ]
  },
  {
   "cell_type": "code",
   "execution_count": 87,
   "metadata": {},
   "outputs": [
    {
     "data": {
      "image/png": "[encoded data removed]",
      "text/plain": [
       "<Figure size 432x288 with 1 Axes>"
      ]
     },
     "metadata": {
      "needs_background": "light"
     },
     "output_type": "display_data"
    }
   ],
   "source": [
    "#Boxplot de la categoría 2\n",
    "bp(final['categoria2'], 'Boxplot de la categoría 2', 'Categoría', 'Frecuencia')"
   ]
  },
  {
   "cell_type": "code",
   "execution_count": 88,
   "metadata": {
    "scrolled": true
   },
   "outputs": [
    {
     "data": {
      "image/png": "[encoded data removed]",
      "text/plain": [
       "<Figure size 432x288 with 1 Axes>"
      ]
     },
     "metadata": {
      "needs_background": "light"
     },
     "output_type": "display_data"
    }
   ],
   "source": [
    "#Boxplot de la categoría 3\n",
    "bp(final['categoria3'], 'Boxplot de la categoría 3', 'Categoría', 'Frecuencia')"
   ]
  },
  {
   "cell_type": "code",
   "execution_count": 89,
   "metadata": {},
   "outputs": [
    {
     "data": {
      "image/png": "[encoded data removed]",
      "text/plain": [
       "<Figure size 432x288 with 1 Axes>"
      ]
     },
     "metadata": {
      "needs_background": "light"
     },
     "output_type": "display_data"
    }
   ],
   "source": [
    "#Boxplot de comportamiento externo 1\n",
    "bp(final['comp_externo1'], 'Boxplot de comportamiento externo 1', 'Cantidad', 'Frecuencia')"
   ]
  },
  {
   "cell_type": "code",
   "execution_count": 90,
   "metadata": {},
   "outputs": [
    {
     "data": {
      "image/png": "[encoded data removed]",
      "text/plain": [
       "<Figure size 432x288 with 1 Axes>"
      ]
     },
     "metadata": {
      "needs_background": "light"
     },
     "output_type": "display_data"
    }
   ],
   "source": [
    "#Boxplot de comportamiento externo 2\n",
    "bp(final['comp_externo2'], 'Boxplot de comportamiento externo 2', 'Cantidad', 'Frecuencia')"
   ]
  },
  {
   "cell_type": "code",
   "execution_count": 91,
   "metadata": {},
   "outputs": [
    {
     "data": {
      "image/png": "[encoded data removed]",
      "text/plain": [
       "<Figure size 432x288 with 1 Axes>"
      ]
     },
     "metadata": {
      "needs_background": "light"
     },
     "output_type": "display_data"
    }
   ],
   "source": [
    "#Boxplot de comportamiento externo 3\n",
    "bp(final['comp_externo3'], 'Boxplot de comportamiento externo 3', 'Cantidad', 'Frecuencia')"
   ]
  },
  {
   "cell_type": "code",
   "execution_count": 92,
   "metadata": {},
   "outputs": [
    {
     "data": {
      "image/png": "[encoded data removed]",
      "text/plain": [
       "<Figure size 432x288 with 1 Axes>"
      ]
     },
     "metadata": {
      "needs_background": "light"
     },
     "output_type": "display_data"
    }
   ],
   "source": [
    "#Boxplot de comportamiento externo 4\n",
    "bp(final['comp_externo4'], 'Boxplot de comportamiento externo 4', 'Cantidad', 'Frecuencia')"
   ]
  },
  {
   "cell_type": "code",
   "execution_count": 93,
   "metadata": {},
   "outputs": [
    {
     "data": {
      "image/png": "[encoded data removed]",
      "text/plain": [
       "<Figure size 432x288 with 1 Axes>"
      ]
     },
     "metadata": {
      "needs_background": "light"
     },
     "output_type": "display_data"
    }
   ],
   "source": [
    "#Boxplot de tiempo de aparición\n",
    "bp(final['Tiempo_aparicion'], 'Boxplot de tiempo de aparición', 'Tiempo', 'Frecuencia')"
   ]
  },
  {
   "cell_type": "code",
   "execution_count": 94,
   "metadata": {
    "scrolled": true
   },
   "outputs": [
    {
     "data": {
      "image/png": "[encoded data removed]",
      "text/plain": [
       "<Figure size 432x288 with 1 Axes>"
      ]
     },
     "metadata": {
      "needs_background": "light"
     },
     "output_type": "display_data"
    }
   ],
   "source": [
    "#Boxplot de comportamiento j\n",
    "bp(final['comportamiento_j'], 'Boxplot de comportamiento j', 'Cantidad', 'Frecuencia')"
   ]
  },
  {
   "cell_type": "markdown",
   "metadata": {},
   "source": [
    "##### Matriz de Correlaciones"
   ]
  },
  {
   "cell_type": "code",
   "execution_count": 95,
   "metadata": {},
   "outputs": [],
   "source": [
    "#Para crear la matriz de correlaciones necesitamos quitar las columnas que contienen los id's de la tabla \"final\", por lo cual creamos una nueva tabla que no los tenga.\n",
    "final_si = final[[\"comp_mixto1\", \"inversion\", \"fecha_inicio\", \"comp_interno1\", \"comp_interno2\", \"comp_interno3\", \"comp_interno4\", \"categoria1\", \"categoria2\", \"categoria3\", \"comp_externo1\", \"comp_externo2\", \"comp_externo3\", \"comp_externo4\", \"Tiempo_aparicion\", \"comportamiento_j\"]]"
   ]
  },
  {
   "cell_type": "code",
   "execution_count": 96,
   "metadata": {},
   "outputs": [
    {
     "name": "stdout",
     "output_type": "stream",
     "text": [
      "La correlación de los datos es:\n",
      "                  comp_mixto1  inversion  comp_interno1  comp_interno3  \\\n",
      "comp_mixto1          1.000000  -0.022305      -0.062475       0.037184   \n",
      "inversion           -0.022305   1.000000       0.036716      -0.004737   \n",
      "comp_interno1       -0.062475   0.036716       1.000000       0.004324   \n",
      "comp_interno3        0.037184  -0.004737       0.004324       1.000000   \n",
      "comp_interno4       -0.079492   0.040115       0.111045       0.014043   \n",
      "categoria1          -0.059576   0.020377       0.037156       0.032573   \n",
      "categoria2          -0.019758  -0.007869      -0.027525      -0.078761   \n",
      "categoria3           0.037184  -0.004737       0.004324       1.000000   \n",
      "comp_externo1       -0.005081   0.001297       0.005545      -0.011347   \n",
      "comp_externo2       -0.086676   0.050048       0.119096      -0.026636   \n",
      "comp_externo3        0.037317   0.006008       0.009149       0.012692   \n",
      "comp_externo4       -0.052200  -0.002212      -0.006181      -0.025511   \n",
      "Tiempo_aparicion     0.091633  -0.005980      -0.030061      -0.008594   \n",
      "comportamiento_j     0.097191  -0.015437      -0.016717       0.027332   \n",
      "\n",
      "                  comp_interno4  categoria1  categoria2  categoria3  \\\n",
      "comp_mixto1           -0.079492   -0.059576   -0.019758    0.037184   \n",
      "inversion              0.040115    0.020377   -0.007869   -0.004737   \n",
      "comp_interno1          0.111045    0.037156   -0.027525    0.004324   \n",
      "comp_interno3          0.014043    0.032573   -0.078761    1.000000   \n",
      "comp_interno4          1.000000    0.172306    0.063912    0.014043   \n",
      "categoria1             0.172306    1.000000   -0.044979    0.032573   \n",
      "categoria2             0.063912   -0.044979    1.000000   -0.078761   \n",
      "categoria3             0.014043    0.032573   -0.078761    1.000000   \n",
      "comp_externo1          0.012818    0.003245   -0.007407   -0.011347   \n",
      "comp_externo2          0.213329    0.028487    0.019709   -0.026636   \n",
      "comp_externo3          0.057979   -0.001735    0.014394    0.012692   \n",
      "comp_externo4         -0.040921    0.014252   -0.000562   -0.025511   \n",
      "Tiempo_aparicion      -0.038769    0.031396   -0.049821   -0.008594   \n",
      "comportamiento_j      -0.020231   -0.049664   -0.024322    0.027332   \n",
      "\n",
      "                  comp_externo1  comp_externo2  comp_externo3  comp_externo4  \\\n",
      "comp_mixto1           -0.005081      -0.086676       0.037317      -0.052200   \n",
      "inversion              0.001297       0.050048       0.006008      -0.002212   \n",
      "comp_interno1          0.005545       0.119096       0.009149      -0.006181   \n",
      "comp_interno3         -0.011347      -0.026636       0.012692      -0.025511   \n",
      "comp_interno4          0.012818       0.213329       0.057979      -0.040921   \n",
      "categoria1             0.003245       0.028487      -0.001735       0.014252   \n",
      "categoria2            -0.007407       0.019709       0.014394      -0.000562   \n",
      "categoria3            -0.011347      -0.026636       0.012692      -0.025511   \n",
      "comp_externo1          1.000000       0.048564       0.007953      -0.006156   \n",
      "comp_externo2          0.048564       1.000000       0.185795      -0.150708   \n",
      "comp_externo3          0.007953       0.185795       1.000000      -0.867573   \n",
      "comp_externo4         -0.006156      -0.150708      -0.867573       1.000000   \n",
      "Tiempo_aparicion       0.001499      -0.184780      -0.076426       0.046438   \n",
      "comportamiento_j       0.000616      -0.098395      -0.073388       0.028090   \n",
      "\n",
      "                  Tiempo_aparicion  comportamiento_j  \n",
      "comp_mixto1               0.091633          0.097191  \n",
      "inversion                -0.005980         -0.015437  \n",
      "comp_interno1            -0.030061         -0.016717  \n",
      "comp_interno3            -0.008594          0.027332  \n",
      "comp_interno4            -0.038769         -0.020231  \n",
      "categoria1                0.031396         -0.049664  \n",
      "categoria2               -0.049821         -0.024322  \n",
      "categoria3               -0.008594          0.027332  \n",
      "comp_externo1             0.001499          0.000616  \n",
      "comp_externo2            -0.184780         -0.098395  \n",
      "comp_externo3            -0.076426         -0.073388  \n",
      "comp_externo4             0.046438          0.028090  \n",
      "Tiempo_aparicion          1.000000          0.222699  \n",
      "comportamiento_j          0.222699          1.000000   \n",
      "\n"
     ]
    }
   ],
   "source": [
    "#Creamos la Matriz de Correlaciones\n",
    "corr_df = final_si.corr()\n",
    "print(\"La correlación de los datos es:\")\n",
    "print(corr_df, \"\\n\")"
   ]
  },
  {
   "cell_type": "code",
   "execution_count": 97,
   "metadata": {},
   "outputs": [
    {
     "data": {
      "image/png": "[encoded data removed]",
      "text/plain": [
       "<Figure size 1440x1152 with 2 Axes>"
      ]
     },
     "metadata": {
      "needs_background": "light"
     },
     "output_type": "display_data"
    }
   ],
   "source": [
    "#Mostramos las correlaciones con un mapa de calor\n",
    "plt.figure(figsize=(20, 16))\n",
    "sns.heatmap(corr_df, annot=True)\n",
    "plt.show()"
   ]
  },
  {
   "cell_type": "markdown",
   "metadata": {},
   "source": [
    "La matriz de correlaciones nos muestra que los únicos valores que están relacionados son: \\\n",
    "$\\newline$\n",
    "* **categoria3** y **comp_interno3** con una correlación positiva perfecta igual a $1$, lo cual nos indica que ambas variables reaccionan ante los cambios de la misma forma y que dependen enteramente una de otra.\n",
    "* **comp_externo3** y **comp_externo4** con una correlación negativa igual a $-0.87$, lo cual nos indica que ambas variables reaccionan de forma inversa a los cambios de la otra, es decir, si una de estas variables aumenta su valor, la otra disminuye el suyo y viceversa. Por lo cual, podedmos decir que dependen una de la otra.\n"
   ]
  },
  {
   "cell_type": "markdown",
   "metadata": {},
   "source": [
    "### Problema 2: \n",
    "\n",
    "De la base *data_schools* obtener el error estándar con Bootstrap de las variables de la base. \n",
    "Recordemos que tienen que simular $N$ muestras Boostrap con tamaño $n$. Luego, el otro ejercicio es que lo hagan con $n-1$."
   ]
  },
  {
   "cell_type": "code",
   "execution_count": 98,
   "metadata": {},
   "outputs": [
    {
     "data": {
      "text/html": [
       "<div>\n",
       "<style scoped>\n",
       "    .dataframe tbody tr th:only-of-type {\n",
       "        vertical-align: middle;\n",
       "    }\n",
       "\n",
       "    .dataframe tbody tr th {\n",
       "        vertical-align: top;\n",
       "    }\n",
       "\n",
       "    .dataframe thead th {\n",
       "        text-align: right;\n",
       "    }\n",
       "</style>\n",
       "<table border=\"1\" class=\"dataframe\">\n",
       "  <thead>\n",
       "    <tr style=\"text-align: right;\">\n",
       "      <th></th>\n",
       "      <th>escuela</th>\n",
       "      <th>LSAT</th>\n",
       "      <th>GPA</th>\n",
       "    </tr>\n",
       "  </thead>\n",
       "  <tbody>\n",
       "    <tr>\n",
       "      <th>0</th>\n",
       "      <td>1</td>\n",
       "      <td>622</td>\n",
       "      <td>3.23</td>\n",
       "    </tr>\n",
       "    <tr>\n",
       "      <th>1</th>\n",
       "      <td>2</td>\n",
       "      <td>542</td>\n",
       "      <td>2.83</td>\n",
       "    </tr>\n",
       "    <tr>\n",
       "      <th>2</th>\n",
       "      <td>3</td>\n",
       "      <td>579</td>\n",
       "      <td>3.24</td>\n",
       "    </tr>\n",
       "    <tr>\n",
       "      <th>3</th>\n",
       "      <td>4</td>\n",
       "      <td>653</td>\n",
       "      <td>3.12</td>\n",
       "    </tr>\n",
       "    <tr>\n",
       "      <th>4</th>\n",
       "      <td>5</td>\n",
       "      <td>606</td>\n",
       "      <td>3.09</td>\n",
       "    </tr>\n",
       "  </tbody>\n",
       "</table>\n",
       "</div>"
      ],
      "text/plain": [
       "   escuela  LSAT   GPA\n",
       "0        1   622  3.23\n",
       "1        2   542  2.83\n",
       "2        3   579  3.24\n",
       "3        4   653  3.12\n",
       "4        5   606  3.09"
      ]
     },
     "execution_count": 98,
     "metadata": {},
     "output_type": "execute_result"
    }
   ],
   "source": [
    "#Importamos la base de datos \"data_schools.xlsx\".\n",
    "e = pd.read_excel(path + 'data_schools.xlsx')\n",
    "#Mostramos las primeras 5 filas de la base de datos importada.\n",
    "e.head()"
   ]
  },
  {
   "cell_type": "code",
   "execution_count": 99,
   "metadata": {},
   "outputs": [],
   "source": [
    "#Seleccionamos aleatoriamente 15 escuelas y las ordenamos en una tabla.\n",
    "e_a = e.sample(n=15,random_state=10000)[[\"escuela\"]]\n",
    "#Creamos una nueva columna llamada \"seleccion_de_muestra\" en esta tabla y le asignamos el valor 1 a cada registro.\n",
    "e_a[\"seleccion_de_muestra\"]=1\n",
    "\n",
    "#Cruzamos las tablas tomando como referencia las tuplas de la tabla izquierda (e), haciendo el enlace por medio de la columna en común \"escuela\" y obteniendo de la tabla derecha (e_a) la columna \"seleccion_de_muestra\".\n",
    "e1 = pd.merge(e, e_a, how=\"left\", on=[\"escuela\"])\n",
    "#Cambiamos los valores no disponibles (NA) que se encuentran en la columna \"seleccion_de_muestra\" por ceros y transformamos los tipos de datos en integer.\n",
    "e1[\"seleccion_de_muestra\"] = (e1[\"seleccion_de_muestra\"].fillna(0)).astype(int)"
   ]
  },
  {
   "cell_type": "code",
   "execution_count": 100,
   "metadata": {},
   "outputs": [],
   "source": [
    "#Creamos una muestra que contenga aquellos valores de las columnas \"LSAT\" y \"GPA\" que coinciden en tener un 1 en la columna \"seleccion_de_muestra\".\n",
    "t = e1[e1[\"seleccion_de_muestra\"]==1][['LSAT', 'GPA']]"
   ]
  },
  {
   "cell_type": "code",
   "execution_count": 101,
   "metadata": {
    "scrolled": false
   },
   "outputs": [],
   "source": [
    "#Empezaremos remuestreando con 1,000 muestras Bootstrap.\n",
    "#Simulaciones de la muestra.\n",
    "N1 = 1000    \n",
    "#Creamos un vector auxiliar que contenga tantos ceros como el número de simulaciones.\n",
    "c1 = np.zeros(N1)\n",
    "#Utilizamos este bucle para llevar a cabo las simulaciones.\n",
    "for i in range(N1):\n",
    "    #Obtenemos una nueva muestra del mismo tamaño que la muestra anterior.\n",
    "    s1 = t.sample(len(t), replace = True)\n",
    "    #A cada entrada de nuestro vector auxiliar le asignamos los valores del coeficiente de correlación de Spearman que se obtuvieron utilizando los valores de las columnas \"LSAT\" y \"GPA\" de la muestra.\n",
    "    c1[i],_ = spearmanr(s1.LSAT, s1.GPA)\n"
   ]
  },
  {
   "cell_type": "code",
   "execution_count": 102,
   "metadata": {},
   "outputs": [
    {
     "data": {
      "image/png": "[encoded data removed]",
      "text/plain": [
       "<Figure size 864x432 with 1 Axes>"
      ]
     },
     "metadata": {
      "needs_background": "light"
     },
     "output_type": "display_data"
    },
    {
     "name": "stdout",
     "output_type": "stream",
     "text": [
      "Promedio de la Muestra Bootstrap de Correlación =  0.45428\n",
      "Valor del Estadistico de Correlación =  0.48972\n",
      "Desviación Estandar de la Muestra Bootstrap de Correlación =  0.24836\n",
      "Intervalo de Confianza =  (-0.18420, 0.82283)\n"
     ]
    }
   ],
   "source": [
    "#Histograma del estadístico de correlación con 1,000 muestras Bootstrap.\n",
    "fig, ax = plt.subplots(figsize=(12, 6))\n",
    "\n",
    "ax.hist(c1, bins = 100, color = 'orange', alpha = .5)\n",
    "\n",
    "sns.despine(offset = {'bottom' : 15, 'left' : 0}, trim = True)\n",
    "\n",
    "plt.suptitle('Histograma del estadistico de correlación con 1,000 muestras Bootstrap', color = 'black', fontsize = 25, fontfamily = 'fantasy')\n",
    "\n",
    "est_puntual = np.mean(c1)\n",
    "plt.axvline(est_puntual, linestyle=\"--\", color = \"red\", linewidth=3, alpha=0.6, label = f\"Estimador Puntual de Correlación \\n{est_puntual:.5f}\")\n",
    "\n",
    "v1, _ = spearmanr(t.LSAT, t.GPA)\n",
    "plt.axvline(v1, linestyle=\"--\", color = \"black\", linewidth = 3, alpha=0.6, label = f\"Valor del Estadistico  de Correlación \\n{v1:.5f}\")\n",
    "\n",
    "plt.axvline(np.percentile(c1,2.5), color = \"blue\", linestyle=\"--\", linewidth = 3)                                                                                                                                                    \n",
    "plt.axvline(np.percentile(c1,97.5), color = \"blue\", linestyle=\"--\", linewidth = 3) \n",
    "\n",
    "plt.xticks(fontsize = 11.5, fontfamily = 'fantasy', color = 'black')\n",
    "plt.yticks(fontsize = 11.5, fontfamily = 'fantasy', color = 'black')\n",
    "\n",
    "leg = plt.legend(fontsize = 12, bbox_to_anchor=(1.05, 1))\n",
    "for i in range(2):\n",
    "    leg.texts[i].set_color('black')\n",
    "    leg.texts[i].set_family('fantasy')\n",
    "\n",
    "plt.show()\n",
    "\n",
    "print(f\"Promedio de la Muestra Bootstrap de Correlación = {est_puntual: .5f}\")\n",
    "print(f\"Valor del Estadistico de Correlación = {v1: .5f}\")\n",
    "print(f'Desviación Estandar de la Muestra Bootstrap de Correlación = {np.std(c1): .5f}')\n",
    "print(f'Intervalo de Confianza =  ({np.percentile(c1,2.5):.5f},{np.percentile(c1,97.5): .5f})')"
   ]
  },
  {
   "cell_type": "code",
   "execution_count": 104,
   "metadata": {},
   "outputs": [],
   "source": [
    "#Remuestreamos con 20,000 muestras Bootstrap.\n",
    "#Simulaciones de la muestra.\n",
    "N2 = 20000    \n",
    "#Creamos un vector auxiliar que contenga tantos ceros como el número de simulaciones.\n",
    "c2 = np.zeros(N2)\n",
    "#Utilizamos este bucle para llevar a cabo las simulaciones.\n",
    "for i in range(N2):\n",
    "    #Obtenemos una nueva muestra del mismo tamaño que la muestra anterior.\n",
    "    s2 = t.sample(len(t), replace = True)\n",
    "    #A cada entrada de nuestro vector auxiliar le asignamos los valores del coeficiente de correlación de Spearman que se obtuvieron utilizando los valores de las columnas \"LSAT\" y \"GPA\" de la muestra.\n",
    "    c2[i],_ = spearmanr(s2.LSAT, s2.GPA)"
   ]
  },
  {
   "cell_type": "code",
   "execution_count": 105,
   "metadata": {},
   "outputs": [
    {
     "data": {
      "image/png": "[encoded data removed]",
      "text/plain": [
       "<Figure size 864x432 with 1 Axes>"
      ]
     },
     "metadata": {
      "needs_background": "light"
     },
     "output_type": "display_data"
    },
    {
     "name": "stdout",
     "output_type": "stream",
     "text": [
      "Promedio de la Muestra Bootstrap de Correlación =  0.45987\n",
      "Valor del Estadistico de Correlación =  0.48972\n",
      "Desviación Estandar de la Muestra Bootstrap de Correlación =  0.24809\n",
      "Intervalo de Confianza = (-0.13153, 0.82514)\n"
     ]
    }
   ],
   "source": [
    "#Histograma del estadístico de correlación con 20,000 muestras Bootstrap.\n",
    "\n",
    "fig, ax = plt.subplots(figsize=(12, 6))\n",
    "ax.hist(c2, bins = 100, color = 'SeaGreen', alpha = .5)\n",
    "\n",
    "sns.despine(offset = {'bottom' : 15, 'left' : 0}, trim = True)\n",
    "\n",
    "plt.suptitle('Histograma del estadístico de correlación con 20,000 muestras Bootstrap', color = 'black', fontsize = 25, fontfamily = 'fantasy')\n",
    "\n",
    "est_puntual = np.mean(c2)\n",
    "plt.axvline(est_puntual, linestyle=\"--\", color = \"blue\", linewidth=3, alpha=0.6, label = f\"Estimador Puntual de Correlación \\n{est_puntual:.5f}\")\n",
    "\n",
    "v2, _ = spearmanr(t.LSAT, t.GPA)\n",
    "\n",
    "plt.axvline(v2, linestyle=\"--\", color = \"black\", linewidth = 3, alpha=0.6, label = f\"Valor del Estadistico de Correlación \\n{v2:.5f}\")\n",
    "\n",
    "plt.axvline(np.percentile(c2,2.5), color = \"greenyellow\", linestyle=\"--\", linewidth = 3)                                                                                                                                                    \n",
    "plt.axvline(np.percentile(c2,97.5), color = \"greenyellow\", linestyle=\"--\", linewidth = 3) \n",
    "\n",
    "plt.xticks(fontsize = 11.5, fontfamily = 'fantasy', color = 'black')\n",
    "plt.yticks(fontsize = 11.5, fontfamily = 'fantasy', color = 'black')\n",
    "\n",
    "leg = plt.legend(fontsize = 12, bbox_to_anchor=(1.05, 1))\n",
    "\n",
    "for i in range(2):\n",
    "    leg.texts[i].set_color('black')\n",
    "    leg.texts[i].set_family('fantasy')\n",
    "\n",
    "plt.show()\n",
    "\n",
    "print(f\"Promedio de la Muestra Bootstrap de Correlación = {np.mean(c2): .5f}\")\n",
    "print(f\"Valor del Estadistico de Correlación = {v2: .5f}\")\n",
    "print(f'Desviación Estandar de la Muestra Bootstrap de Correlación = {np.std(c2): .5f}')\n",
    "print(f'Intervalo de Confianza = ({np.percentile(c2,2.5):.5f},{np.percentile(c2,97.5): .5f})')"
   ]
  },
  {
   "cell_type": "code",
   "execution_count": 106,
   "metadata": {},
   "outputs": [],
   "source": [
    "#Realizamos 20,000 muestras Bootstrap sobre la pobalción de estudio.\n",
    "#Simulaciones sobre la población.\n",
    "N3 = 20000 \n",
    "#Creamos un vector auxiliar que contenga tantos ceros como el número de simulaciones.\n",
    "c3 = np.zeros(N3)\n",
    "#Utilizamos este bucle para llevar a cabo las simulaciones.\n",
    "for i in range(N3):\n",
    "    #Obtenemos una nueva muestra del mismo tamaño que la población de estudio.\n",
    "    s3 = e1.sample(len(e1), replace = True)\n",
    "    #A cada entrada de nuestro vector auxiliar le asignamos los valores del coeficiente de correlación de Spearman que se obtuvieron utilizando los valores de las columnas \"LSAT\" y \"GPA\" de la muestra.\n",
    "    c3[i],_ = spearmanr(s3.LSAT, s3.GPA)"
   ]
  },
  {
   "cell_type": "code",
   "execution_count": 107,
   "metadata": {},
   "outputs": [
    {
     "data": {
      "image/png": "[encoded data removed]",
      "text/plain": [
       "<Figure size 864x432 with 1 Axes>"
      ]
     },
     "metadata": {
      "needs_background": "light"
     },
     "output_type": "display_data"
    },
    {
     "name": "stdout",
     "output_type": "stream",
     "text": [
      "Promedio de la Muestra Bootstrap de Correlación =  0.74570\n",
      "Valor del Estadistico de Correlación =  0.75266\n",
      "Desviación Estandar de la Muestra Bootstrap de Correlación =  0.05651\n",
      "Intervalo de Confianza = (0.62051, 0.84110)\n"
     ]
    }
   ],
   "source": [
    "#Histograma del estadístico con 20,000 muestras Bootstrap.\n",
    "\n",
    "fig, ax = plt.subplots(figsize=(12, 6))\n",
    "ax.hist(c3, bins = 100, color = 'salmon', alpha = .4)\n",
    "\n",
    "sns.despine(offset = {'bottom' : 15, 'left' : 0}, trim = True)\n",
    "\n",
    "plt.suptitle('Histograma del estadístico con 20,000 muestras Bootstrap', color = '#4f4f4f', fontsize = 25, fontfamily = 'fantasy')\n",
    "\n",
    "est_puntual = np.mean(c3)\n",
    "plt.axvline(est_puntual, linestyle=\"--\", color = \"purple\", linewidth=3, alpha=0.6, label = f\"Estimador Puntual de Correlación \\n{est_puntual:.5f}\")\n",
    "\n",
    "v3,_ = spearmanr(e1.LSAT, e1.GPA)\n",
    "plt.axvline(v3, linestyle=\"--\", color = \"black\", linewidth = 3, alpha=0.6, label = f\"Valor del Estadistico de Correlación \\n{v3:.5f}\")\n",
    "\n",
    "plt.axvline(np.percentile(c3,2.5), color = \"red\", linestyle=\"--\", linewidth = 3)                                                                                                                                                    \n",
    "plt.axvline(np.percentile(c3,97.5), color = \"red\", linestyle=\"--\", linewidth = 3) \n",
    "\n",
    "plt.xticks(fontsize = 11.5, fontfamily = 'fantasy', color = 'black')\n",
    "plt.yticks(fontsize = 11.5, fontfamily = 'fantasy', color = 'black')\n",
    "\n",
    "leg = plt.legend(fontsize = 12, bbox_to_anchor=(1.05, 1))\n",
    "\n",
    "for i in range(2):\n",
    "    leg.texts[i].set_color('black')\n",
    "    leg.texts[i].set_family('fantasy')\n",
    "\n",
    "plt.show()\n",
    "\n",
    "print(f\"Promedio de la Muestra Bootstrap de Correlación = {np.mean(c3): .5f}\")\n",
    "print(f\"Valor del Estadistico de Correlación = {v3: .5f}\")\n",
    "print(f'Desviación Estandar de la Muestra Bootstrap de Correlación = {np.std(c3): .5f}')\n",
    "print(f'Intervalo de Confianza = ({np.percentile(c3,2.5):.5f},{np.percentile(c3,97.5): .5f})')"
   ]
  },
  {
   "cell_type": "code",
   "execution_count": 108,
   "metadata": {},
   "outputs": [],
   "source": [
    "#Realizamos 20,000 muestras Jackknife sobre la pobalción de estudio.\n",
    "#Simulaciones sobre la población.\n",
    "N4 = 20000   \n",
    "#Creamos un vector auxiliar que contenga tantos ceros como el número de simulaciones.\n",
    "c4 = np.zeros(N4)\n",
    "#Utilizamos este bucle para llevar a cabo las simulaciones.\n",
    "for i in range(N4):\n",
    "    #Obtenemos una nueva muestra de tamaño n-1, donde n es el tamaño de la población de estudio.\n",
    "    s4 = e1.sample(len(e1) - 1, replace = True)\n",
    "    #A cada entrada de nuestro vector auxiliar le asignamos los valores del coeficiente de correlación de Spearman que se obtuvieron utilizando los valores de las columnas \"LSAT\" y \"GPA\" de la muestra.\n",
    "    c4[i],_ = spearmanr(s4.LSAT, s4.GPA)"
   ]
  },
  {
   "cell_type": "code",
   "execution_count": 109,
   "metadata": {},
   "outputs": [
    {
     "data": {
      "image/png": "[encoded data removed]",
      "text/plain": [
       "<Figure size 864x432 with 1 Axes>"
      ]
     },
     "metadata": {
      "needs_background": "light"
     },
     "output_type": "display_data"
    },
    {
     "name": "stdout",
     "output_type": "stream",
     "text": [
      "Promedio de la Muestra Jackknife de Correlación =  0.74563\n",
      "Valor del Estadistico de Correlación =  0.75266\n",
      "Desviación Estandar de la Muestra Jackknife de Correlación =  0.05581\n",
      "Intervalo de Confianza = (0.62341, 0.84068)\n"
     ]
    }
   ],
   "source": [
    "#Histograma del estadístico con 20,000 muestras Jackknife.\n",
    "\n",
    "fig, ax = plt.subplots(figsize=(12, 6))\n",
    "ax.hist(c4, bins = 100, color = 'steelblue', alpha = .4)\n",
    "\n",
    "sns.despine(offset = {'bottom' : 15, 'left' : 0}, trim = True)\n",
    "\n",
    "plt.suptitle('Histograma del estadístico con 20,000 muestras Jackknife', color = 'black', fontsize = 25, fontfamily = 'fantasy')\n",
    "\n",
    "est_puntual = np.mean(c4)\n",
    "plt.axvline(est_puntual, linestyle=\"--\",color = \"gray\", linewidth = 3, alpha = 0.6, label = f\"Estimador Puntual de Correlación \\n{est_puntual:.5f}\")\n",
    "\n",
    "v4,_ = spearmanr(e1.LSAT, e1.GPA)\n",
    "plt.axvline(v4, linestyle=\"--\",color = \"black\", linewidth = 3, alpha=0.6, label = f\"Valor del Estadistico de Correlación \\n{v4:.5f}\")\n",
    "\n",
    "plt.axvline(np.percentile(c4,2.5),color = \"blue\", linestyle=\"--\", linewidth = 3)                                                                                                                                                    \n",
    "plt.axvline(np.percentile(c4,97.5),color = \"blue\", linestyle=\"--\", linewidth = 3) \n",
    "\n",
    "plt.xticks(fontsize = 11.5, fontfamily = 'fantasy', color = 'black')\n",
    "plt.yticks(fontsize = 11.5, fontfamily = 'fantasy', color = 'black')\n",
    "\n",
    "leg = plt.legend(fontsize = 12, bbox_to_anchor=(1.05, 1))\n",
    "\n",
    "for i in range(2):\n",
    "    leg.texts[i].set_color('black')\n",
    "    leg.texts[i].set_family('fantasy')\n",
    "\n",
    "plt.show()\n",
    "\n",
    "print(f\"Promedio de la Muestra Jackknife de Correlación = {np.mean(c4): .5f}\")\n",
    "print(f\"Valor del Estadistico de Correlación = {v4: .5f}\")\n",
    "print(f'Desviación Estandar de la Muestra Jackknife de Correlación = {np.std(c4): .5f}')\n",
    "print(f'Intervalo de Confianza = ({np.percentile(c4,2.5):.5f},{np.percentile(c4,97.5): .5f})')"
   ]
  },
  {
   "cell_type": "markdown",
   "metadata": {},
   "source": [
    "### Problema 3: \n",
    "\n",
    "Calcular el error estándar de las betas del modelo lineal, les expliqué la idea de este problema."
   ]
  },
  {
   "cell_type": "code",
   "execution_count": 110,
   "metadata": {},
   "outputs": [
    {
     "data": {
      "text/html": [
       "<div>\n",
       "<style scoped>\n",
       "    .dataframe tbody tr th:only-of-type {\n",
       "        vertical-align: middle;\n",
       "    }\n",
       "\n",
       "    .dataframe tbody tr th {\n",
       "        vertical-align: top;\n",
       "    }\n",
       "\n",
       "    .dataframe thead th {\n",
       "        text-align: right;\n",
       "    }\n",
       "</style>\n",
       "<table border=\"1\" class=\"dataframe\">\n",
       "  <thead>\n",
       "    <tr style=\"text-align: right;\">\n",
       "      <th></th>\n",
       "      <th>lote</th>\n",
       "      <th>horas</th>\n",
       "      <th>monto</th>\n",
       "    </tr>\n",
       "  </thead>\n",
       "  <tbody>\n",
       "    <tr>\n",
       "      <th>0</th>\n",
       "      <td>A</td>\n",
       "      <td>99</td>\n",
       "      <td>25.8</td>\n",
       "    </tr>\n",
       "    <tr>\n",
       "      <th>1</th>\n",
       "      <td>A</td>\n",
       "      <td>152</td>\n",
       "      <td>20.5</td>\n",
       "    </tr>\n",
       "    <tr>\n",
       "      <th>2</th>\n",
       "      <td>A</td>\n",
       "      <td>293</td>\n",
       "      <td>14.3</td>\n",
       "    </tr>\n",
       "    <tr>\n",
       "      <th>3</th>\n",
       "      <td>A</td>\n",
       "      <td>155</td>\n",
       "      <td>23.2</td>\n",
       "    </tr>\n",
       "    <tr>\n",
       "      <th>4</th>\n",
       "      <td>A</td>\n",
       "      <td>196</td>\n",
       "      <td>20.6</td>\n",
       "    </tr>\n",
       "  </tbody>\n",
       "</table>\n",
       "</div>"
      ],
      "text/plain": [
       "  lote  horas  monto\n",
       "0    A     99   25.8\n",
       "1    A    152   20.5\n",
       "2    A    293   14.3\n",
       "3    A    155   23.2\n",
       "4    A    196   20.6"
      ]
     },
     "execution_count": 110,
     "metadata": {},
     "output_type": "execute_result"
    }
   ],
   "source": [
    "#Importamos la base de datos \"lineal_horm.xlsx\".\n",
    "horm = pd.read_excel(path + \"lineal_horm.xlsx\")\n",
    "#Mostramos las primeras 5 filas de la base de datos importada.\n",
    "horm.head()"
   ]
  },
  {
   "cell_type": "code",
   "execution_count": 111,
   "metadata": {},
   "outputs": [],
   "source": [
    "#Tomamos como variable independiente las horas para estimar el monto \n",
    "h = horm[['horas']]\n",
    "m = horm[['monto']]"
   ]
  },
  {
   "cell_type": "code",
   "execution_count": 112,
   "metadata": {},
   "outputs": [],
   "source": [
    "#Asignamos a una variable la función que obtendrá la regresión lineal.\n",
    "rl = LinearRegression()\n",
    "#Ajustamos la regresión lineal utilizando como parámetros las horas y los montos. \n",
    "rl.fit(h, m)\n",
    "#Predecimos los posibles valores de los montos y los reajustamos para que encajen con el resto de las dimensiones.\n",
    "m1 = rl.predict(h).reshape(-1)\n",
    "#Transfomamos los valores de los horas de un formato data frame a un arreglo.\n",
    "h1 = h.to_numpy().reshape(-1)"
   ]
  },
  {
   "cell_type": "code",
   "execution_count": 113,
   "metadata": {},
   "outputs": [
    {
     "data": {
      "image/png": "[encoded data removed]",
      "text/plain": [
       "<Figure size 864x432 with 1 Axes>"
      ]
     },
     "metadata": {
      "needs_background": "light"
     },
     "output_type": "display_data"
    }
   ],
   "source": [
    "#Graficamos nuestra regresión lineal\n",
    "fig, ax = plt.subplots(figsize=(12, 6))\n",
    "plt.scatter(h, m, s = 30, color = 'navy')\n",
    "plt.plot(h1, m1, color='brown')\n",
    "plt.suptitle('Regresión Lineal', color = 'black', fontsize = 25, fontfamily = 'sans-serif')\n",
    "sns.despine(offset = {'bottom' : 15, 'left' : 0}, trim = True)\n",
    "plt.xlabel(\"Horas\", fontsize = 14, fontfamily = 'sans-serif', color = 'black')\n",
    "plt.ylabel(\"Monto\", fontsize = 14, fontfamily = 'sans-serif', color = 'black')\n",
    "plt.xticks(fontsize = 12, fontfamily = 'sans-serif', color = 'black')\n",
    "plt.yticks(fontsize = 12, fontfamily = 'sans-serif', color = 'black')\n",
    "plt.show()"
   ]
  },
  {
   "cell_type": "code",
   "execution_count": 114,
   "metadata": {},
   "outputs": [
    {
     "name": "stdout",
     "output_type": "stream",
     "text": [
      "SE Beta 1 = 0.004464173160311538\n",
      "SE Beta 0 = 0.8671972620941917\n"
     ]
    }
   ],
   "source": [
    "#Calculamos los errores estandar de nuestros estimadores.\n",
    "\n",
    "#Transformamos el formato de los montos de data frame a un arreglo.\n",
    "y = m.to_numpy().reshape(-1)\n",
    "#Guardamos la longitud de y en una variable.\n",
    "n = len(y)\n",
    "#Obtenemos el valor residual.\n",
    "r = y - m1\n",
    "#Sumamos los valores de la muestra de las horas menos su media y lo elevamos al cuadrado.\n",
    "sum_h = sum((h1-np.mean(h1))**2) \n",
    "\n",
    "#SUMA DE RESIDUOS AL CUADRADO.\n",
    "RSS = sum(r**2)\n",
    "\n",
    "#ERROR ESTANDAR RESIDUAL.\n",
    "RSE = np.sqrt(RSS/(n-2))\n",
    "\n",
    "#ERROR ESTANDAR BETA 1.\n",
    "SEB1 = np.sqrt((RSE**2)/sum_h)\n",
    "\n",
    "#ERROR ESTANDAR BETA 0.\n",
    "SEB0 = np.sqrt((RSE**2)*((1/n) + ((np.mean(h1)**2)/sum_h)))\n",
    "\n",
    "#Imprimimos en pantalla los errores estándar de BETA 1 y BETA 0.\n",
    "print('SE Beta 1 = {0}\\nSE Beta 0 = {1}'.format(SEB1, SEB0))"
   ]
  },
  {
   "cell_type": "code",
   "execution_count": 115,
   "metadata": {},
   "outputs": [],
   "source": [
    "#Creamos una nueva tabla que cotenga los valores de los residuales.\n",
    "t1 = pd.DataFrame(r, columns=['residual'])\n",
    "#Creamos un nueva columna en la tabla \"t1\" y asignamos los valores correspondientes a las horas.\n",
    "t1[\"h\"] = h1\n",
    "#Esta variable representa el numero de simulaciones que realizaremos. \n",
    "N = 10000\n",
    "#Creamos un arreglo para almacenar los residuales de BETA 1.\n",
    "res_b1 = np.array([ ])\n",
    "#Creamos un arreglo para almacenar los residuales de BETA 1.\n",
    "res_b0 = np.array([ ])\n",
    "\n",
    "#Realizamos el bucle que llevará a cabo nuestras simulaciones.\n",
    "for i in range(0, N):\n",
    "    #Elegimos valores aleatorios de nuestro vector de valores residuales.\n",
    "    r_i = np.random.choice(r, len(r), replace=True)\n",
    "    #Creamos una tabla auxiliar que almacene los valores residuales aletorios y renombramos las columnas con el nombre \"residual\".\n",
    "    aux = pd.DataFrame(r_i, columns = ['residual'])\n",
    "    #Creamos una tabla auxiliar que cruce todas las tuplas de las tablas \"aux\" y \"t1\", y usamos como referencia a la columna \"residual\" que se encuentra en ambas tablas.  \n",
    "    aux = pd.merge(aux, t1, how=\"inner\", on = [\"residual\"])\n",
    "    \n",
    "    #Transformamos el formato de las horas de data frame a un arreglo.\n",
    "    x_i = aux[[\"h\"]].to_numpy().reshape(-1)\n",
    "    #Sumamos los valores de la muestra de cada hora i menos su media y lo elevamos al cuadrado.\n",
    "    sum_xi = sum((x_i-np.mean(x_i))**2)\n",
    "    \n",
    "    #SUMA DE RESIDUOS AL CUADRADO i.\n",
    "    RSSi = sum(r_i**2)\n",
    "    #ERROR ESTANDAR RESIDUAL i.\n",
    "    RSEi = np.sqrt(RSSi/n)\n",
    "    \n",
    "    #ERROR ESTANDAR i de BETA 1.\n",
    "    SEB1i = np.sqrt((RSEi**2)/sum_xi)\n",
    "    #ERROR ESTANDAR i de BETA 0.\n",
    "    SEB0i = np.sqrt((RSEi**2)*((1/n) + ((np.mean(x_i)**2)/sum_xi)))\n",
    "   \n",
    "    #Agregamos al arreglo los datos contenidos en las variables \"res_b1\" y \"SEB1i\". \n",
    "    res_b1 = np.append(res_b1, SEB1i)\n",
    "    #Agregamos al arreglo los datos contenidos en las variables \"res_b0\" y \"SEB0i\".\n",
    "    res_b0 = np.append(res_b0, SEB0i)"
   ]
  },
  {
   "cell_type": "code",
   "execution_count": 116,
   "metadata": {},
   "outputs": [
    {
     "data": {
      "image/png": "[encoded data removed]",
      "text/plain": [
       "<Figure size 864x432 with 1 Axes>"
      ]
     },
     "metadata": {
      "needs_background": "light"
     },
     "output_type": "display_data"
    },
    {
     "name": "stdout",
     "output_type": "stream",
     "text": [
      "Error Estándar sin Bootsrap =  0.004464173160311538\n",
      "Promedio de Error Estándar de las muestras Bootstrap =  0.00453009949804686\n",
      "Intervalo de Confianza = (0.00303, 0.00679)\n"
     ]
    }
   ],
   "source": [
    "#Graficamos el Error Estándar de B1.\n",
    "\n",
    "color_hist = 'darkcyan'\n",
    "color_int = \"maroon\"\n",
    "color_esterr = 'black'\n",
    "color_epuntual = 'lightcoral'\n",
    "\n",
    "fig, ax = plt.subplots(figsize=(12, 6))\n",
    "\n",
    "plt.suptitle(\"Error Estándar Bootstrap B1\", color = '#4f4f4f', fontsize = 25, fontfamily = 'sans-serif')\n",
    "\n",
    "plt.hist(res_b1, bins = 70, alpha = 0.5, edgecolor = \"black\", color = color_hist)\n",
    "\n",
    "plt.axvline(x = np.mean(res_b1), color = color_epuntual, linestyle='--', linewidth = 3, label = \"Estimador Puntual Error \\nEstandar \" + r'$\\beta_{1}$' + f'\\n{np.mean(res_b1):.10f}')\n",
    "\n",
    "plt.axvline(x = SEB1, color = color_esterr, linestyle='--', linewidth = 3, label = f\"Valor del Estadistico Error \\nEstandar \" + r'$\\beta_{1}$' + f'\\n{SEB1:.10f}')\n",
    "\n",
    "plt.axvline(np.percentile(res_b1,2.5), color = color_int, linestyle=\"--\",linewidth = 3)                                                                                                                                                    \n",
    "plt.axvline(np.percentile(res_b1,97.5), color = color_int, linestyle=\"--\",linewidth = 3) \n",
    "\n",
    "sns.despine(offset = {'bottom' : 15, 'left' : 0},  trim = True)\n",
    "\n",
    "plt.xticks(fontsize = 11.5, fontfamily = 'sans-serif', color = '#525252')\n",
    "plt.yticks(fontsize = 11.5, fontfamily = 'sans-serif', color = '#525252')\n",
    "\n",
    "leg = plt.legend(fontsize = 12) \n",
    "\n",
    "for i in range(2):\n",
    "    leg.texts[i].set_color('#4f4f4f')\n",
    "    leg.texts[i].set_family('sans-serif')\n",
    "    \n",
    "plt.show()\n",
    "print(\"Error Estándar sin Bootsrap = \", SEB1)\n",
    "print(\"Promedio de Error Estándar de las muestras Bootstrap = \", np.mean(res_b1))\n",
    "print(f'Intervalo de Confianza = ({np.percentile(res_b1,2.5):.5f},{np.percentile(res_b1,97.5): .5f})')"
   ]
  },
  {
   "cell_type": "code",
   "execution_count": 117,
   "metadata": {},
   "outputs": [
    {
     "data": {
      "image/png": "[encoded data removed]",
      "text/plain": [
       "<Figure size 864x432 with 1 Axes>"
      ]
     },
     "metadata": {
      "needs_background": "light"
     },
     "output_type": "display_data"
    },
    {
     "name": "stdout",
     "output_type": "stream",
     "text": [
      "Error Estándar sin Bootstrap =  0.8671972620941917\n",
      "Promedio de Error Estándar de las muestras Bootstrap =  0.8608749777402652\n",
      "Intervalo de Confianza = (0.61290, 1.16900)\n"
     ]
    }
   ],
   "source": [
    "#Graficamos el Error Estándar de B0.\n",
    "fig, ax = plt.subplots(figsize=(12, 6))\n",
    "\n",
    "plt.suptitle(\"Error Estándar Bootstrap B0\", color = '#4f4f4f', fontsize = 25, fontfamily = 'sans-serif')\n",
    "\n",
    "plt.hist(res_b0, bins = 70, alpha = 0.5, edgecolor = \"black\", color = color_hist)\n",
    "\n",
    "plt.axvline(x = np.mean(res_b0), color = color_epuntual, linestyle='--', linewidth = 3, label = \"Estimador Puntual Error \\nEstandar \" + r'$\\beta_{0}$' + f'\\n{np.mean(res_b0):.10f}')\n",
    "\n",
    "plt.axvline(x = SEB0, color = color_esterr, linestyle='--', linewidth = 3, label = f\"Valor del Estadistico Error \\nEstandar \" + r'$\\beta_{0}$' + f'\\n{SEB0:.10f}')\n",
    "\n",
    "plt.axvline(np.percentile(res_b0,2.5), color = color_int, linestyle=\"--\",linewidth = 3)                                                                                                                                                    \n",
    "plt.axvline(np.percentile(res_b0,97.5), color = color_int, linestyle=\"--\",linewidth = 3) \n",
    "\n",
    "sns.despine(offset = {'bottom' : 15, 'left' : 0},  trim = True)\n",
    "\n",
    "plt.xticks(fontsize = 11.5, fontfamily = 'sans-serif', color = '#525252')\n",
    "plt.yticks(fontsize = 11.5, fontfamily = 'sans-serif', color = '#525252')\n",
    "\n",
    "leg = plt.legend(fontsize = 12) \n",
    "\n",
    "for i in range(2):\n",
    "    leg.texts[i].set_color('#4f4f4f')\n",
    "    leg.texts[i].set_family('sans-serif')\n",
    "    \n",
    "plt.show()\n",
    "print(\"Error Estándar sin Bootstrap = \", SEB0)\n",
    "print(\"Promedio de Error Estándar de las muestras Bootstrap = \", np.mean(res_b0))\n",
    "print(f'Intervalo de Confianza = ({np.percentile(res_b0,2.5):.5f},{np.percentile(res_b0,97.5): .5f})')"
   ]
  }
 ],
 "metadata": {
  "kernelspec": {
   "display_name": "Python 3",
   "language": "python",
   "name": "python3"
  },
  "language_info": {
   "codemirror_mode": {
    "name": "ipython",
    "version": 3
   },
   "file_extension": ".py",
   "mimetype": "text/x-python",
   "name": "python",
   "nbconvert_exporter": "python",
   "pygments_lexer": "ipython3",
   "version": "3.8.8"
  }
 },
 "nbformat": 4,
 "nbformat_minor": 4
}
