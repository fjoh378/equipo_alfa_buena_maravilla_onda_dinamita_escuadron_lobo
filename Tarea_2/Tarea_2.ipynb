{
 "cells": [
  {
   "cell_type": "code",
   "execution_count": 26,
   "metadata": {},
   "outputs": [],
   "source": [
    "import pandas as pd\n",
    "import numpy as np\n",
    "from sklearn.model_selection import train_test_split \n",
    "from sklearn.linear_model import LogisticRegression\n",
    "from sklearn.metrics import roc_curve, auc\n",
    "from sklearn.impute import SimpleImputer\n",
    "from sklearn.preprocessing import OneHotEncoder\n",
    "from sklearn.compose import ColumnTransformer\n",
    "from sklearn.pipeline import Pipeline\n",
    "from sklearn.tree import DecisionTreeClassifier, export_graphviz\n",
    "from sklearn import metrics\n",
    "from pylab import*\n",
    "import datetime as dt\n",
    "import seaborn as sns\n",
    "from optbinning import OptimalBinning\n"
   ]
  },
  {
   "cell_type": "code",
   "execution_count": 27,
   "metadata": {},
   "outputs": [
    {
     "name": "stdout",
     "output_type": "stream",
     "text": [
      "<class 'pandas.core.frame.DataFrame'>\n",
      "Int64Index: 50000 entries, 0 to 49999\n",
      "Data columns (total 19 columns):\n",
      " #   Column            Non-Null Count  Dtype         \n",
      "---  ------            --------------  -----         \n",
      " 0   _id_              50000 non-null  int64         \n",
      " 1   _id2_             50000 non-null  int64         \n",
      " 2   comp_mixto1       50000 non-null  float64       \n",
      " 3   inversion         50000 non-null  float64       \n",
      " 4   fecha_inicio      50000 non-null  datetime64[ns]\n",
      " 5   comp_interno1     50000 non-null  float64       \n",
      " 6   comp_interno2     50000 non-null  object        \n",
      " 7   comp_interno3     50000 non-null  float64       \n",
      " 8   comp_interno4     50000 non-null  float64       \n",
      " 9   categoria1        50000 non-null  float64       \n",
      " 10  categoria2        50000 non-null  float64       \n",
      " 11  categoria3        50000 non-null  float64       \n",
      " 12  comp_externo1     47831 non-null  float64       \n",
      " 13  comp_externo2     44410 non-null  float64       \n",
      " 14  comp_externo3     49994 non-null  float64       \n",
      " 15  comp_externo4     50000 non-null  float64       \n",
      " 16  mes_informacion   49352 non-null  datetime64[ns]\n",
      " 17  Tiempo_aparicion  49352 non-null  float64       \n",
      " 18  comportamiento_j  49352 non-null  float64       \n",
      "dtypes: datetime64[ns](2), float64(14), int64(2), object(1)\n",
      "memory usage: 7.6+ MB\n",
      "El percentil de la inversion al 0% es 0.0\n",
      "El percentil de la inversion al 5% es 0.0\n",
      "El percentil de la inversion al 10% es 0.0\n",
      "El percentil de la inversion al 15% es 0.0\n",
      "El percentil de la inversion al 20% es 0.0\n",
      "El percentil de la inversion al 25% es 0.0\n",
      "El percentil de la inversion al 30% es 0.0\n",
      "El percentil de la inversion al 35% es 0.0\n",
      "El percentil de la inversion al 40% es 0.0\n",
      "El percentil de la inversion al 45% es 0.0\n",
      "El percentil de la inversion al 50% es 0.0\n",
      "El percentil de la inversion al 55% es 0.0\n",
      "El percentil de la inversion al 60% es 0.0\n",
      "El percentil de la inversion al 65% es 3.908984830807681e-05\n",
      "El percentil de la inversion al 70% es 2.2311680280046646\n",
      "El percentil de la inversion al 75% es 8.077030338389731\n",
      "El percentil de la inversion al 80% es 19.22502217036174\n",
      "El percentil de la inversion al 85% es 43.89290256709453\n",
      "El percentil de la inversion al 90% es 106.54414702450399\n",
      "El percentil de la inversion al 95% es 292.3297508751439\n",
      "El percentil de la inversion al 100% es 95052.3967327888\n",
      "El percentil de la inversion al 95% es 292.3297508751439\n",
      "El percentil de la inversion al 96% es 382.52494002333725\n",
      "El percentil de la inversion al 97% es 504.0245740956821\n",
      "El percentil de la inversion al 98% es 721.9328399066508\n",
      "El percentil de la inversion al 99% es 1176.977154259045\n",
      "El percentil de la inversion al 100% es 95052.3967327888\n",
      "El percentil del tiempo de aparicion al 0% es 0.0\n",
      "El percentil del tiempo de aparicion al 5% es 2.0\n",
      "El percentil del tiempo de aparicion al 10% es 5.0\n",
      "El percentil del tiempo de aparicion al 15% es 7.0\n",
      "El percentil del tiempo de aparicion al 20% es 9.0\n",
      "El percentil del tiempo de aparicion al 25% es 12.0\n",
      "El percentil del tiempo de aparicion al 30% es 15.0\n",
      "El percentil del tiempo de aparicion al 35% es 17.0\n",
      "El percentil del tiempo de aparicion al 40% es 20.0\n",
      "El percentil del tiempo de aparicion al 45% es 23.0\n",
      "El percentil del tiempo de aparicion al 50% es 26.0\n",
      "El percentil del tiempo de aparicion al 55% es 29.0\n",
      "El percentil del tiempo de aparicion al 60% es 32.0\n",
      "El percentil del tiempo de aparicion al 65% es 35.0\n",
      "El percentil del tiempo de aparicion al 70% es 39.0\n",
      "El percentil del tiempo de aparicion al 75% es 42.0\n",
      "El percentil del tiempo de aparicion al 80% es 46.0\n",
      "El percentil del tiempo de aparicion al 85% es 50.0\n",
      "El percentil del tiempo de aparicion al 90% es 54.0\n",
      "El percentil del tiempo de aparicion al 95% es 58.0\n",
      "El percentil del tiempo de aparicion al 100% es 64.0\n",
      "El percentil del comportamiento_j al 0% es 0.0\n",
      "El percentil del comportamiento_j al 5% es 0.0\n",
      "El percentil del comportamiento_j al 10% es 0.0\n",
      "El percentil del comportamiento_j al 15% es 0.0\n",
      "El percentil del comportamiento_j al 20% es 0.0\n",
      "El percentil del comportamiento_j al 25% es 1.0\n",
      "El percentil del comportamiento_j al 30% es 1.0\n",
      "El percentil del comportamiento_j al 35% es 1.0\n",
      "El percentil del comportamiento_j al 40% es 1.0\n",
      "El percentil del comportamiento_j al 45% es 1.0\n",
      "El percentil del comportamiento_j al 50% es 1.0\n",
      "El percentil del comportamiento_j al 55% es 1.0\n",
      "El percentil del comportamiento_j al 60% es 1.0\n",
      "El percentil del comportamiento_j al 65% es 1.0\n",
      "El percentil del comportamiento_j al 70% es 1.0\n",
      "El percentil del comportamiento_j al 75% es 1.0\n",
      "El percentil del comportamiento_j al 80% es 1.0\n",
      "El percentil del comportamiento_j al 85% es 1.0\n",
      "El percentil del comportamiento_j al 90% es 1.0\n",
      "El percentil del comportamiento_j al 95% es 2.0\n",
      "El percentil del comportamiento_j al 100% es 18.0\n",
      "\n",
      "El percentil del comportamiento_j al 95% es 2.0\n",
      "El percentil del comportamiento_j al 96% es 3.0\n",
      "El percentil del comportamiento_j al 97% es 4.0\n",
      "El percentil del comportamiento_j al 98% es 7.0\n",
      "El percentil del comportamiento_j al 99% es 9.0\n",
      "El percentil del comportamiento_j al 100% es 18.0\n"
     ]
    },
    {
     "name": "stderr",
     "output_type": "stream",
     "text": [
      "<ipython-input-27-0d46a4e85529>:2: SettingWithCopyWarning: \n",
      "A value is trying to be set on a copy of a slice from a DataFrame.\n",
      "Try using .loc[row_indexer,col_indexer] = value instead\n",
      "\n",
      "See the caveats in the documentation: https://pandas.pydata.org/pandas-docs/stable/user_guide/indexing.html#returning-a-view-versus-a-copy\n",
      "  final_1['porc_inv'] = final['inversion'] / tot_inv\n"
     ]
    }
   ],
   "source": [
    "#Corremos el ejercicio 1 de la tarea anterior.\n",
    "%run ../Tarea_1./Tarea1_ej1.ipynb"
   ]
  },
  {
   "cell_type": "code",
   "execution_count": 28,
   "metadata": {},
   "outputs": [
    {
     "name": "stdout",
     "output_type": "stream",
     "text": [
      "<class 'pandas.core.frame.DataFrame'>\n",
      "Int64Index: 50000 entries, 0 to 49999\n",
      "Data columns (total 4 columns):\n",
      " #   Column           Non-Null Count  Dtype         \n",
      "---  ------           --------------  -----         \n",
      " 0   _id_             50000 non-null  object        \n",
      " 1   mes_informacion  49352 non-null  datetime64[ns]\n",
      " 2   inversion        50000 non-null  float64       \n",
      " 3   porc_inv         50000 non-null  float64       \n",
      "dtypes: datetime64[ns](1), float64(2), object(1)\n",
      "memory usage: 1.9+ MB\n"
     ]
    }
   ],
   "source": [
    "#Creamos una copia de la tabla final_1 del ejercicio 1 de la tarea anterior.\n",
    "copy_final_1 = final_1.copy()\n",
    "copy_final_1.info()"
   ]
  },
  {
   "cell_type": "code",
   "execution_count": 29,
   "metadata": {
    "scrolled": false
   },
   "outputs": [
    {
     "name": "stdout",
     "output_type": "stream",
     "text": [
      "<class 'pandas.core.frame.DataFrame'>\n",
      "Int64Index: 49352 entries, 0 to 49999\n",
      "Data columns (total 4 columns):\n",
      " #   Column           Non-Null Count  Dtype         \n",
      "---  ------           --------------  -----         \n",
      " 0   _id_             49352 non-null  object        \n",
      " 1   mes_informacion  49352 non-null  datetime64[ns]\n",
      " 2   inversion        49352 non-null  float64       \n",
      " 3   porc_inv         49352 non-null  float64       \n",
      "dtypes: datetime64[ns](1), float64(2), object(1)\n",
      "memory usage: 1.9+ MB\n"
     ]
    }
   ],
   "source": [
    "#Creamos una nueva tabla sin datos faltantes en las fechas.\n",
    "datos1 = copy_final_1.dropna()\n",
    "datos1.info()"
   ]
  },
  {
   "cell_type": "code",
   "execution_count": 30,
   "metadata": {
    "scrolled": true
   },
   "outputs": [],
   "source": [
    "#Creamos una condición que nos permita filtrar a los clientes que son aptos para recibir el crédito.\n",
    "mask = ((datos1['porc_inv'] > np.percentile(datos1['porc_inv'], 90)) | (mini & maxi ) )"
   ]
  },
  {
   "cell_type": "code",
   "execution_count": 31,
   "metadata": {},
   "outputs": [
    {
     "name": "stderr",
     "output_type": "stream",
     "text": [
      "<ipython-input-31-79800bf3224b>:2: SettingWithCopyWarning: \n",
      "A value is trying to be set on a copy of a slice from a DataFrame.\n",
      "Try using .loc[row_indexer,col_indexer] = value instead\n",
      "\n",
      "See the caveats in the documentation: https://pandas.pydata.org/pandas-docs/stable/user_guide/indexing.html#returning-a-view-versus-a-copy\n",
      "  datos1['target'] = 0 #No aptos.\n",
      "C:\\Users\\jonat\\anaconda3\\lib\\site-packages\\pandas\\core\\indexing.py:1720: SettingWithCopyWarning: \n",
      "A value is trying to be set on a copy of a slice from a DataFrame.\n",
      "Try using .loc[row_indexer,col_indexer] = value instead\n",
      "\n",
      "See the caveats in the documentation: https://pandas.pydata.org/pandas-docs/stable/user_guide/indexing.html#returning-a-view-versus-a-copy\n",
      "  self._setitem_single_column(loc, value, pi)\n"
     ]
    }
   ],
   "source": [
    "#Creamos un indicador para marcar a los clientes aptos para el crédito y los que no.\n",
    "datos1['target'] = 0 #No aptos.\n",
    "datos1.loc[mask,'target'] = 1 #Aptos."
   ]
  },
  {
   "cell_type": "code",
   "execution_count": 32,
   "metadata": {},
   "outputs": [
    {
     "name": "stderr",
     "output_type": "stream",
     "text": [
      "<ipython-input-32-e01fcf106195>:2: SettingWithCopyWarning: \n",
      "A value is trying to be set on a copy of a slice from a DataFrame.\n",
      "Try using .loc[row_indexer,col_indexer] = value instead\n",
      "\n",
      "See the caveats in the documentation: https://pandas.pydata.org/pandas-docs/stable/user_guide/indexing.html#returning-a-view-versus-a-copy\n",
      "  datos1['Year'] = datos1['mes_informacion'].dt.year #Año.\n",
      "<ipython-input-32-e01fcf106195>:3: SettingWithCopyWarning: \n",
      "A value is trying to be set on a copy of a slice from a DataFrame.\n",
      "Try using .loc[row_indexer,col_indexer] = value instead\n",
      "\n",
      "See the caveats in the documentation: https://pandas.pydata.org/pandas-docs/stable/user_guide/indexing.html#returning-a-view-versus-a-copy\n",
      "  datos1['Month'] = datos1['mes_informacion'].dt.month #Mes.\n",
      "<ipython-input-32-e01fcf106195>:4: SettingWithCopyWarning: \n",
      "A value is trying to be set on a copy of a slice from a DataFrame.\n",
      "Try using .loc[row_indexer,col_indexer] = value instead\n",
      "\n",
      "See the caveats in the documentation: https://pandas.pydata.org/pandas-docs/stable/user_guide/indexing.html#returning-a-view-versus-a-copy\n",
      "  datos1['Day'] = datos1['mes_informacion'].dt.day #Día.\n"
     ]
    }
   ],
   "source": [
    "#Las fechas las separamos de tal forma que el día, el mes y el año estén cada uno en una columna separada.\n",
    "datos1['Year'] = datos1['mes_informacion'].dt.year #Año.\n",
    "datos1['Month'] = datos1['mes_informacion'].dt.month #Mes.\n",
    "datos1['Day'] = datos1['mes_informacion'].dt.day #Día."
   ]
  },
  {
   "cell_type": "code",
   "execution_count": 33,
   "metadata": {},
   "outputs": [
    {
     "data": {
      "text/html": [
       "<div>\n",
       "<style scoped>\n",
       "    .dataframe tbody tr th:only-of-type {\n",
       "        vertical-align: middle;\n",
       "    }\n",
       "\n",
       "    .dataframe tbody tr th {\n",
       "        vertical-align: top;\n",
       "    }\n",
       "\n",
       "    .dataframe thead th {\n",
       "        text-align: right;\n",
       "    }\n",
       "</style>\n",
       "<table border=\"1\" class=\"dataframe\">\n",
       "  <thead>\n",
       "    <tr style=\"text-align: right;\">\n",
       "      <th></th>\n",
       "      <th>_id_</th>\n",
       "      <th>Year</th>\n",
       "      <th>Month</th>\n",
       "      <th>Day</th>\n",
       "      <th>inversion</th>\n",
       "      <th>porc_inv</th>\n",
       "      <th>target</th>\n",
       "    </tr>\n",
       "  </thead>\n",
       "  <tbody>\n",
       "    <tr>\n",
       "      <th>0</th>\n",
       "      <td>78213</td>\n",
       "      <td>2021</td>\n",
       "      <td>5</td>\n",
       "      <td>1</td>\n",
       "      <td>0.000000</td>\n",
       "      <td>0.000000e+00</td>\n",
       "      <td>0</td>\n",
       "    </tr>\n",
       "    <tr>\n",
       "      <th>1</th>\n",
       "      <td>76457</td>\n",
       "      <td>2021</td>\n",
       "      <td>5</td>\n",
       "      <td>1</td>\n",
       "      <td>0.041039</td>\n",
       "      <td>1.258548e-08</td>\n",
       "      <td>0</td>\n",
       "    </tr>\n",
       "    <tr>\n",
       "      <th>2</th>\n",
       "      <td>40666</td>\n",
       "      <td>2019</td>\n",
       "      <td>5</td>\n",
       "      <td>1</td>\n",
       "      <td>0.000000</td>\n",
       "      <td>0.000000e+00</td>\n",
       "      <td>0</td>\n",
       "    </tr>\n",
       "    <tr>\n",
       "      <th>3</th>\n",
       "      <td>8329</td>\n",
       "      <td>2021</td>\n",
       "      <td>5</td>\n",
       "      <td>1</td>\n",
       "      <td>0.000000</td>\n",
       "      <td>0.000000e+00</td>\n",
       "      <td>0</td>\n",
       "    </tr>\n",
       "    <tr>\n",
       "      <th>4</th>\n",
       "      <td>68389</td>\n",
       "      <td>2021</td>\n",
       "      <td>5</td>\n",
       "      <td>1</td>\n",
       "      <td>77.422135</td>\n",
       "      <td>2.374342e-05</td>\n",
       "      <td>0</td>\n",
       "    </tr>\n",
       "  </tbody>\n",
       "</table>\n",
       "</div>"
      ],
      "text/plain": [
       "    _id_  Year  Month  Day  inversion      porc_inv  target\n",
       "0  78213  2021      5    1   0.000000  0.000000e+00       0\n",
       "1  76457  2021      5    1   0.041039  1.258548e-08       0\n",
       "2  40666  2019      5    1   0.000000  0.000000e+00       0\n",
       "3   8329  2021      5    1   0.000000  0.000000e+00       0\n",
       "4  68389  2021      5    1  77.422135  2.374342e-05       0"
      ]
     },
     "execution_count": 33,
     "metadata": {},
     "output_type": "execute_result"
    }
   ],
   "source": [
    "#Creamos la tabla que utilizaremos para los algoritmos que incluyen los cambios antes mencionados.\n",
    "rdy_table = datos1[['_id_','Year','Month','Day','inversion','porc_inv','target']]\n",
    "rdy_table.head()"
   ]
  },
  {
   "cell_type": "code",
   "execution_count": 34,
   "metadata": {},
   "outputs": [],
   "source": [
    "#Hacemos validación y test\n",
    "X = rdy_table.copy()\n",
    "y = X.pop('target')\n",
    "\n",
    "# split the data\n",
    "X_train, X_test, y_train, y_test = train_test_split(X, y, test_size = 0.2) "
   ]
  },
  {
   "cell_type": "code",
   "execution_count": 35,
   "metadata": {},
   "outputs": [],
   "source": [
    "optb_year  = OptimalBinning(name = \"Year\", dtype = \"numerical\", solver = \"cp\")\n",
    "optb_month = OptimalBinning(name = \"Month\", dtype = \"numerical\", solver = \"cp\")\n",
    "optb_day   = OptimalBinning(name = \"Day\", dtype = \"numerical\", solver = \"cp\")\n",
    "optb_inv   = OptimalBinning(name = \"inversion\", dtype = \"numerical\", solver = \"cp\")\n",
    "\n",
    "columns = ['Year', 'Month', 'Day', 'inversion']\n",
    "opts    = [optb_year, optb_month, optb_day, optb_inv]"
   ]
  },
  {
   "cell_type": "markdown",
   "metadata": {},
   "source": [
    "## Para el entrenamiento"
   ]
  },
  {
   "cell_type": "code",
   "execution_count": 36,
   "metadata": {},
   "outputs": [
    {
     "data": {
      "text/plain": [
       "OptimalBinning(name='inversion')"
      ]
     },
     "execution_count": 36,
     "metadata": {},
     "output_type": "execute_result"
    }
   ],
   "source": [
    "optb_year.fit(X_train[\"Year\"].values, y_train)\n",
    "optb_month.fit(X_train[\"Month\"].values, y_train)\n",
    "optb_day.fit(X_train[\"Day\"].values, y_train)\n",
    "optb_inv.fit(X_train[\"inversion\"].values, y_train)"
   ]
  },
  {
   "cell_type": "code",
   "execution_count": 37,
   "metadata": {},
   "outputs": [
    {
     "data": {
      "text/plain": [
       "\"OptimalBinning(name='Year'):\""
      ]
     },
     "metadata": {},
     "output_type": "display_data"
    },
    {
     "data": {
      "text/plain": [
       "array([2019.5, 2020.5])"
      ]
     },
     "metadata": {},
     "output_type": "display_data"
    },
    {
     "data": {
      "text/plain": [
       "\"OptimalBinning(name='Month'):\""
      ]
     },
     "metadata": {},
     "output_type": "display_data"
    },
    {
     "data": {
      "text/plain": [
       "array([4.5, 5.5, 9.5])"
      ]
     },
     "metadata": {},
     "output_type": "display_data"
    },
    {
     "data": {
      "text/plain": [
       "\"OptimalBinning(name='Day'):\""
      ]
     },
     "metadata": {},
     "output_type": "display_data"
    },
    {
     "data": {
      "text/plain": [
       "array([], dtype=float64)"
      ]
     },
     "metadata": {},
     "output_type": "display_data"
    },
    {
     "data": {
      "text/plain": [
       "\"OptimalBinning(name='inversion'):\""
      ]
     },
     "metadata": {},
     "output_type": "display_data"
    },
    {
     "data": {
      "text/plain": [
       "array([], dtype=float64)"
      ]
     },
     "metadata": {},
     "output_type": "display_data"
    }
   ],
   "source": [
    "for i in opts:\n",
    "    display(f\"{i}:\", i.splits)"
   ]
  },
  {
   "cell_type": "code",
   "execution_count": 38,
   "metadata": {},
   "outputs": [],
   "source": [
    "year_table  = optb_year.binning_table\n",
    "month_table = optb_month.binning_table\n",
    "day_table   = optb_day.binning_table\n",
    "inv_table   = optb_inv.binning_table"
   ]
  },
  {
   "cell_type": "code",
   "execution_count": 39,
   "metadata": {},
   "outputs": [
    {
     "data": {
      "text/html": [
       "<div>\n",
       "<style scoped>\n",
       "    .dataframe tbody tr th:only-of-type {\n",
       "        vertical-align: middle;\n",
       "    }\n",
       "\n",
       "    .dataframe tbody tr th {\n",
       "        vertical-align: top;\n",
       "    }\n",
       "\n",
       "    .dataframe thead th {\n",
       "        text-align: right;\n",
       "    }\n",
       "</style>\n",
       "<table border=\"1\" class=\"dataframe\">\n",
       "  <thead>\n",
       "    <tr style=\"text-align: right;\">\n",
       "      <th></th>\n",
       "      <th>Bin</th>\n",
       "      <th>Count</th>\n",
       "      <th>Count (%)</th>\n",
       "      <th>Non-event</th>\n",
       "      <th>Event</th>\n",
       "      <th>Event rate</th>\n",
       "      <th>WoE</th>\n",
       "      <th>IV</th>\n",
       "      <th>JS</th>\n",
       "    </tr>\n",
       "  </thead>\n",
       "  <tbody>\n",
       "    <tr>\n",
       "      <th>0</th>\n",
       "      <td>[-inf, 2019.50)</td>\n",
       "      <td>3742</td>\n",
       "      <td>0.094780</td>\n",
       "      <td>3249</td>\n",
       "      <td>493</td>\n",
       "      <td>0.131748</td>\n",
       "      <td>-0.317301</td>\n",
       "      <td>0.010828</td>\n",
       "      <td>0.001348</td>\n",
       "    </tr>\n",
       "    <tr>\n",
       "      <th>1</th>\n",
       "      <td>[2019.50, 2020.50)</td>\n",
       "      <td>2736</td>\n",
       "      <td>0.069299</td>\n",
       "      <td>2434</td>\n",
       "      <td>302</td>\n",
       "      <td>0.110380</td>\n",
       "      <td>-0.11603</td>\n",
       "      <td>0.000977</td>\n",
       "      <td>0.000122</td>\n",
       "    </tr>\n",
       "    <tr>\n",
       "      <th>2</th>\n",
       "      <td>[2020.50, inf)</td>\n",
       "      <td>33003</td>\n",
       "      <td>0.835921</td>\n",
       "      <td>29870</td>\n",
       "      <td>3133</td>\n",
       "      <td>0.094931</td>\n",
       "      <td>0.051969</td>\n",
       "      <td>0.002211</td>\n",
       "      <td>0.000276</td>\n",
       "    </tr>\n",
       "    <tr>\n",
       "      <th>3</th>\n",
       "      <td>Special</td>\n",
       "      <td>0</td>\n",
       "      <td>0.000000</td>\n",
       "      <td>0</td>\n",
       "      <td>0</td>\n",
       "      <td>0.000000</td>\n",
       "      <td>0.0</td>\n",
       "      <td>0.000000</td>\n",
       "      <td>0.000000</td>\n",
       "    </tr>\n",
       "    <tr>\n",
       "      <th>4</th>\n",
       "      <td>Missing</td>\n",
       "      <td>0</td>\n",
       "      <td>0.000000</td>\n",
       "      <td>0</td>\n",
       "      <td>0</td>\n",
       "      <td>0.000000</td>\n",
       "      <td>0.0</td>\n",
       "      <td>0.000000</td>\n",
       "      <td>0.000000</td>\n",
       "    </tr>\n",
       "    <tr>\n",
       "      <th>Totals</th>\n",
       "      <td></td>\n",
       "      <td>39481</td>\n",
       "      <td>1.000000</td>\n",
       "      <td>35553</td>\n",
       "      <td>3928</td>\n",
       "      <td>0.099491</td>\n",
       "      <td></td>\n",
       "      <td>0.014016</td>\n",
       "      <td>0.001746</td>\n",
       "    </tr>\n",
       "  </tbody>\n",
       "</table>\n",
       "</div>"
      ],
      "text/plain": [
       "                       Bin  Count  Count (%)  Non-event  Event  Event rate  \\\n",
       "0          [-inf, 2019.50)   3742   0.094780       3249    493    0.131748   \n",
       "1       [2019.50, 2020.50)   2736   0.069299       2434    302    0.110380   \n",
       "2           [2020.50, inf)  33003   0.835921      29870   3133    0.094931   \n",
       "3                  Special      0   0.000000          0      0    0.000000   \n",
       "4                  Missing      0   0.000000          0      0    0.000000   \n",
       "Totals                      39481   1.000000      35553   3928    0.099491   \n",
       "\n",
       "             WoE        IV        JS  \n",
       "0      -0.317301  0.010828  0.001348  \n",
       "1       -0.11603  0.000977  0.000122  \n",
       "2       0.051969  0.002211  0.000276  \n",
       "3            0.0  0.000000  0.000000  \n",
       "4            0.0  0.000000  0.000000  \n",
       "Totals            0.014016  0.001746  "
      ]
     },
     "metadata": {},
     "output_type": "display_data"
    },
    {
     "data": {
      "text/html": [
       "<div>\n",
       "<style scoped>\n",
       "    .dataframe tbody tr th:only-of-type {\n",
       "        vertical-align: middle;\n",
       "    }\n",
       "\n",
       "    .dataframe tbody tr th {\n",
       "        vertical-align: top;\n",
       "    }\n",
       "\n",
       "    .dataframe thead th {\n",
       "        text-align: right;\n",
       "    }\n",
       "</style>\n",
       "<table border=\"1\" class=\"dataframe\">\n",
       "  <thead>\n",
       "    <tr style=\"text-align: right;\">\n",
       "      <th></th>\n",
       "      <th>Bin</th>\n",
       "      <th>Count</th>\n",
       "      <th>Count (%)</th>\n",
       "      <th>Non-event</th>\n",
       "      <th>Event</th>\n",
       "      <th>Event rate</th>\n",
       "      <th>WoE</th>\n",
       "      <th>IV</th>\n",
       "      <th>JS</th>\n",
       "    </tr>\n",
       "  </thead>\n",
       "  <tbody>\n",
       "    <tr>\n",
       "      <th>0</th>\n",
       "      <td>[-inf, 4.50)</td>\n",
       "      <td>2935</td>\n",
       "      <td>0.074340</td>\n",
       "      <td>2589</td>\n",
       "      <td>346</td>\n",
       "      <td>0.117888</td>\n",
       "      <td>-0.190306</td>\n",
       "      <td>0.002905</td>\n",
       "      <td>0.000363</td>\n",
       "    </tr>\n",
       "    <tr>\n",
       "      <th>1</th>\n",
       "      <td>[4.50, 5.50)</td>\n",
       "      <td>32146</td>\n",
       "      <td>0.814214</td>\n",
       "      <td>29081</td>\n",
       "      <td>3065</td>\n",
       "      <td>0.095346</td>\n",
       "      <td>0.047143</td>\n",
       "      <td>0.001776</td>\n",
       "      <td>0.000222</td>\n",
       "    </tr>\n",
       "    <tr>\n",
       "      <th>2</th>\n",
       "      <td>[5.50, 9.50)</td>\n",
       "      <td>2299</td>\n",
       "      <td>0.058231</td>\n",
       "      <td>2034</td>\n",
       "      <td>265</td>\n",
       "      <td>0.115268</td>\n",
       "      <td>-0.164864</td>\n",
       "      <td>0.001691</td>\n",
       "      <td>0.000211</td>\n",
       "    </tr>\n",
       "    <tr>\n",
       "      <th>3</th>\n",
       "      <td>[9.50, inf)</td>\n",
       "      <td>2101</td>\n",
       "      <td>0.053215</td>\n",
       "      <td>1849</td>\n",
       "      <td>252</td>\n",
       "      <td>0.119943</td>\n",
       "      <td>-0.209923</td>\n",
       "      <td>0.002550</td>\n",
       "      <td>0.000318</td>\n",
       "    </tr>\n",
       "    <tr>\n",
       "      <th>4</th>\n",
       "      <td>Special</td>\n",
       "      <td>0</td>\n",
       "      <td>0.000000</td>\n",
       "      <td>0</td>\n",
       "      <td>0</td>\n",
       "      <td>0.000000</td>\n",
       "      <td>0.0</td>\n",
       "      <td>0.000000</td>\n",
       "      <td>0.000000</td>\n",
       "    </tr>\n",
       "    <tr>\n",
       "      <th>5</th>\n",
       "      <td>Missing</td>\n",
       "      <td>0</td>\n",
       "      <td>0.000000</td>\n",
       "      <td>0</td>\n",
       "      <td>0</td>\n",
       "      <td>0.000000</td>\n",
       "      <td>0.0</td>\n",
       "      <td>0.000000</td>\n",
       "      <td>0.000000</td>\n",
       "    </tr>\n",
       "    <tr>\n",
       "      <th>Totals</th>\n",
       "      <td></td>\n",
       "      <td>39481</td>\n",
       "      <td>1.000000</td>\n",
       "      <td>35553</td>\n",
       "      <td>3928</td>\n",
       "      <td>0.099491</td>\n",
       "      <td></td>\n",
       "      <td>0.008921</td>\n",
       "      <td>0.001114</td>\n",
       "    </tr>\n",
       "  </tbody>\n",
       "</table>\n",
       "</div>"
      ],
      "text/plain": [
       "                 Bin  Count  Count (%)  Non-event  Event  Event rate  \\\n",
       "0       [-inf, 4.50)   2935   0.074340       2589    346    0.117888   \n",
       "1       [4.50, 5.50)  32146   0.814214      29081   3065    0.095346   \n",
       "2       [5.50, 9.50)   2299   0.058231       2034    265    0.115268   \n",
       "3        [9.50, inf)   2101   0.053215       1849    252    0.119943   \n",
       "4            Special      0   0.000000          0      0    0.000000   \n",
       "5            Missing      0   0.000000          0      0    0.000000   \n",
       "Totals                39481   1.000000      35553   3928    0.099491   \n",
       "\n",
       "             WoE        IV        JS  \n",
       "0      -0.190306  0.002905  0.000363  \n",
       "1       0.047143  0.001776  0.000222  \n",
       "2      -0.164864  0.001691  0.000211  \n",
       "3      -0.209923  0.002550  0.000318  \n",
       "4            0.0  0.000000  0.000000  \n",
       "5            0.0  0.000000  0.000000  \n",
       "Totals            0.008921  0.001114  "
      ]
     },
     "metadata": {},
     "output_type": "display_data"
    },
    {
     "data": {
      "text/html": [
       "<div>\n",
       "<style scoped>\n",
       "    .dataframe tbody tr th:only-of-type {\n",
       "        vertical-align: middle;\n",
       "    }\n",
       "\n",
       "    .dataframe tbody tr th {\n",
       "        vertical-align: top;\n",
       "    }\n",
       "\n",
       "    .dataframe thead th {\n",
       "        text-align: right;\n",
       "    }\n",
       "</style>\n",
       "<table border=\"1\" class=\"dataframe\">\n",
       "  <thead>\n",
       "    <tr style=\"text-align: right;\">\n",
       "      <th></th>\n",
       "      <th>Bin</th>\n",
       "      <th>Count</th>\n",
       "      <th>Count (%)</th>\n",
       "      <th>Non-event</th>\n",
       "      <th>Event</th>\n",
       "      <th>Event rate</th>\n",
       "      <th>WoE</th>\n",
       "      <th>IV</th>\n",
       "      <th>JS</th>\n",
       "    </tr>\n",
       "  </thead>\n",
       "  <tbody>\n",
       "    <tr>\n",
       "      <th>0</th>\n",
       "      <td>[-inf, inf)</td>\n",
       "      <td>39481</td>\n",
       "      <td>1.0</td>\n",
       "      <td>35553</td>\n",
       "      <td>3928</td>\n",
       "      <td>0.099491</td>\n",
       "      <td>-0.0</td>\n",
       "      <td>0.0</td>\n",
       "      <td>0.0</td>\n",
       "    </tr>\n",
       "    <tr>\n",
       "      <th>1</th>\n",
       "      <td>Special</td>\n",
       "      <td>0</td>\n",
       "      <td>0.0</td>\n",
       "      <td>0</td>\n",
       "      <td>0</td>\n",
       "      <td>0.000000</td>\n",
       "      <td>0.0</td>\n",
       "      <td>0.0</td>\n",
       "      <td>0.0</td>\n",
       "    </tr>\n",
       "    <tr>\n",
       "      <th>2</th>\n",
       "      <td>Missing</td>\n",
       "      <td>0</td>\n",
       "      <td>0.0</td>\n",
       "      <td>0</td>\n",
       "      <td>0</td>\n",
       "      <td>0.000000</td>\n",
       "      <td>0.0</td>\n",
       "      <td>0.0</td>\n",
       "      <td>0.0</td>\n",
       "    </tr>\n",
       "    <tr>\n",
       "      <th>Totals</th>\n",
       "      <td></td>\n",
       "      <td>39481</td>\n",
       "      <td>1.0</td>\n",
       "      <td>35553</td>\n",
       "      <td>3928</td>\n",
       "      <td>0.099491</td>\n",
       "      <td></td>\n",
       "      <td>0.0</td>\n",
       "      <td>0.0</td>\n",
       "    </tr>\n",
       "  </tbody>\n",
       "</table>\n",
       "</div>"
      ],
      "text/plain": [
       "                Bin  Count  Count (%)  Non-event  Event  Event rate  WoE   IV  \\\n",
       "0       [-inf, inf)  39481        1.0      35553   3928    0.099491 -0.0  0.0   \n",
       "1           Special      0        0.0          0      0    0.000000  0.0  0.0   \n",
       "2           Missing      0        0.0          0      0    0.000000  0.0  0.0   \n",
       "Totals               39481        1.0      35553   3928    0.099491       0.0   \n",
       "\n",
       "         JS  \n",
       "0       0.0  \n",
       "1       0.0  \n",
       "2       0.0  \n",
       "Totals  0.0  "
      ]
     },
     "metadata": {},
     "output_type": "display_data"
    },
    {
     "data": {
      "text/html": [
       "<div>\n",
       "<style scoped>\n",
       "    .dataframe tbody tr th:only-of-type {\n",
       "        vertical-align: middle;\n",
       "    }\n",
       "\n",
       "    .dataframe tbody tr th {\n",
       "        vertical-align: top;\n",
       "    }\n",
       "\n",
       "    .dataframe thead th {\n",
       "        text-align: right;\n",
       "    }\n",
       "</style>\n",
       "<table border=\"1\" class=\"dataframe\">\n",
       "  <thead>\n",
       "    <tr style=\"text-align: right;\">\n",
       "      <th></th>\n",
       "      <th>Bin</th>\n",
       "      <th>Count</th>\n",
       "      <th>Count (%)</th>\n",
       "      <th>Non-event</th>\n",
       "      <th>Event</th>\n",
       "      <th>Event rate</th>\n",
       "      <th>WoE</th>\n",
       "      <th>IV</th>\n",
       "      <th>JS</th>\n",
       "    </tr>\n",
       "  </thead>\n",
       "  <tbody>\n",
       "    <tr>\n",
       "      <th>0</th>\n",
       "      <td>[-inf, inf)</td>\n",
       "      <td>39481</td>\n",
       "      <td>1.0</td>\n",
       "      <td>35553</td>\n",
       "      <td>3928</td>\n",
       "      <td>0.099491</td>\n",
       "      <td>-0.0</td>\n",
       "      <td>0.0</td>\n",
       "      <td>0.0</td>\n",
       "    </tr>\n",
       "    <tr>\n",
       "      <th>1</th>\n",
       "      <td>Special</td>\n",
       "      <td>0</td>\n",
       "      <td>0.0</td>\n",
       "      <td>0</td>\n",
       "      <td>0</td>\n",
       "      <td>0.000000</td>\n",
       "      <td>0.0</td>\n",
       "      <td>0.0</td>\n",
       "      <td>0.0</td>\n",
       "    </tr>\n",
       "    <tr>\n",
       "      <th>2</th>\n",
       "      <td>Missing</td>\n",
       "      <td>0</td>\n",
       "      <td>0.0</td>\n",
       "      <td>0</td>\n",
       "      <td>0</td>\n",
       "      <td>0.000000</td>\n",
       "      <td>0.0</td>\n",
       "      <td>0.0</td>\n",
       "      <td>0.0</td>\n",
       "    </tr>\n",
       "    <tr>\n",
       "      <th>Totals</th>\n",
       "      <td></td>\n",
       "      <td>39481</td>\n",
       "      <td>1.0</td>\n",
       "      <td>35553</td>\n",
       "      <td>3928</td>\n",
       "      <td>0.099491</td>\n",
       "      <td></td>\n",
       "      <td>0.0</td>\n",
       "      <td>0.0</td>\n",
       "    </tr>\n",
       "  </tbody>\n",
       "</table>\n",
       "</div>"
      ],
      "text/plain": [
       "                Bin  Count  Count (%)  Non-event  Event  Event rate  WoE   IV  \\\n",
       "0       [-inf, inf)  39481        1.0      35553   3928    0.099491 -0.0  0.0   \n",
       "1           Special      0        0.0          0      0    0.000000  0.0  0.0   \n",
       "2           Missing      0        0.0          0      0    0.000000  0.0  0.0   \n",
       "Totals               39481        1.0      35553   3928    0.099491       0.0   \n",
       "\n",
       "         JS  \n",
       "0       0.0  \n",
       "1       0.0  \n",
       "2       0.0  \n",
       "Totals  0.0  "
      ]
     },
     "metadata": {},
     "output_type": "display_data"
    }
   ],
   "source": [
    "display(year_table.build())\n",
    "display(month_table.build())\n",
    "display(day_table.build())\n",
    "display(inv_table.build())"
   ]
  },
  {
   "cell_type": "code",
   "execution_count": 40,
   "metadata": {},
   "outputs": [
    {
     "data": {
      "text/plain": [
       "<Figure size 432x288 with 0 Axes>"
      ]
     },
     "metadata": {},
     "output_type": "display_data"
    },
    {
     "data": {
      "image/png": "[encoded data removed]",
      "text/plain": [
       "<Figure size 432x288 with 2 Axes>"
      ]
     },
     "metadata": {
      "needs_background": "light"
     },
     "output_type": "display_data"
    },
    {
     "data": {
      "image/png": "[encoded data removed]",
      "text/plain": [
       "<Figure size 432x288 with 2 Axes>"
      ]
     },
     "metadata": {
      "needs_background": "light"
     },
     "output_type": "display_data"
    },
    {
     "data": {
      "image/png": "[encoded data removed]",
      "text/plain": [
       "<Figure size 432x288 with 2 Axes>"
      ]
     },
     "metadata": {
      "needs_background": "light"
     },
     "output_type": "display_data"
    },
    {
     "data": {
      "image/png": "[encoded data removed]",
      "text/plain": [
       "<Figure size 432x288 with 2 Axes>"
      ]
     },
     "metadata": {
      "needs_background": "light"
     },
     "output_type": "display_data"
    }
   ],
   "source": [
    "plt.figure()\n",
    "year_table.plot(metric=\"event_rate\")\n",
    "month_table.plot(metric=\"woe\")\n",
    "day_table.plot(metric=\"event_rate\")\n",
    "inv_table.plot(metric=\"woe\")"
   ]
  },
  {
   "cell_type": "code",
   "execution_count": 41,
   "metadata": {},
   "outputs": [
    {
     "data": {
      "text/plain": [
       "<Figure size 432x288 with 0 Axes>"
      ]
     },
     "metadata": {},
     "output_type": "display_data"
    },
    {
     "data": {
      "image/png": "[encoded data removed]",
      "text/plain": [
       "<Figure size 432x288 with 2 Axes>"
      ]
     },
     "metadata": {
      "needs_background": "light"
     },
     "output_type": "display_data"
    },
    {
     "data": {
      "image/png": "[encoded data removed]",
      "text/plain": [
       "<Figure size 432x288 with 2 Axes>"
      ]
     },
     "metadata": {
      "needs_background": "light"
     },
     "output_type": "display_data"
    },
    {
     "data": {
      "image/png": "[encoded data removed]",
      "text/plain": [
       "<Figure size 432x288 with 2 Axes>"
      ]
     },
     "metadata": {
      "needs_background": "light"
     },
     "output_type": "display_data"
    },
    {
     "data": {
      "image/png": "[encoded data removed]",
      "text/plain": [
       "<Figure size 432x288 with 2 Axes>"
      ]
     },
     "metadata": {
      "needs_background": "light"
     },
     "output_type": "display_data"
    }
   ],
   "source": [
    "plt.figure()\n",
    "year_table.plot(metric=\"woe\")\n",
    "month_table.plot(metric=\"woe\")\n",
    "day_table.plot(metric=\"woe\")\n",
    "inv_table.plot(metric=\"woe\")"
   ]
  },
  {
   "cell_type": "code",
   "execution_count": 42,
   "metadata": {},
   "outputs": [
    {
     "name": "stderr",
     "output_type": "stream",
     "text": [
      "<ipython-input-42-c159af73fad1>:2: SettingWithCopyWarning: \n",
      "A value is trying to be set on a copy of a slice from a DataFrame.\n",
      "Try using .loc[row_indexer,col_indexer] = value instead\n",
      "\n",
      "See the caveats in the documentation: https://pandas.pydata.org/pandas-docs/stable/user_guide/indexing.html#returning-a-view-versus-a-copy\n",
      "  X_train[\"woe_year\"]  = optb_year.transform(X_train[\"Year\"], metric=\"woe\")\n",
      "<ipython-input-42-c159af73fad1>:3: SettingWithCopyWarning: \n",
      "A value is trying to be set on a copy of a slice from a DataFrame.\n",
      "Try using .loc[row_indexer,col_indexer] = value instead\n",
      "\n",
      "See the caveats in the documentation: https://pandas.pydata.org/pandas-docs/stable/user_guide/indexing.html#returning-a-view-versus-a-copy\n",
      "  X_train[\"woe_month\"] = optb_month.transform(X_train[\"Month\"], metric=\"woe\")\n",
      "<ipython-input-42-c159af73fad1>:4: SettingWithCopyWarning: \n",
      "A value is trying to be set on a copy of a slice from a DataFrame.\n",
      "Try using .loc[row_indexer,col_indexer] = value instead\n",
      "\n",
      "See the caveats in the documentation: https://pandas.pydata.org/pandas-docs/stable/user_guide/indexing.html#returning-a-view-versus-a-copy\n",
      "  X_train[\"woe_day\"]   = optb_day.transform(X_train[\"Day\"], metric=\"woe\")\n",
      "<ipython-input-42-c159af73fad1>:5: SettingWithCopyWarning: \n",
      "A value is trying to be set on a copy of a slice from a DataFrame.\n",
      "Try using .loc[row_indexer,col_indexer] = value instead\n",
      "\n",
      "See the caveats in the documentation: https://pandas.pydata.org/pandas-docs/stable/user_guide/indexing.html#returning-a-view-versus-a-copy\n",
      "  X_train[\"woe_inv\"]   = optb_inv.transform(X_train[\"inversion\"], metric=\"woe\")\n"
     ]
    }
   ],
   "source": [
    "#Transformamos las variables a woe\n",
    "X_train[\"woe_year\"]  = optb_year.transform(X_train[\"Year\"], metric=\"woe\")\n",
    "X_train[\"woe_month\"] = optb_month.transform(X_train[\"Month\"], metric=\"woe\")\n",
    "X_train[\"woe_day\"]   = optb_day.transform(X_train[\"Day\"], metric=\"woe\")\n",
    "X_train[\"woe_inv\"]   = optb_inv.transform(X_train[\"inversion\"], metric=\"woe\")"
   ]
  },
  {
   "cell_type": "code",
   "execution_count": 43,
   "metadata": {},
   "outputs": [
    {
     "data": {
      "text/html": [
       "<div>\n",
       "<style scoped>\n",
       "    .dataframe tbody tr th:only-of-type {\n",
       "        vertical-align: middle;\n",
       "    }\n",
       "\n",
       "    .dataframe tbody tr th {\n",
       "        vertical-align: top;\n",
       "    }\n",
       "\n",
       "    .dataframe thead th {\n",
       "        text-align: right;\n",
       "    }\n",
       "</style>\n",
       "<table border=\"1\" class=\"dataframe\">\n",
       "  <thead>\n",
       "    <tr style=\"text-align: right;\">\n",
       "      <th></th>\n",
       "      <th>_id_</th>\n",
       "      <th>Year</th>\n",
       "      <th>Month</th>\n",
       "      <th>Day</th>\n",
       "      <th>inversion</th>\n",
       "      <th>porc_inv</th>\n",
       "      <th>woe_year</th>\n",
       "      <th>woe_month</th>\n",
       "      <th>woe_day</th>\n",
       "      <th>woe_inv</th>\n",
       "    </tr>\n",
       "  </thead>\n",
       "  <tbody>\n",
       "    <tr>\n",
       "      <th>35836</th>\n",
       "      <td>1011</td>\n",
       "      <td>2021</td>\n",
       "      <td>5</td>\n",
       "      <td>1</td>\n",
       "      <td>0.000000</td>\n",
       "      <td>0.000000</td>\n",
       "      <td>0.051969</td>\n",
       "      <td>0.047143</td>\n",
       "      <td>-4.440892e-16</td>\n",
       "      <td>-4.440892e-16</td>\n",
       "    </tr>\n",
       "    <tr>\n",
       "      <th>6876</th>\n",
       "      <td>16898</td>\n",
       "      <td>2021</td>\n",
       "      <td>5</td>\n",
       "      <td>1</td>\n",
       "      <td>0.000000</td>\n",
       "      <td>0.000000</td>\n",
       "      <td>0.051969</td>\n",
       "      <td>0.047143</td>\n",
       "      <td>-4.440892e-16</td>\n",
       "      <td>-4.440892e-16</td>\n",
       "    </tr>\n",
       "    <tr>\n",
       "      <th>36983</th>\n",
       "      <td>96875</td>\n",
       "      <td>2021</td>\n",
       "      <td>5</td>\n",
       "      <td>1</td>\n",
       "      <td>184.274772</td>\n",
       "      <td>0.000057</td>\n",
       "      <td>0.051969</td>\n",
       "      <td>0.047143</td>\n",
       "      <td>-4.440892e-16</td>\n",
       "      <td>-4.440892e-16</td>\n",
       "    </tr>\n",
       "    <tr>\n",
       "      <th>26663</th>\n",
       "      <td>37915</td>\n",
       "      <td>2021</td>\n",
       "      <td>5</td>\n",
       "      <td>1</td>\n",
       "      <td>19.487316</td>\n",
       "      <td>0.000006</td>\n",
       "      <td>0.051969</td>\n",
       "      <td>0.047143</td>\n",
       "      <td>-4.440892e-16</td>\n",
       "      <td>-4.440892e-16</td>\n",
       "    </tr>\n",
       "    <tr>\n",
       "      <th>32355</th>\n",
       "      <td>68829</td>\n",
       "      <td>2021</td>\n",
       "      <td>5</td>\n",
       "      <td>1</td>\n",
       "      <td>0.000000</td>\n",
       "      <td>0.000000</td>\n",
       "      <td>0.051969</td>\n",
       "      <td>0.047143</td>\n",
       "      <td>-4.440892e-16</td>\n",
       "      <td>-4.440892e-16</td>\n",
       "    </tr>\n",
       "  </tbody>\n",
       "</table>\n",
       "</div>"
      ],
      "text/plain": [
       "        _id_  Year  Month  Day   inversion  porc_inv  woe_year  woe_month  \\\n",
       "35836   1011  2021      5    1    0.000000  0.000000  0.051969   0.047143   \n",
       "6876   16898  2021      5    1    0.000000  0.000000  0.051969   0.047143   \n",
       "36983  96875  2021      5    1  184.274772  0.000057  0.051969   0.047143   \n",
       "26663  37915  2021      5    1   19.487316  0.000006  0.051969   0.047143   \n",
       "32355  68829  2021      5    1    0.000000  0.000000  0.051969   0.047143   \n",
       "\n",
       "            woe_day       woe_inv  \n",
       "35836 -4.440892e-16 -4.440892e-16  \n",
       "6876  -4.440892e-16 -4.440892e-16  \n",
       "36983 -4.440892e-16 -4.440892e-16  \n",
       "26663 -4.440892e-16 -4.440892e-16  \n",
       "32355 -4.440892e-16 -4.440892e-16  "
      ]
     },
     "execution_count": 43,
     "metadata": {},
     "output_type": "execute_result"
    }
   ],
   "source": [
    "X_train.head()"
   ]
  },
  {
   "cell_type": "code",
   "execution_count": 44,
   "metadata": {},
   "outputs": [
    {
     "data": {
      "image/png": "[encoded data removed]",
      "text/plain": [
       "<Figure size 720x720 with 2 Axes>"
      ]
     },
     "metadata": {
      "needs_background": "light"
     },
     "output_type": "display_data"
    }
   ],
   "source": [
    "corre = X_train.iloc[ : , 6: ].corr()\n",
    "\n",
    "\n",
    "xticks = list(corre.index)  \n",
    "yticks = list(corre.index)  \n",
    "fig = plt.figure(figsize=(10,10))\n",
    "ax1 = fig.add_subplot(1, 1, 1)\n",
    "\n",
    "sns.heatmap(corre,annot=True,cmap=\"rainbow\",ax=ax1,linewidths=.5,\n",
    "annot_kws={'size':9,'weight':'bold', 'color':'k'})\n",
    "\n",
    "ax1.set_xticklabels(xticks, rotation=30, fontsize=10)\n",
    "ax1.set_yticklabels(yticks, rotation=0, fontsize=10)\n",
    "plt.show()"
   ]
  },
  {
   "cell_type": "code",
   "execution_count": 45,
   "metadata": {},
   "outputs": [
    {
     "data": {
      "text/html": [
       "<div>\n",
       "<style scoped>\n",
       "    .dataframe tbody tr th:only-of-type {\n",
       "        vertical-align: middle;\n",
       "    }\n",
       "\n",
       "    .dataframe tbody tr th {\n",
       "        vertical-align: top;\n",
       "    }\n",
       "\n",
       "    .dataframe thead th {\n",
       "        text-align: right;\n",
       "    }\n",
       "</style>\n",
       "<table border=\"1\" class=\"dataframe\">\n",
       "  <thead>\n",
       "    <tr style=\"text-align: right;\">\n",
       "      <th></th>\n",
       "      <th>woe_year</th>\n",
       "      <th>woe_month</th>\n",
       "      <th>woe_day</th>\n",
       "      <th>woe_inv</th>\n",
       "    </tr>\n",
       "  </thead>\n",
       "  <tbody>\n",
       "    <tr>\n",
       "      <th>35836</th>\n",
       "      <td>0.051969</td>\n",
       "      <td>0.047143</td>\n",
       "      <td>-4.440892e-16</td>\n",
       "      <td>-4.440892e-16</td>\n",
       "    </tr>\n",
       "    <tr>\n",
       "      <th>6876</th>\n",
       "      <td>0.051969</td>\n",
       "      <td>0.047143</td>\n",
       "      <td>-4.440892e-16</td>\n",
       "      <td>-4.440892e-16</td>\n",
       "    </tr>\n",
       "    <tr>\n",
       "      <th>36983</th>\n",
       "      <td>0.051969</td>\n",
       "      <td>0.047143</td>\n",
       "      <td>-4.440892e-16</td>\n",
       "      <td>-4.440892e-16</td>\n",
       "    </tr>\n",
       "    <tr>\n",
       "      <th>26663</th>\n",
       "      <td>0.051969</td>\n",
       "      <td>0.047143</td>\n",
       "      <td>-4.440892e-16</td>\n",
       "      <td>-4.440892e-16</td>\n",
       "    </tr>\n",
       "    <tr>\n",
       "      <th>32355</th>\n",
       "      <td>0.051969</td>\n",
       "      <td>0.047143</td>\n",
       "      <td>-4.440892e-16</td>\n",
       "      <td>-4.440892e-16</td>\n",
       "    </tr>\n",
       "  </tbody>\n",
       "</table>\n",
       "</div>"
      ],
      "text/plain": [
       "       woe_year  woe_month       woe_day       woe_inv\n",
       "35836  0.051969   0.047143 -4.440892e-16 -4.440892e-16\n",
       "6876   0.051969   0.047143 -4.440892e-16 -4.440892e-16\n",
       "36983  0.051969   0.047143 -4.440892e-16 -4.440892e-16\n",
       "26663  0.051969   0.047143 -4.440892e-16 -4.440892e-16\n",
       "32355  0.051969   0.047143 -4.440892e-16 -4.440892e-16"
      ]
     },
     "execution_count": 45,
     "metadata": {},
     "output_type": "execute_result"
    }
   ],
   "source": [
    "X_woe_train = X_train.iloc[:,6:]\n",
    "X_woe_train.head()"
   ]
  },
  {
   "cell_type": "code",
   "execution_count": 46,
   "metadata": {},
   "outputs": [],
   "source": [
    "model = LogisticRegression()\n",
    "clf = model.fit(X_woe_train, y_train)"
   ]
  },
  {
   "cell_type": "code",
   "execution_count": 47,
   "metadata": {},
   "outputs": [
    {
     "name": "stdout",
     "output_type": "stream",
     "text": [
      "y_pred\n",
      " [0 0 0 ... 0 0 0]\n",
      "y_pred1\n",
      " [-2.25504601 -2.25504601 -2.25504601 ... -2.25504601 -2.25504601\n",
      " -2.25504601]\n"
     ]
    },
    {
     "data": {
      "image/png": "[encoded data removed]",
      "text/plain": [
       "<Figure size 432x288 with 1 Axes>"
      ]
     },
     "metadata": {
      "needs_background": "light"
     },
     "output_type": "display_data"
    }
   ],
   "source": [
    "y_pred = clf.predict(X_woe_train)\n",
    "y_pred1 = clf.decision_function(X_woe_train)\n",
    "print('y_pred\\n', y_pred)\n",
    "print('y_pred1\\n', y_pred1)\n",
    "\n",
    "#Draw ROC curve and calculate AUC value\n",
    "fpr, tpr, threshold = roc_curve(y_train, y_pred1)\n",
    "roc_auc = auc(fpr, tpr)\n",
    "plot(fpr, tpr, color='darkorange',\n",
    "         label = 'ROC curve (area = %0.2f)' % roc_auc)\n",
    "plt.plot([0, 1], [0, 1], color = 'navy', linestyle = '--')\n",
    "plt.xlim([0.0, 1.0])\n",
    "plt.ylim([0.0, 1.0])\n",
    "plt.xlabel('False Positive Rate')\n",
    "plt.ylabel('True Positive Rate')\n",
    "plt.title('ROC_curve')\n",
    "plt.legend(loc=\"lower right\")\n",
    "plt.show()"
   ]
  },
  {
   "cell_type": "markdown",
   "metadata": {},
   "source": [
    "## Conjunto de datos de prueba"
   ]
  },
  {
   "cell_type": "code",
   "execution_count": 48,
   "metadata": {},
   "outputs": [
    {
     "data": {
      "text/html": [
       "<div>\n",
       "<style scoped>\n",
       "    .dataframe tbody tr th:only-of-type {\n",
       "        vertical-align: middle;\n",
       "    }\n",
       "\n",
       "    .dataframe tbody tr th {\n",
       "        vertical-align: top;\n",
       "    }\n",
       "\n",
       "    .dataframe thead th {\n",
       "        text-align: right;\n",
       "    }\n",
       "</style>\n",
       "<table border=\"1\" class=\"dataframe\">\n",
       "  <thead>\n",
       "    <tr style=\"text-align: right;\">\n",
       "      <th></th>\n",
       "      <th>woe_year</th>\n",
       "      <th>woe_month</th>\n",
       "      <th>woe_day</th>\n",
       "      <th>woe_inv</th>\n",
       "    </tr>\n",
       "  </thead>\n",
       "  <tbody>\n",
       "    <tr>\n",
       "      <th>35836</th>\n",
       "      <td>0.051969</td>\n",
       "      <td>0.047143</td>\n",
       "      <td>-4.440892e-16</td>\n",
       "      <td>-4.440892e-16</td>\n",
       "    </tr>\n",
       "    <tr>\n",
       "      <th>6876</th>\n",
       "      <td>0.051969</td>\n",
       "      <td>0.047143</td>\n",
       "      <td>-4.440892e-16</td>\n",
       "      <td>-4.440892e-16</td>\n",
       "    </tr>\n",
       "    <tr>\n",
       "      <th>36983</th>\n",
       "      <td>0.051969</td>\n",
       "      <td>0.047143</td>\n",
       "      <td>-4.440892e-16</td>\n",
       "      <td>-4.440892e-16</td>\n",
       "    </tr>\n",
       "    <tr>\n",
       "      <th>26663</th>\n",
       "      <td>0.051969</td>\n",
       "      <td>0.047143</td>\n",
       "      <td>-4.440892e-16</td>\n",
       "      <td>-4.440892e-16</td>\n",
       "    </tr>\n",
       "    <tr>\n",
       "      <th>32355</th>\n",
       "      <td>0.051969</td>\n",
       "      <td>0.047143</td>\n",
       "      <td>-4.440892e-16</td>\n",
       "      <td>-4.440892e-16</td>\n",
       "    </tr>\n",
       "  </tbody>\n",
       "</table>\n",
       "</div>"
      ],
      "text/plain": [
       "       woe_year  woe_month       woe_day       woe_inv\n",
       "35836  0.051969   0.047143 -4.440892e-16 -4.440892e-16\n",
       "6876   0.051969   0.047143 -4.440892e-16 -4.440892e-16\n",
       "36983  0.051969   0.047143 -4.440892e-16 -4.440892e-16\n",
       "26663  0.051969   0.047143 -4.440892e-16 -4.440892e-16\n",
       "32355  0.051969   0.047143 -4.440892e-16 -4.440892e-16"
      ]
     },
     "execution_count": 48,
     "metadata": {},
     "output_type": "execute_result"
    }
   ],
   "source": [
    "X_woe_test = X_test.iloc[:,6:]\n",
    "X_woe_train.head()"
   ]
  },
  {
   "cell_type": "code",
   "execution_count": 49,
   "metadata": {},
   "outputs": [],
   "source": [
    "#Transformamos las variables a woe\n",
    "X_woe_test[\"woe_year\"]  = optb_year.transform(X_test[\"Year\"], metric=\"woe\")\n",
    "X_woe_test[\"woe_month\"] = optb_month.transform(X_test[\"Month\"], metric=\"woe\")\n",
    "X_woe_test[\"woe_day\"]   = optb_day.transform(X_test[\"Day\"], metric=\"woe\")\n",
    "X_woe_test[\"woe_inv\"]   = optb_inv.transform(X_test[\"inversion\"], metric=\"woe\")"
   ]
  },
  {
   "cell_type": "code",
   "execution_count": 50,
   "metadata": {},
   "outputs": [
    {
     "name": "stdout",
     "output_type": "stream",
     "text": [
      "y_pred\n",
      " [0 0 0 ... 0 0 0]\n",
      "y_pred1\n",
      " [-2.25504601 -1.88996758 -2.25504601 ... -2.25504601 -2.25504601\n",
      " -2.25504601]\n"
     ]
    },
    {
     "data": {
      "image/png": "[encoded data removed]",
      "text/plain": [
       "<Figure size 432x288 with 1 Axes>"
      ]
     },
     "metadata": {
      "needs_background": "light"
     },
     "output_type": "display_data"
    }
   ],
   "source": [
    "y_pred_test = clf.predict(X_woe_test)\n",
    "y_pred1_test = clf.decision_function(X_woe_test)\n",
    "print('y_pred_test\\n', y_pred_test)\n",
    "print('y_pred1_test\\n', y_pred1_test)\n",
    "\n",
    "#Draw ROC curve and calculate AUC value\n",
    "fpr, tpr, threshold = roc_curve(y_test, y_pred1_test)\n",
    "roc_auc = auc(fpr, tpr)\n",
    "plot(fpr, tpr, color='darkorange',\n",
    "         label = 'ROC curve (area = %0.2f)' % roc_auc)\n",
    "plt.plot([0, 1], [0, 1], color = 'navy', linestyle = '--')\n",
    "plt.xlim([0.0, 1.0])\n",
    "plt.ylim([0.0, 1.0])\n",
    "plt.xlabel('False Positive Rate')\n",
    "plt.ylabel('True Positive Rate')\n",
    "plt.title('ROC_curve')\n",
    "plt.legend(loc = \"lower right\")\n",
    "plt.show()"
   ]
  },
  {
   "cell_type": "code",
   "execution_count": null,
   "metadata": {},
   "outputs": [],
   "source": []
  },
  {
   "cell_type": "code",
   "execution_count": null,
   "metadata": {},
   "outputs": [],
   "source": []
  },
  {
   "cell_type": "code",
   "execution_count": null,
   "metadata": {},
   "outputs": [],
   "source": []
  }
 ],
 "metadata": {
  "interpreter": {
   "hash": "600c25c12856a842ab64bd468beca1647a20977f2accb2696f130eafa2c53eb8"
  },
  "kernelspec": {
   "display_name": "Python 3 (ipykernel)",
   "language": "python",
   "name": "python3"
  },
  "language_info": {
   "codemirror_mode": {
    "name": "ipython",
    "version": 3
   },
   "file_extension": ".py",
   "mimetype": "text/x-python",
   "name": "python",
   "nbconvert_exporter": "python",
   "pygments_lexer": "ipython3",
   "version": "3.8.8"
  }
 },
 "nbformat": 4,
 "nbformat_minor": 2
}
