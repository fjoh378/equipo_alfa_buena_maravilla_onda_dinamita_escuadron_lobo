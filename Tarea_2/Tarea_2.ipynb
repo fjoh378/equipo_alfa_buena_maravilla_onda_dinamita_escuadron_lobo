{
 "cells": [
  {
   "cell_type": "code",
   "execution_count": 2,
   "metadata": {},
   "outputs": [],
   "source": [
    "import pandas as pd\n",
    "import numpy as np\n",
    "from sklearn.model_selection import train_test_split \n",
    "from sklearn.linear_model import LogisticRegression\n",
    "from sklearn.metrics import roc_curve, auc\n",
    "from sklearn.impute import SimpleImputer\n",
    "from sklearn.preprocessing import OneHotEncoder\n",
    "from sklearn.compose import ColumnTransformer\n",
    "from sklearn.pipeline import Pipeline\n",
    "from sklearn.tree import DecisionTreeClassifier, export_graphviz\n",
    "from sklearn import metrics\n",
    "from pylab import*\n",
    "import datetime as dt\n",
    "import seaborn as sns\n"
   ]
  },
  {
   "cell_type": "code",
   "execution_count": 3,
   "metadata": {},
   "outputs": [
    {
     "name": "stdout",
     "output_type": "stream",
     "text": [
      "<class 'pandas.core.frame.DataFrame'>\n",
      "Int64Index: 50000 entries, 0 to 49999\n",
      "Data columns (total 19 columns):\n",
      " #   Column            Non-Null Count  Dtype         \n",
      "---  ------            --------------  -----         \n",
      " 0   _id_              50000 non-null  int64         \n",
      " 1   _id2_             50000 non-null  int64         \n",
      " 2   comp_mixto1       50000 non-null  float64       \n",
      " 3   inversion         50000 non-null  float64       \n",
      " 4   fecha_inicio      50000 non-null  datetime64[ns]\n",
      " 5   comp_interno1     50000 non-null  float64       \n",
      " 6   comp_interno2     50000 non-null  object        \n",
      " 7   comp_interno3     50000 non-null  float64       \n",
      " 8   comp_interno4     50000 non-null  float64       \n",
      " 9   categoria1        50000 non-null  float64       \n",
      " 10  categoria2        50000 non-null  float64       \n",
      " 11  categoria3        50000 non-null  float64       \n",
      " 12  comp_externo1     47831 non-null  float64       \n",
      " 13  comp_externo2     44410 non-null  float64       \n",
      " 14  comp_externo3     49994 non-null  float64       \n",
      " 15  comp_externo4     50000 non-null  float64       \n",
      " 16  mes_informacion   49352 non-null  datetime64[ns]\n",
      " 17  Tiempo_aparicion  49352 non-null  float64       \n",
      " 18  comportamiento_j  49352 non-null  float64       \n",
      "dtypes: datetime64[ns](2), float64(14), int64(2), object(1)\n",
      "memory usage: 7.6+ MB\n",
      "El percentil de la inversion al 0% es 0.0\n",
      "El percentil de la inversion al 5% es 0.0\n",
      "El percentil de la inversion al 10% es 0.0\n",
      "El percentil de la inversion al 15% es 0.0\n",
      "El percentil de la inversion al 20% es 0.0\n",
      "El percentil de la inversion al 25% es 0.0\n",
      "El percentil de la inversion al 30% es 0.0\n",
      "El percentil de la inversion al 35% es 0.0\n",
      "El percentil de la inversion al 40% es 0.0\n",
      "El percentil de la inversion al 45% es 0.0\n",
      "El percentil de la inversion al 50% es 0.0\n",
      "El percentil de la inversion al 55% es 0.0\n",
      "El percentil de la inversion al 60% es 0.0\n",
      "El percentil de la inversion al 65% es 3.908984830807681e-05\n",
      "El percentil de la inversion al 70% es 2.2311680280046646\n",
      "El percentil de la inversion al 75% es 8.077030338389731\n",
      "El percentil de la inversion al 80% es 19.22502217036174\n",
      "El percentil de la inversion al 85% es 43.89290256709453\n",
      "El percentil de la inversion al 90% es 106.54414702450399\n",
      "El percentil de la inversion al 95% es 292.3297508751439\n",
      "El percentil de la inversion al 100% es 95052.3967327888\n",
      "El percentil de la inversion al 95% es 292.3297508751439\n",
      "El percentil de la inversion al 96% es 382.52494002333725\n",
      "El percentil de la inversion al 97% es 504.0245740956821\n",
      "El percentil de la inversion al 98% es 721.9328399066508\n",
      "El percentil de la inversion al 99% es 1176.977154259045\n",
      "El percentil de la inversion al 100% es 95052.3967327888\n",
      "El percentil del tiempo de aparicion al 0% es 0.0\n",
      "El percentil del tiempo de aparicion al 5% es 2.0\n",
      "El percentil del tiempo de aparicion al 10% es 5.0\n",
      "El percentil del tiempo de aparicion al 15% es 7.0\n",
      "El percentil del tiempo de aparicion al 20% es 9.0\n",
      "El percentil del tiempo de aparicion al 25% es 12.0\n",
      "El percentil del tiempo de aparicion al 30% es 15.0\n",
      "El percentil del tiempo de aparicion al 35% es 17.0\n",
      "El percentil del tiempo de aparicion al 40% es 20.0\n",
      "El percentil del tiempo de aparicion al 45% es 23.0\n",
      "El percentil del tiempo de aparicion al 50% es 26.0\n",
      "El percentil del tiempo de aparicion al 55% es 29.0\n",
      "El percentil del tiempo de aparicion al 60% es 32.0\n",
      "El percentil del tiempo de aparicion al 65% es 35.0\n",
      "El percentil del tiempo de aparicion al 70% es 39.0\n",
      "El percentil del tiempo de aparicion al 75% es 42.0\n",
      "El percentil del tiempo de aparicion al 80% es 46.0\n",
      "El percentil del tiempo de aparicion al 85% es 50.0\n",
      "El percentil del tiempo de aparicion al 90% es 54.0\n",
      "El percentil del tiempo de aparicion al 95% es 58.0\n",
      "El percentil del tiempo de aparicion al 100% es 64.0\n",
      "El percentil del comportamiento_j al 0% es 0.0\n",
      "El percentil del comportamiento_j al 5% es 0.0\n",
      "El percentil del comportamiento_j al 10% es 0.0\n",
      "El percentil del comportamiento_j al 15% es 0.0\n",
      "El percentil del comportamiento_j al 20% es 0.0\n",
      "El percentil del comportamiento_j al 25% es 1.0\n",
      "El percentil del comportamiento_j al 30% es 1.0\n",
      "El percentil del comportamiento_j al 35% es 1.0\n",
      "El percentil del comportamiento_j al 40% es 1.0\n",
      "El percentil del comportamiento_j al 45% es 1.0\n",
      "El percentil del comportamiento_j al 50% es 1.0\n",
      "El percentil del comportamiento_j al 55% es 1.0\n",
      "El percentil del comportamiento_j al 60% es 1.0\n",
      "El percentil del comportamiento_j al 65% es 1.0\n",
      "El percentil del comportamiento_j al 70% es 1.0\n",
      "El percentil del comportamiento_j al 75% es 1.0\n",
      "El percentil del comportamiento_j al 80% es 1.0\n",
      "El percentil del comportamiento_j al 85% es 1.0\n",
      "El percentil del comportamiento_j al 90% es 1.0\n",
      "El percentil del comportamiento_j al 95% es 2.0\n",
      "El percentil del comportamiento_j al 100% es 18.0\n",
      "\n",
      "El percentil del comportamiento_j al 95% es 2.0\n",
      "El percentil del comportamiento_j al 96% es 3.0\n",
      "El percentil del comportamiento_j al 97% es 4.0\n",
      "El percentil del comportamiento_j al 98% es 7.0\n",
      "El percentil del comportamiento_j al 99% es 9.0\n",
      "El percentil del comportamiento_j al 100% es 18.0\n"
     ]
    },
    {
     "name": "stderr",
     "output_type": "stream",
     "text": [
      "C:\\Users\\Dell\\AppData\\Local\\Temp/ipykernel_19004/2701235456.py:2: SettingWithCopyWarning: \n",
      "A value is trying to be set on a copy of a slice from a DataFrame.\n",
      "Try using .loc[row_indexer,col_indexer] = value instead\n",
      "\n",
      "See the caveats in the documentation: https://pandas.pydata.org/pandas-docs/stable/user_guide/indexing.html#returning-a-view-versus-a-copy\n",
      "  final_1['porc_inv'] = final['inversion'] / tot_inv\n"
     ]
    }
   ],
   "source": [
    "#Corremos el ejercicio 1 de la tarea anterior.\n",
    "%run ../Tarea_1./Tarea1_ej1.ipynb"
   ]
  },
  {
   "cell_type": "code",
   "execution_count": 4,
   "metadata": {},
   "outputs": [
    {
     "name": "stdout",
     "output_type": "stream",
     "text": [
      "<class 'pandas.core.frame.DataFrame'>\n",
      "Int64Index: 50000 entries, 0 to 49999\n",
      "Data columns (total 4 columns):\n",
      " #   Column           Non-Null Count  Dtype         \n",
      "---  ------           --------------  -----         \n",
      " 0   _id_             50000 non-null  object        \n",
      " 1   mes_informacion  49352 non-null  datetime64[ns]\n",
      " 2   inversion        50000 non-null  float64       \n",
      " 3   porc_inv         50000 non-null  float64       \n",
      "dtypes: datetime64[ns](1), float64(2), object(1)\n",
      "memory usage: 1.9+ MB\n"
     ]
    }
   ],
   "source": [
    "#Creamos una copia de la tabla final_1 del ejercicio 1 de la tarea anterior.\n",
    "copy_final_1 = final_1.copy()\n",
    "copy_final_1.info()"
   ]
  },
  {
   "cell_type": "code",
   "execution_count": 5,
   "metadata": {
    "scrolled": false
   },
   "outputs": [
    {
     "name": "stdout",
     "output_type": "stream",
     "text": [
      "<class 'pandas.core.frame.DataFrame'>\n",
      "Int64Index: 49352 entries, 0 to 49999\n",
      "Data columns (total 4 columns):\n",
      " #   Column           Non-Null Count  Dtype         \n",
      "---  ------           --------------  -----         \n",
      " 0   _id_             49352 non-null  object        \n",
      " 1   mes_informacion  49352 non-null  datetime64[ns]\n",
      " 2   inversion        49352 non-null  float64       \n",
      " 3   porc_inv         49352 non-null  float64       \n",
      "dtypes: datetime64[ns](1), float64(2), object(1)\n",
      "memory usage: 1.9+ MB\n"
     ]
    }
   ],
   "source": [
    "#Creamos una nueva tabla sin datos faltantes en las fechas.\n",
    "datos1 = copy_final_1.dropna()\n",
    "datos1.info()"
   ]
  },
  {
   "cell_type": "code",
   "execution_count": 6,
   "metadata": {
    "scrolled": true
   },
   "outputs": [],
   "source": [
    "#Creamos una condición que nos permita filtrar a los clientes que son aptos para recibir el crédito.\n",
    "mask = ((datos1['porc_inv'] > np.percentile(datos1['porc_inv'], 90)) | (mini & maxi ) )"
   ]
  },
  {
   "cell_type": "code",
   "execution_count": 7,
   "metadata": {},
   "outputs": [
    {
     "name": "stderr",
     "output_type": "stream",
     "text": [
      "C:\\Users\\Dell\\AppData\\Local\\Temp/ipykernel_19004/401601461.py:2: SettingWithCopyWarning: \n",
      "A value is trying to be set on a copy of a slice from a DataFrame.\n",
      "Try using .loc[row_indexer,col_indexer] = value instead\n",
      "\n",
      "See the caveats in the documentation: https://pandas.pydata.org/pandas-docs/stable/user_guide/indexing.html#returning-a-view-versus-a-copy\n",
      "  datos1['target'] = 0 #No aptos.\n",
      "C:\\Users\\Dell\\anaconda3\\lib\\site-packages\\pandas\\core\\indexing.py:1817: SettingWithCopyWarning: \n",
      "A value is trying to be set on a copy of a slice from a DataFrame.\n",
      "Try using .loc[row_indexer,col_indexer] = value instead\n",
      "\n",
      "See the caveats in the documentation: https://pandas.pydata.org/pandas-docs/stable/user_guide/indexing.html#returning-a-view-versus-a-copy\n",
      "  self._setitem_single_column(loc, value, pi)\n"
     ]
    }
   ],
   "source": [
    "#Creamos un indicador para marcar a los clientes aptos para el crédito y los que no.\n",
    "datos1['target'] = 0 #No aptos.\n",
    "datos1.loc[mask,'target'] = 1 #Aptos."
   ]
  },
  {
   "cell_type": "code",
   "execution_count": 8,
   "metadata": {},
   "outputs": [
    {
     "name": "stderr",
     "output_type": "stream",
     "text": [
      "C:\\Users\\Dell\\AppData\\Local\\Temp/ipykernel_19004/2468330874.py:2: SettingWithCopyWarning: \n",
      "A value is trying to be set on a copy of a slice from a DataFrame.\n",
      "Try using .loc[row_indexer,col_indexer] = value instead\n",
      "\n",
      "See the caveats in the documentation: https://pandas.pydata.org/pandas-docs/stable/user_guide/indexing.html#returning-a-view-versus-a-copy\n",
      "  datos1['Year'] = datos1['mes_informacion'].dt.year #Año.\n",
      "C:\\Users\\Dell\\AppData\\Local\\Temp/ipykernel_19004/2468330874.py:3: SettingWithCopyWarning: \n",
      "A value is trying to be set on a copy of a slice from a DataFrame.\n",
      "Try using .loc[row_indexer,col_indexer] = value instead\n",
      "\n",
      "See the caveats in the documentation: https://pandas.pydata.org/pandas-docs/stable/user_guide/indexing.html#returning-a-view-versus-a-copy\n",
      "  datos1['Month'] = datos1['mes_informacion'].dt.month #Mes.\n",
      "C:\\Users\\Dell\\AppData\\Local\\Temp/ipykernel_19004/2468330874.py:4: SettingWithCopyWarning: \n",
      "A value is trying to be set on a copy of a slice from a DataFrame.\n",
      "Try using .loc[row_indexer,col_indexer] = value instead\n",
      "\n",
      "See the caveats in the documentation: https://pandas.pydata.org/pandas-docs/stable/user_guide/indexing.html#returning-a-view-versus-a-copy\n",
      "  datos1['Day'] = datos1['mes_informacion'].dt.day #Día.\n"
     ]
    }
   ],
   "source": [
    "#Las fechas las separamos de tal forma que el día, el mes y el año estén cada uno en una columna separada.\n",
    "datos1['Year'] = datos1['mes_informacion'].dt.year #Año.\n",
    "datos1['Month'] = datos1['mes_informacion'].dt.month #Mes.\n",
    "datos1['Day'] = datos1['mes_informacion'].dt.day #Día."
   ]
  },
  {
   "cell_type": "code",
   "execution_count": 9,
   "metadata": {},
   "outputs": [
    {
     "data": {
      "text/html": [
       "<div>\n",
       "<style scoped>\n",
       "    .dataframe tbody tr th:only-of-type {\n",
       "        vertical-align: middle;\n",
       "    }\n",
       "\n",
       "    .dataframe tbody tr th {\n",
       "        vertical-align: top;\n",
       "    }\n",
       "\n",
       "    .dataframe thead th {\n",
       "        text-align: right;\n",
       "    }\n",
       "</style>\n",
       "<table border=\"1\" class=\"dataframe\">\n",
       "  <thead>\n",
       "    <tr style=\"text-align: right;\">\n",
       "      <th></th>\n",
       "      <th>_id_</th>\n",
       "      <th>Year</th>\n",
       "      <th>Month</th>\n",
       "      <th>Day</th>\n",
       "      <th>inversion</th>\n",
       "      <th>porc_inv</th>\n",
       "      <th>target</th>\n",
       "    </tr>\n",
       "  </thead>\n",
       "  <tbody>\n",
       "    <tr>\n",
       "      <th>0</th>\n",
       "      <td>78213</td>\n",
       "      <td>2021</td>\n",
       "      <td>5</td>\n",
       "      <td>1</td>\n",
       "      <td>0.000000</td>\n",
       "      <td>0.000000e+00</td>\n",
       "      <td>0</td>\n",
       "    </tr>\n",
       "    <tr>\n",
       "      <th>1</th>\n",
       "      <td>76457</td>\n",
       "      <td>2021</td>\n",
       "      <td>5</td>\n",
       "      <td>1</td>\n",
       "      <td>0.041039</td>\n",
       "      <td>1.258548e-08</td>\n",
       "      <td>0</td>\n",
       "    </tr>\n",
       "    <tr>\n",
       "      <th>2</th>\n",
       "      <td>40666</td>\n",
       "      <td>2019</td>\n",
       "      <td>5</td>\n",
       "      <td>1</td>\n",
       "      <td>0.000000</td>\n",
       "      <td>0.000000e+00</td>\n",
       "      <td>0</td>\n",
       "    </tr>\n",
       "    <tr>\n",
       "      <th>3</th>\n",
       "      <td>8329</td>\n",
       "      <td>2021</td>\n",
       "      <td>5</td>\n",
       "      <td>1</td>\n",
       "      <td>0.000000</td>\n",
       "      <td>0.000000e+00</td>\n",
       "      <td>0</td>\n",
       "    </tr>\n",
       "    <tr>\n",
       "      <th>4</th>\n",
       "      <td>68389</td>\n",
       "      <td>2021</td>\n",
       "      <td>5</td>\n",
       "      <td>1</td>\n",
       "      <td>77.422135</td>\n",
       "      <td>2.374342e-05</td>\n",
       "      <td>0</td>\n",
       "    </tr>\n",
       "  </tbody>\n",
       "</table>\n",
       "</div>"
      ],
      "text/plain": [
       "    _id_  Year  Month  Day  inversion      porc_inv  target\n",
       "0  78213  2021      5    1   0.000000  0.000000e+00       0\n",
       "1  76457  2021      5    1   0.041039  1.258548e-08       0\n",
       "2  40666  2019      5    1   0.000000  0.000000e+00       0\n",
       "3   8329  2021      5    1   0.000000  0.000000e+00       0\n",
       "4  68389  2021      5    1  77.422135  2.374342e-05       0"
      ]
     },
     "execution_count": 9,
     "metadata": {},
     "output_type": "execute_result"
    }
   ],
   "source": [
    "#Creamos la tabla que utilizaremos para los algoritmos que incluyen los cambios antes mencionados.\n",
    "rdy_table = datos1[['_id_','Year','Month','Day','inversion','porc_inv','target']]\n",
    "rdy_table.head()"
   ]
  },
  {
   "cell_type": "code",
   "execution_count": null,
   "metadata": {},
   "outputs": [],
   "source": []
  },
  {
   "cell_type": "code",
   "execution_count": null,
   "metadata": {},
   "outputs": [],
   "source": []
  },
  {
   "cell_type": "code",
   "execution_count": null,
   "metadata": {},
   "outputs": [],
   "source": []
  },
  {
   "cell_type": "code",
   "execution_count": null,
   "metadata": {},
   "outputs": [],
   "source": []
  },
  {
   "cell_type": "code",
   "execution_count": null,
   "metadata": {},
   "outputs": [],
   "source": []
  },
  {
   "cell_type": "code",
   "execution_count": null,
   "metadata": {},
   "outputs": [],
   "source": []
  },
  {
   "cell_type": "code",
   "execution_count": null,
   "metadata": {},
   "outputs": [],
   "source": []
  },
  {
   "cell_type": "code",
   "execution_count": null,
   "metadata": {},
   "outputs": [],
   "source": []
  },
  {
   "cell_type": "code",
   "execution_count": null,
   "metadata": {},
   "outputs": [],
   "source": []
  },
  {
   "cell_type": "code",
   "execution_count": null,
   "metadata": {},
   "outputs": [],
   "source": []
  },
  {
   "cell_type": "code",
   "execution_count": null,
   "metadata": {},
   "outputs": [],
   "source": []
  },
  {
   "cell_type": "code",
   "execution_count": null,
   "metadata": {},
   "outputs": [],
   "source": []
  },
  {
   "cell_type": "code",
   "execution_count": null,
   "metadata": {},
   "outputs": [],
   "source": []
  },
  {
   "cell_type": "code",
   "execution_count": null,
   "metadata": {},
   "outputs": [],
   "source": []
  },
  {
   "cell_type": "code",
   "execution_count": null,
   "metadata": {},
   "outputs": [],
   "source": []
  },
  {
   "cell_type": "code",
   "execution_count": null,
   "metadata": {},
   "outputs": [],
   "source": []
  },
  {
   "cell_type": "code",
   "execution_count": null,
   "metadata": {},
   "outputs": [],
   "source": []
  },
  {
   "cell_type": "code",
   "execution_count": null,
   "metadata": {},
   "outputs": [],
   "source": []
  },
  {
   "cell_type": "code",
   "execution_count": null,
   "metadata": {},
   "outputs": [],
   "source": []
  },
  {
   "cell_type": "code",
   "execution_count": null,
   "metadata": {},
   "outputs": [],
   "source": []
  }
 ],
 "metadata": {
  "interpreter": {
   "hash": "600c25c12856a842ab64bd468beca1647a20977f2accb2696f130eafa2c53eb8"
  },
  "kernelspec": {
   "display_name": "Python 3 (ipykernel)",
   "language": "python",
   "name": "python3"
  },
  "language_info": {
   "codemirror_mode": {
    "name": "ipython",
    "version": 3
   },
   "file_extension": ".py",
   "mimetype": "text/x-python",
   "name": "python",
   "nbconvert_exporter": "python",
   "pygments_lexer": "ipython3",
   "version": "3.9.7"
  }
 },
 "nbformat": 4,
 "nbformat_minor": 2
}
